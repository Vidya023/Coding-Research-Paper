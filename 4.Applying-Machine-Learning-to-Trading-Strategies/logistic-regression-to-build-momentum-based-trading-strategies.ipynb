{
 "cells": [
  {
   "cell_type": "markdown",
   "metadata": {},
   "source": [
    "## Applying Machine Learning to Trading Strategies: Using Logistic Regression to Build Momentum-based Trading Strategies - **Patrick Beaudan and Shuoyuan He**"
   ]
  },
  {
   "cell_type": "markdown",
   "metadata": {},
   "source": [
    "Objective : "
   ]
  },
  {
   "cell_type": "markdown",
   "metadata": {},
   "source": [
    "#### Steps:"
   ]
  },
  {
   "cell_type": "markdown",
   "metadata": {},
   "source": [
    "### 1. Fetching data"
   ]
  },
  {
   "cell_type": "code",
   "execution_count": 14,
   "metadata": {},
   "outputs": [],
   "source": [
    "import pandas as pd \n"
   ]
  },
  {
   "cell_type": "code",
   "execution_count": 3,
   "metadata": {},
   "outputs": [],
   "source": [
    "import pandas as pd \n",
    "import numpy as np \n",
    "import matplotlib.pyplot as plt \n",
    "%matplotlib inline \n",
    "import yfinance as yf \n",
    "plt.style.use('seaborn-v0_8-dark-palette') \n",
    "from sklearn.preprocessing import PolynomialFeatures  \n",
    "import warnings\n",
    "warnings.filterwarnings('ignore') "
   ]
  },
  {
   "cell_type": "markdown",
   "metadata": {},
   "source": [
    "#### Tickers \n",
    "1. S&P 500 Index: **^GSPC**\n",
    "2. S&P Small Cap 600 Index (SML): **^SML**\n",
    "3. S&P Mid Cap 400 Index (MID): **^MID**\n",
    "4. FTSE 100 Index (UKX): **^FTSE**\n",
    "5. FTSEurofirst 300 Index (E300): **^FTEU3**\n",
    "6. Tokyo Stock Exchange Price Index (TPX): **^TPX**\n",
    "7. Dow Jones Industrial Average Index (INDU): **^DJI**\n",
    "8. Dow Jones Transportation Average Index (TRAN): **^DJT**"
   ]
  },
  {
   "cell_type": "code",
   "execution_count": 4,
   "metadata": {},
   "outputs": [],
   "source": [
    "start = '1927-12-30'\n",
    "end = '2018-12-12'\n",
    "tickers = ['^GSPC', '^SML', '^MID', '^FTSE', '^FTEU3', '^TPX', '^DJI', '^DJT'] "
   ]
  },
  {
   "cell_type": "code",
   "execution_count": 5,
   "metadata": {},
   "outputs": [
    {
     "name": "stderr",
     "output_type": "stream",
     "text": [
      "[*********************100%%**********************]  1 of 1 completed\n"
     ]
    }
   ],
   "source": [
    "start = '1927-12-30'\n",
    "end = '2018-12-12'\n",
    "\n",
    "data = yf.download('^GSPC',start=start,end=end) "
   ]
  },
  {
   "cell_type": "code",
   "execution_count": 7,
   "metadata": {},
   "outputs": [
    {
     "data": {
      "text/html": [
       "<div>\n",
       "<style scoped>\n",
       "    .dataframe tbody tr th:only-of-type {\n",
       "        vertical-align: middle;\n",
       "    }\n",
       "\n",
       "    .dataframe tbody tr th {\n",
       "        vertical-align: top;\n",
       "    }\n",
       "\n",
       "    .dataframe thead th {\n",
       "        text-align: right;\n",
       "    }\n",
       "</style>\n",
       "<table border=\"1\" class=\"dataframe\">\n",
       "  <thead>\n",
       "    <tr style=\"text-align: right;\">\n",
       "      <th></th>\n",
       "      <th>Open</th>\n",
       "      <th>High</th>\n",
       "      <th>Low</th>\n",
       "      <th>Close</th>\n",
       "      <th>Adj Close</th>\n",
       "      <th>Volume</th>\n",
       "    </tr>\n",
       "    <tr>\n",
       "      <th>Date</th>\n",
       "      <th></th>\n",
       "      <th></th>\n",
       "      <th></th>\n",
       "      <th></th>\n",
       "      <th></th>\n",
       "      <th></th>\n",
       "    </tr>\n",
       "  </thead>\n",
       "  <tbody>\n",
       "    <tr>\n",
       "      <th>2018-12-04</th>\n",
       "      <td>2782.429932</td>\n",
       "      <td>2785.929932</td>\n",
       "      <td>2697.179932</td>\n",
       "      <td>2700.060059</td>\n",
       "      <td>2700.060059</td>\n",
       "      <td>4515710000</td>\n",
       "    </tr>\n",
       "    <tr>\n",
       "      <th>2018-12-06</th>\n",
       "      <td>2663.510010</td>\n",
       "      <td>2696.149902</td>\n",
       "      <td>2621.530029</td>\n",
       "      <td>2695.949951</td>\n",
       "      <td>2695.949951</td>\n",
       "      <td>5180430000</td>\n",
       "    </tr>\n",
       "    <tr>\n",
       "      <th>2018-12-07</th>\n",
       "      <td>2691.260010</td>\n",
       "      <td>2708.540039</td>\n",
       "      <td>2623.139893</td>\n",
       "      <td>2633.080078</td>\n",
       "      <td>2633.080078</td>\n",
       "      <td>4242240000</td>\n",
       "    </tr>\n",
       "    <tr>\n",
       "      <th>2018-12-10</th>\n",
       "      <td>2630.860107</td>\n",
       "      <td>2647.510010</td>\n",
       "      <td>2583.229980</td>\n",
       "      <td>2637.719971</td>\n",
       "      <td>2637.719971</td>\n",
       "      <td>4162880000</td>\n",
       "    </tr>\n",
       "    <tr>\n",
       "      <th>2018-12-11</th>\n",
       "      <td>2664.439941</td>\n",
       "      <td>2674.350098</td>\n",
       "      <td>2621.300049</td>\n",
       "      <td>2636.780029</td>\n",
       "      <td>2636.780029</td>\n",
       "      <td>3963440000</td>\n",
       "    </tr>\n",
       "  </tbody>\n",
       "</table>\n",
       "</div>"
      ],
      "text/plain": [
       "                   Open         High          Low        Close    Adj Close  \\\n",
       "Date                                                                          \n",
       "2018-12-04  2782.429932  2785.929932  2697.179932  2700.060059  2700.060059   \n",
       "2018-12-06  2663.510010  2696.149902  2621.530029  2695.949951  2695.949951   \n",
       "2018-12-07  2691.260010  2708.540039  2623.139893  2633.080078  2633.080078   \n",
       "2018-12-10  2630.860107  2647.510010  2583.229980  2637.719971  2637.719971   \n",
       "2018-12-11  2664.439941  2674.350098  2621.300049  2636.780029  2636.780029   \n",
       "\n",
       "                Volume  \n",
       "Date                    \n",
       "2018-12-04  4515710000  \n",
       "2018-12-06  5180430000  \n",
       "2018-12-07  4242240000  \n",
       "2018-12-10  4162880000  \n",
       "2018-12-11  3963440000  "
      ]
     },
     "execution_count": 7,
     "metadata": {},
     "output_type": "execute_result"
    }
   ],
   "source": [
    "data.tail()  "
   ]
  },
  {
   "cell_type": "markdown",
   "metadata": {},
   "source": [
    "## A. Classical Time-Series Dual-Momentum Trading Strategy"
   ]
  },
  {
   "cell_type": "markdown",
   "metadata": {},
   "source": [
    "### 1. Defining class to include base-features Momentum and Drawdown"
   ]
  },
  {
   "cell_type": "code",
   "execution_count": 8,
   "metadata": {},
   "outputs": [],
   "source": [
    "class IncludeFeatures:\n",
    "    def __init__(self):\n",
    "        pass \n",
    "\n",
    "    def calculate_momentum(self,prices,window):\n",
    "        return prices.pct_change(periods=window).iloc[-1] \n",
    "    \n",
    "    def calculate_drawdown(self,prices,window):\n",
    "        rolling_max = prices.rolling(window=window, min_periods=1).max() \n",
    "        daily_drawdown = prices/rolling_max-1.0\n",
    "        return daily_drawdown \n",
    "    \n",
    "    def calculate_future_momentun(prices,future_days):  # Function to calculate future momentum\n",
    "        return prices.shift(-future_days)/prices-1 \n",
    "\n",
    "    def incl_feat(self,data):\n",
    "        momentum_windows = [30, 60, 90, 120, 180, 270, 300, 360] \n",
    "        drawdown_windows = [15, 60, 90, 120]\n",
    "\n",
    "        for window in momentum_windows:     # Calculate momentum for each window\n",
    "            data[f'momentum_{window}'] = self.calculate_momentum(data['Adj Close'], window) \n",
    "\n",
    "        for window in drawdown_windows:     # Calculate drawdown for each window\n",
    "            data[f'drawdown_{window}'] = self.calculate_drawdown(data['Adj Close'],window)\n",
    "\n",
    "        future_days = 30    # Calculating future momentum\n",
    "        data['future_momentum'] = calculate_future_momentun(data['Adj Close'], future_days) \n",
    "\n",
    "        threshold = 0.05    # Create binary target variable \n",
    "        data['target'] = (data['future_momentum']>threshold).astype(int)   \n",
    "\n",
    "        data.dropna(inplace=True) \n",
    "        \n",
    "        return data \n",
    "\n",
    "include_features = IncludeFeatures()                  "
   ]
  },
  {
   "cell_type": "markdown",
   "metadata": {},
   "source": [
    "### 4. Calculate Future Momentum and Create Target Variable"
   ]
  },
  {
   "cell_type": "markdown",
   "metadata": {},
   "source": [
    "Calculate future momentum and create the binary target variable based on the 5% threshold."
   ]
  },
  {
   "cell_type": "code",
   "execution_count": 11,
   "metadata": {},
   "outputs": [
    {
     "data": {
      "text/html": [
       "<div>\n",
       "<style scoped>\n",
       "    .dataframe tbody tr th:only-of-type {\n",
       "        vertical-align: middle;\n",
       "    }\n",
       "\n",
       "    .dataframe tbody tr th {\n",
       "        vertical-align: top;\n",
       "    }\n",
       "\n",
       "    .dataframe thead th {\n",
       "        text-align: right;\n",
       "    }\n",
       "</style>\n",
       "<table border=\"1\" class=\"dataframe\">\n",
       "  <thead>\n",
       "    <tr style=\"text-align: right;\">\n",
       "      <th></th>\n",
       "      <th>Open</th>\n",
       "      <th>High</th>\n",
       "      <th>Low</th>\n",
       "      <th>Close</th>\n",
       "      <th>Adj Close</th>\n",
       "      <th>Volume</th>\n",
       "      <th>momentum_30</th>\n",
       "      <th>momentum_60</th>\n",
       "      <th>momentum_90</th>\n",
       "      <th>momentum_120</th>\n",
       "      <th>momentum_180</th>\n",
       "      <th>momentum_270</th>\n",
       "      <th>momentum_300</th>\n",
       "      <th>momentum_360</th>\n",
       "      <th>drawdown_15</th>\n",
       "      <th>drawdown_60</th>\n",
       "      <th>drawdown_90</th>\n",
       "      <th>drawdown_120</th>\n",
       "      <th>future_momentum</th>\n",
       "      <th>target</th>\n",
       "    </tr>\n",
       "    <tr>\n",
       "      <th>Date</th>\n",
       "      <th></th>\n",
       "      <th></th>\n",
       "      <th></th>\n",
       "      <th></th>\n",
       "      <th></th>\n",
       "      <th></th>\n",
       "      <th></th>\n",
       "      <th></th>\n",
       "      <th></th>\n",
       "      <th></th>\n",
       "      <th></th>\n",
       "      <th></th>\n",
       "      <th></th>\n",
       "      <th></th>\n",
       "      <th></th>\n",
       "      <th></th>\n",
       "      <th></th>\n",
       "      <th></th>\n",
       "      <th></th>\n",
       "      <th></th>\n",
       "    </tr>\n",
       "  </thead>\n",
       "  <tbody>\n",
       "    <tr>\n",
       "      <th>2018-12-04</th>\n",
       "      <td>2782.429932</td>\n",
       "      <td>2785.929932</td>\n",
       "      <td>2697.179932</td>\n",
       "      <td>2700.060059</td>\n",
       "      <td>2700.060059</td>\n",
       "      <td>4515710000</td>\n",
       "      <td>-0.008241</td>\n",
       "      <td>-0.092324</td>\n",
       "      <td>-0.067359</td>\n",
       "      <td>-0.047172</td>\n",
       "      <td>-0.008189</td>\n",
       "      <td>0.020094</td>\n",
       "      <td>0.042568</td>\n",
       "      <td>0.087251</td>\n",
       "      <td>-0.032365</td>\n",
       "      <td>-0.078714</td>\n",
       "      <td>-0.078714</td>\n",
       "      <td>-0.078714</td>\n",
       "      <td>NaN</td>\n",
       "      <td>0</td>\n",
       "    </tr>\n",
       "    <tr>\n",
       "      <th>2018-12-06</th>\n",
       "      <td>2663.510010</td>\n",
       "      <td>2696.149902</td>\n",
       "      <td>2621.530029</td>\n",
       "      <td>2695.949951</td>\n",
       "      <td>2695.949951</td>\n",
       "      <td>5180430000</td>\n",
       "      <td>-0.008241</td>\n",
       "      <td>-0.092324</td>\n",
       "      <td>-0.067359</td>\n",
       "      <td>-0.047172</td>\n",
       "      <td>-0.008189</td>\n",
       "      <td>0.020094</td>\n",
       "      <td>0.042568</td>\n",
       "      <td>0.087251</td>\n",
       "      <td>-0.033838</td>\n",
       "      <td>-0.080116</td>\n",
       "      <td>-0.080116</td>\n",
       "      <td>-0.080116</td>\n",
       "      <td>NaN</td>\n",
       "      <td>0</td>\n",
       "    </tr>\n",
       "    <tr>\n",
       "      <th>2018-12-07</th>\n",
       "      <td>2691.260010</td>\n",
       "      <td>2708.540039</td>\n",
       "      <td>2623.139893</td>\n",
       "      <td>2633.080078</td>\n",
       "      <td>2633.080078</td>\n",
       "      <td>4242240000</td>\n",
       "      <td>-0.008241</td>\n",
       "      <td>-0.092324</td>\n",
       "      <td>-0.067359</td>\n",
       "      <td>-0.047172</td>\n",
       "      <td>-0.008189</td>\n",
       "      <td>0.020094</td>\n",
       "      <td>0.042568</td>\n",
       "      <td>0.087251</td>\n",
       "      <td>-0.056369</td>\n",
       "      <td>-0.101568</td>\n",
       "      <td>-0.101568</td>\n",
       "      <td>-0.101568</td>\n",
       "      <td>NaN</td>\n",
       "      <td>0</td>\n",
       "    </tr>\n",
       "    <tr>\n",
       "      <th>2018-12-10</th>\n",
       "      <td>2630.860107</td>\n",
       "      <td>2647.510010</td>\n",
       "      <td>2583.229980</td>\n",
       "      <td>2637.719971</td>\n",
       "      <td>2637.719971</td>\n",
       "      <td>4162880000</td>\n",
       "      <td>-0.008241</td>\n",
       "      <td>-0.092324</td>\n",
       "      <td>-0.067359</td>\n",
       "      <td>-0.047172</td>\n",
       "      <td>-0.008189</td>\n",
       "      <td>0.020094</td>\n",
       "      <td>0.042568</td>\n",
       "      <td>0.087251</td>\n",
       "      <td>-0.054706</td>\n",
       "      <td>-0.099985</td>\n",
       "      <td>-0.099985</td>\n",
       "      <td>-0.099985</td>\n",
       "      <td>NaN</td>\n",
       "      <td>0</td>\n",
       "    </tr>\n",
       "    <tr>\n",
       "      <th>2018-12-11</th>\n",
       "      <td>2664.439941</td>\n",
       "      <td>2674.350098</td>\n",
       "      <td>2621.300049</td>\n",
       "      <td>2636.780029</td>\n",
       "      <td>2636.780029</td>\n",
       "      <td>3963440000</td>\n",
       "      <td>-0.008241</td>\n",
       "      <td>-0.092324</td>\n",
       "      <td>-0.067359</td>\n",
       "      <td>-0.047172</td>\n",
       "      <td>-0.008189</td>\n",
       "      <td>0.020094</td>\n",
       "      <td>0.042568</td>\n",
       "      <td>0.087251</td>\n",
       "      <td>-0.055043</td>\n",
       "      <td>-0.100305</td>\n",
       "      <td>-0.100305</td>\n",
       "      <td>-0.100305</td>\n",
       "      <td>NaN</td>\n",
       "      <td>0</td>\n",
       "    </tr>\n",
       "  </tbody>\n",
       "</table>\n",
       "</div>"
      ],
      "text/plain": [
       "                   Open         High          Low        Close    Adj Close  \\\n",
       "Date                                                                          \n",
       "2018-12-04  2782.429932  2785.929932  2697.179932  2700.060059  2700.060059   \n",
       "2018-12-06  2663.510010  2696.149902  2621.530029  2695.949951  2695.949951   \n",
       "2018-12-07  2691.260010  2708.540039  2623.139893  2633.080078  2633.080078   \n",
       "2018-12-10  2630.860107  2647.510010  2583.229980  2637.719971  2637.719971   \n",
       "2018-12-11  2664.439941  2674.350098  2621.300049  2636.780029  2636.780029   \n",
       "\n",
       "                Volume  momentum_30  momentum_60  momentum_90  momentum_120  \\\n",
       "Date                                                                          \n",
       "2018-12-04  4515710000    -0.008241    -0.092324    -0.067359     -0.047172   \n",
       "2018-12-06  5180430000    -0.008241    -0.092324    -0.067359     -0.047172   \n",
       "2018-12-07  4242240000    -0.008241    -0.092324    -0.067359     -0.047172   \n",
       "2018-12-10  4162880000    -0.008241    -0.092324    -0.067359     -0.047172   \n",
       "2018-12-11  3963440000    -0.008241    -0.092324    -0.067359     -0.047172   \n",
       "\n",
       "            momentum_180  momentum_270  momentum_300  momentum_360  \\\n",
       "Date                                                                 \n",
       "2018-12-04     -0.008189      0.020094      0.042568      0.087251   \n",
       "2018-12-06     -0.008189      0.020094      0.042568      0.087251   \n",
       "2018-12-07     -0.008189      0.020094      0.042568      0.087251   \n",
       "2018-12-10     -0.008189      0.020094      0.042568      0.087251   \n",
       "2018-12-11     -0.008189      0.020094      0.042568      0.087251   \n",
       "\n",
       "            drawdown_15  drawdown_60  drawdown_90  drawdown_120  \\\n",
       "Date                                                              \n",
       "2018-12-04    -0.032365    -0.078714    -0.078714     -0.078714   \n",
       "2018-12-06    -0.033838    -0.080116    -0.080116     -0.080116   \n",
       "2018-12-07    -0.056369    -0.101568    -0.101568     -0.101568   \n",
       "2018-12-10    -0.054706    -0.099985    -0.099985     -0.099985   \n",
       "2018-12-11    -0.055043    -0.100305    -0.100305     -0.100305   \n",
       "\n",
       "            future_momentum  target  \n",
       "Date                                 \n",
       "2018-12-04              NaN       0  \n",
       "2018-12-06              NaN       0  \n",
       "2018-12-07              NaN       0  \n",
       "2018-12-10              NaN       0  \n",
       "2018-12-11              NaN       0  "
      ]
     },
     "execution_count": 11,
     "metadata": {},
     "output_type": "execute_result"
    }
   ],
   "source": [
    "def calculate_future_momentun(prices,future_days):  # Function to calculate future momentum\n",
    "    return prices.shift(-future_days)/prices-1 \n",
    "\n",
    "future_days = 30    # Calculating future momentum\n",
    "data['future_momentum'] = calculate_future_momentun(data['Adj Close'], future_days) \n",
    "\n",
    "threshold = 0.05    # Create binary target variable \n",
    "data['target'] = (data['future_momentum']>threshold).astype(int) \n",
    "\n",
    "data.tail() "
   ]
  },
  {
   "cell_type": "code",
   "execution_count": 12,
   "metadata": {},
   "outputs": [
    {
     "data": {
      "text/plain": [
       "0"
      ]
     },
     "execution_count": 12,
     "metadata": {},
     "output_type": "execute_result"
    }
   ],
   "source": [
    "data.dropna(inplace=True) \n",
    "data.isna().sum().sum() "
   ]
  },
  {
   "cell_type": "markdown",
   "metadata": {},
   "source": [
    "### 5. Creating Linear Combination of features"
   ]
  },
  {
   "cell_type": "code",
   "execution_count": 13,
   "metadata": {},
   "outputs": [],
   "source": [
    "data_linear = data.copy() "
   ]
  },
  {
   "cell_type": "code",
   "execution_count": 10,
   "metadata": {},
   "outputs": [],
   "source": [
    "X = data_linear.drop(columns=['target'],axis=1) \n",
    "Y = data_linear['target'] "
   ]
  },
  {
   "cell_type": "markdown",
   "metadata": {},
   "source": [
    "### 6. Class to create Polynomial with Feature combinations"
   ]
  },
  {
   "cell_type": "code",
   "execution_count": 11,
   "metadata": {},
   "outputs": [],
   "source": [
    "from sklearn.preprocessing import PolynomialFeatures  "
   ]
  },
  {
   "cell_type": "code",
   "execution_count": 24,
   "metadata": {},
   "outputs": [],
   "source": [
    "class polynomial_features:\n",
    "    def __init__(self):\n",
    "        pass \n",
    "\n",
    "    def poly_feat(self,X,degree):\n",
    "        poly = PolynomialFeatures(degree=degree, include_bias=False)\n",
    "        x_poly = poly.fit_transform(X)\n",
    "        return x_poly "
   ]
  },
  {
   "cell_type": "code",
   "execution_count": 25,
   "metadata": {},
   "outputs": [],
   "source": [
    "poly = polynomial_features()\n",
    "\n",
    "X_quad = poly.poly_feat(X,2) \n",
    "X_cube = poly.poly_feat(X,3) \n",
    "# X_quad = poly.poly_feat(X,4) "
   ]
  },
  {
   "cell_type": "markdown",
   "metadata": {},
   "source": [
    "### 9. Class for Training and Evaluating the model"
   ]
  },
  {
   "cell_type": "code",
   "execution_count": 17,
   "metadata": {},
   "outputs": [],
   "source": [
    "from sklearn.preprocessing import StandardScaler \n",
    "from sklearn.model_selection import train_test_split \n",
    "from sklearn.linear_model import LogisticRegression \n",
    "from sklearn.metrics import accuracy_score, confusion_matrix, classification_report "
   ]
  },
  {
   "cell_type": "code",
   "execution_count": 18,
   "metadata": {},
   "outputs": [],
   "source": [
    "class Logistic_Regression:\n",
    "    def __init__(self):\n",
    "        self.test_size = 0.2\n",
    "        self.random_state = 42  \n",
    "\n",
    "    def scaling_x(self,X):\n",
    "        scaler = StandardScaler() \n",
    "        scaled_X = scaler.fit_transform(X) \n",
    "        return scaled_X \n",
    "    \n",
    "    def model_metrics(self,model,x_test,y_test):\n",
    "        probabilities = model.predict_proba(x_test)[:,1] \n",
    "\n",
    "        threshold_probability = 0.05\n",
    "        investment_decisions = (probabilities > threshold_probability).astype(int) \n",
    "        \n",
    "        accuracy = accuracy_score(y_test,investment_decisions) \n",
    "        conf_matrix = confusion_matrix(y_test, investment_decisions)\n",
    "        class_report = classification_report(y_test, investment_decisions) \n",
    "        print(f'Accuracy : {accuracy}')\n",
    "        print('Confusion Matrix : ')\n",
    "        print(conf_matrix)\n",
    "        print('Class_Report') \n",
    "        print(class_report) \n",
    "\n",
    "    def training_model(self,X,Y):\n",
    "        scaled_X = self.scaling_x(X) \n",
    "        x_train, x_test, y_train, y_test = train_test_split(scaled_X, Y, test_size=self.test_size, \n",
    "                                                            shuffle=False, random_state=self.random_state)\n",
    "\n",
    "        model = LogisticRegression() \n",
    "        model.fit(x_train,y_train)  \n",
    "        self.model_metrics(model, x_test, y_test) \n",
    "\n",
    "logistic = Logistic_Regression() "
   ]
  },
  {
   "cell_type": "markdown",
   "metadata": {},
   "source": [
    "### 10. Evaluation - Linear Combination of Features"
   ]
  },
  {
   "cell_type": "code",
   "execution_count": 19,
   "metadata": {},
   "outputs": [
    {
     "name": "stdout",
     "output_type": "stream",
     "text": [
      "Accuracy : 0.930528161297392\n",
      "Confusion Matrix : \n",
      "[[3541  317]\n",
      " [   0  705]]\n",
      "Class_Report\n",
      "              precision    recall  f1-score   support\n",
      "\n",
      "           0       1.00      0.92      0.96      3858\n",
      "           1       0.69      1.00      0.82       705\n",
      "\n",
      "    accuracy                           0.93      4563\n",
      "   macro avg       0.84      0.96      0.89      4563\n",
      "weighted avg       0.95      0.93      0.94      4563\n",
      "\n"
     ]
    }
   ],
   "source": [
    "logistic.training_model(X,Y) "
   ]
  },
  {
   "cell_type": "markdown",
   "metadata": {},
   "source": [
    "### 11. Evaluation - Quadratic polynomial of feature combinations"
   ]
  },
  {
   "cell_type": "code",
   "execution_count": 20,
   "metadata": {},
   "outputs": [
    {
     "name": "stdout",
     "output_type": "stream",
     "text": [
      "Accuracy : 0.9344729344729344\n",
      "Confusion Matrix : \n",
      "[[3559  299]\n",
      " [   0  705]]\n",
      "Class_Report\n",
      "              precision    recall  f1-score   support\n",
      "\n",
      "           0       1.00      0.92      0.96      3858\n",
      "           1       0.70      1.00      0.83       705\n",
      "\n",
      "    accuracy                           0.93      4563\n",
      "   macro avg       0.85      0.96      0.89      4563\n",
      "weighted avg       0.95      0.93      0.94      4563\n",
      "\n"
     ]
    }
   ],
   "source": [
    "logistic.training_model(X_quad,Y) "
   ]
  },
  {
   "cell_type": "markdown",
   "metadata": {},
   "source": [
    "### 12. Evaluation - Cubic polynomial of feature combinations"
   ]
  },
  {
   "cell_type": "code",
   "execution_count": 21,
   "metadata": {},
   "outputs": [
    {
     "name": "stdout",
     "output_type": "stream",
     "text": [
      "Accuracy : 0.3657681349989042\n",
      "Confusion Matrix : \n",
      "[[ 964 2894]\n",
      " [   0  705]]\n",
      "Class_Report\n",
      "              precision    recall  f1-score   support\n",
      "\n",
      "           0       1.00      0.25      0.40      3858\n",
      "           1       0.20      1.00      0.33       705\n",
      "\n",
      "    accuracy                           0.37      4563\n",
      "   macro avg       0.60      0.62      0.36      4563\n",
      "weighted avg       0.88      0.37      0.39      4563\n",
      "\n"
     ]
    }
   ],
   "source": [
    "logistic.training_model(X_cube,Y)  "
   ]
  },
  {
   "cell_type": "markdown",
   "metadata": {},
   "source": [
    "### 13. Evaluation - 4^th power polynomial of feature combinations"
   ]
  },
  {
   "cell_type": "code",
   "execution_count": 23,
   "metadata": {},
   "outputs": [],
   "source": [
    "# logistic.training_model(X_four,Y)  "
   ]
  },
  {
   "cell_type": "code",
   "execution_count": null,
   "metadata": {},
   "outputs": [],
   "source": []
  }
 ],
 "metadata": {
  "kernelspec": {
   "display_name": "pyten",
   "language": "python",
   "name": "python3"
  },
  "language_info": {
   "codemirror_mode": {
    "name": "ipython",
    "version": 3
   },
   "file_extension": ".py",
   "mimetype": "text/x-python",
   "name": "python",
   "nbconvert_exporter": "python",
   "pygments_lexer": "ipython3",
   "version": "3.12.4"
  }
 },
 "nbformat": 4,
 "nbformat_minor": 2
}
