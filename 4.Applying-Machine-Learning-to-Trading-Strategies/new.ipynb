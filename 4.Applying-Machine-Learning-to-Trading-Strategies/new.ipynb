{
 "cells": [
  {
   "cell_type": "markdown",
   "metadata": {},
   "source": [
    "## Applying Machine Learning to Trading Strategies: Using Logistic Regression to Build Momentum-based Trading Strategies - **Patrick Beaudan and Shuoyuan He**"
   ]
  },
  {
   "cell_type": "markdown",
   "metadata": {},
   "source": [
    "Objectives :\n",
    "\n",
    "    1. Addressing the drawbacks of classical approach in building investment strategies\n",
    "    2. Use of ML Model, Logistic Regression, to build a time-series dual momentum trading strategy on the S&P 500 Index\n",
    "    3. Showing how the proposed model outperforms both buy-and-hold and several base-case dual momentum strategies, significantly increasing returns and reducing risk\n",
    "    4. Applying the algorithm to other U.S. and international large capitalization equity indices \n",
    "    5. Analyzing yields improvements in risk-adjusted performance. "
   ]
  },
  {
   "cell_type": "markdown",
   "metadata": {},
   "source": [
    "### 1. Fetching data"
   ]
  },
  {
   "cell_type": "code",
   "execution_count": 1,
   "metadata": {},
   "outputs": [],
   "source": [
    "import pandas as pd \n",
    "import numpy as np \n",
    "import matplotlib.pyplot as plt \n",
    "import seaborn as sns \n",
    "%matplotlib inline \n",
    "plt.style.use('seaborn-v0_8-dark-palette')\n",
    "import yfinance as yf \n",
    "from sklearn.preprocessing import PolynomialFeatures \n",
    "import warnings\n",
    "warnings.filterwarnings('ignore') "
   ]
  },
  {
   "cell_type": "markdown",
   "metadata": {},
   "source": [
    "#### Tickers \n",
    "1. S&P 500 Index: **^GSPC**\n",
    "2. S&P Small Cap 600 Index (SML): **^SML**\n",
    "3. S&P Mid Cap 400 Index (MID): **^MID**\n",
    "4. FTSE 100 Index (UKX): **^FTSE**\n",
    "5. FTSEurofirst 300 Index (E300): **^FTEU3**\n",
    "6. Tokyo Stock Exchange Price Index (TPX): **^TPX**\n",
    "7. Dow Jones Industrial Average Index (INDU): **^DJI**\n",
    "8. Dow Jones Transportation Average Index (TRAN): **^DJT**"
   ]
  },
  {
   "cell_type": "code",
   "execution_count": 2,
   "metadata": {},
   "outputs": [],
   "source": [
    "start = '1927-12-30'\n",
    "end = '2018-12-12'\n",
    "tickers = ['^GSPC', '^SML', '^MID', '^FTSE', '^FTEU3', '^TPX', '^DJI', '^DJT'] "
   ]
  },
  {
   "cell_type": "code",
   "execution_count": 3,
   "metadata": {},
   "outputs": [
    {
     "name": "stderr",
     "output_type": "stream",
     "text": [
      "[*********************100%%**********************]  1 of 1 completed\n"
     ]
    },
    {
     "data": {
      "text/html": [
       "<div>\n",
       "<style scoped>\n",
       "    .dataframe tbody tr th:only-of-type {\n",
       "        vertical-align: middle;\n",
       "    }\n",
       "\n",
       "    .dataframe tbody tr th {\n",
       "        vertical-align: top;\n",
       "    }\n",
       "\n",
       "    .dataframe thead th {\n",
       "        text-align: right;\n",
       "    }\n",
       "</style>\n",
       "<table border=\"1\" class=\"dataframe\">\n",
       "  <thead>\n",
       "    <tr style=\"text-align: right;\">\n",
       "      <th></th>\n",
       "      <th>Open</th>\n",
       "      <th>High</th>\n",
       "      <th>Low</th>\n",
       "      <th>Close</th>\n",
       "      <th>Adj Close</th>\n",
       "      <th>Volume</th>\n",
       "    </tr>\n",
       "    <tr>\n",
       "      <th>Date</th>\n",
       "      <th></th>\n",
       "      <th></th>\n",
       "      <th></th>\n",
       "      <th></th>\n",
       "      <th></th>\n",
       "      <th></th>\n",
       "    </tr>\n",
       "  </thead>\n",
       "  <tbody>\n",
       "    <tr>\n",
       "      <th>2018-12-07</th>\n",
       "      <td>2691.260010</td>\n",
       "      <td>2708.540039</td>\n",
       "      <td>2623.139893</td>\n",
       "      <td>2633.080078</td>\n",
       "      <td>2633.080078</td>\n",
       "      <td>4242240000</td>\n",
       "    </tr>\n",
       "    <tr>\n",
       "      <th>2018-12-10</th>\n",
       "      <td>2630.860107</td>\n",
       "      <td>2647.510010</td>\n",
       "      <td>2583.229980</td>\n",
       "      <td>2637.719971</td>\n",
       "      <td>2637.719971</td>\n",
       "      <td>4162880000</td>\n",
       "    </tr>\n",
       "    <tr>\n",
       "      <th>2018-12-11</th>\n",
       "      <td>2664.439941</td>\n",
       "      <td>2674.350098</td>\n",
       "      <td>2621.300049</td>\n",
       "      <td>2636.780029</td>\n",
       "      <td>2636.780029</td>\n",
       "      <td>3963440000</td>\n",
       "    </tr>\n",
       "  </tbody>\n",
       "</table>\n",
       "</div>"
      ],
      "text/plain": [
       "                   Open         High          Low        Close    Adj Close  \\\n",
       "Date                                                                          \n",
       "2018-12-07  2691.260010  2708.540039  2623.139893  2633.080078  2633.080078   \n",
       "2018-12-10  2630.860107  2647.510010  2583.229980  2637.719971  2637.719971   \n",
       "2018-12-11  2664.439941  2674.350098  2621.300049  2636.780029  2636.780029   \n",
       "\n",
       "                Volume  \n",
       "Date                    \n",
       "2018-12-07  4242240000  \n",
       "2018-12-10  4162880000  \n",
       "2018-12-11  3963440000  "
      ]
     },
     "execution_count": 3,
     "metadata": {},
     "output_type": "execute_result"
    }
   ],
   "source": [
    "data = yf.download('^GSPC',start=start,end=end) \n",
    "data.tail(3) "
   ]
  },
  {
   "cell_type": "markdown",
   "metadata": {},
   "source": [
    "# I. Classical Time Series Dual-Momentum Trading Strategy"
   ]
  },
  {
   "cell_type": "markdown",
   "metadata": {},
   "source": [
    "### 2. Defining class to include base-features Momentum and Drawdown"
   ]
  },
  {
   "cell_type": "markdown",
   "metadata": {},
   "source": [
    "* Momentum features are calculated over time frames of 30, 60, 90, 120, 180, 270, 300, 360\n",
    "* Drawdown features are calculated over time frames of 15, 60, 90, 120\n",
    "\n",
    "Also, it is instructed to calculate features by skipping last month. We follow the convention of 252 business days per calendar year and 21 business days per calendar month."
   ]
  },
  {
   "cell_type": "code",
   "execution_count": 4,
   "metadata": {},
   "outputs": [],
   "source": [
    "n = len(data)\n",
    "\n",
    "# Slice the DataFrame to exclude the last 21 rows\n",
    "df_21 = data.iloc[:n-21] "
   ]
  },
  {
   "cell_type": "code",
   "execution_count": 5,
   "metadata": {},
   "outputs": [],
   "source": [
    "class IncludeFeatures:\n",
    "    def __init__(self,data):\n",
    "        self.data = data \n",
    "\n",
    "    def calculate_momentum(self,window): # computing the rate of change in the stock's closing price over window days\n",
    "        self.data[f'momntm_{window}'] =  self.data['Adj Close'] - self.data['Adj Close'].shift(window) \n",
    "\n",
    "    def calculate_drawdown(self,window): # Compute the drawdown by finding the peak and trough in the price data\n",
    "        # calculating cumulative maximum for stocks price\n",
    "        self.data['Cumulative_Peak'] = self.data['Adj Close'].cummax() # max of cumulative value upto that day\n",
    "        # calculating drawdown \n",
    "        self.data[f'drwdwn_{window}'] = (self.data['Adj Close']-self.data['Cumulative_Peak'])/self.data['Cumulative_Peak']\n",
    "\n",
    "    def include_features(self):\n",
    "        \n",
    "        momentum_windows = [30, 60, 90, 120, 180, 270, 300, 360]\n",
    "        drawdwn_windows = [15, 60, 90, 120]    \n",
    "\n",
    "        for days in momentum_windows:\n",
    "            self.calculate_momentum(days) \n",
    "\n",
    "        for days in drawdwn_windows:\n",
    "            self.calculate_drawdown(days) \n",
    "        \n",
    "        self.data.drop(columns=['Cumulative_Peak','Open','High','Low','Close','Volume'],axis=1,inplace=True)\n",
    "        return self.data     "
   ]
  },
  {
   "cell_type": "code",
   "execution_count": 6,
   "metadata": {},
   "outputs": [
    {
     "name": "stdout",
     "output_type": "stream",
     "text": [
      "(22463, 13)\n"
     ]
    },
    {
     "data": {
      "text/html": [
       "<div>\n",
       "<style scoped>\n",
       "    .dataframe tbody tr th:only-of-type {\n",
       "        vertical-align: middle;\n",
       "    }\n",
       "\n",
       "    .dataframe tbody tr th {\n",
       "        vertical-align: top;\n",
       "    }\n",
       "\n",
       "    .dataframe thead th {\n",
       "        text-align: right;\n",
       "    }\n",
       "</style>\n",
       "<table border=\"1\" class=\"dataframe\">\n",
       "  <thead>\n",
       "    <tr style=\"text-align: right;\">\n",
       "      <th></th>\n",
       "      <th>Adj Close</th>\n",
       "      <th>momntm_30</th>\n",
       "      <th>momntm_60</th>\n",
       "      <th>momntm_90</th>\n",
       "      <th>momntm_120</th>\n",
       "      <th>momntm_180</th>\n",
       "      <th>momntm_270</th>\n",
       "      <th>momntm_300</th>\n",
       "      <th>momntm_360</th>\n",
       "      <th>drwdwn_15</th>\n",
       "      <th>drwdwn_60</th>\n",
       "      <th>drwdwn_90</th>\n",
       "      <th>drwdwn_120</th>\n",
       "    </tr>\n",
       "    <tr>\n",
       "      <th>Date</th>\n",
       "      <th></th>\n",
       "      <th></th>\n",
       "      <th></th>\n",
       "      <th></th>\n",
       "      <th></th>\n",
       "      <th></th>\n",
       "      <th></th>\n",
       "      <th></th>\n",
       "      <th></th>\n",
       "      <th></th>\n",
       "      <th></th>\n",
       "      <th></th>\n",
       "      <th></th>\n",
       "    </tr>\n",
       "  </thead>\n",
       "  <tbody>\n",
       "    <tr>\n",
       "      <th>1929-06-10</th>\n",
       "      <td>25.270000</td>\n",
       "      <td>-0.309999</td>\n",
       "      <td>-0.459999</td>\n",
       "      <td>-0.090000</td>\n",
       "      <td>2.74</td>\n",
       "      <td>4.090000</td>\n",
       "      <td>5.060001</td>\n",
       "      <td>6.380001</td>\n",
       "      <td>7.610001</td>\n",
       "      <td>-0.041714</td>\n",
       "      <td>-0.041714</td>\n",
       "      <td>-0.041714</td>\n",
       "      <td>-0.041714</td>\n",
       "    </tr>\n",
       "    <tr>\n",
       "      <th>1929-06-11</th>\n",
       "      <td>25.430000</td>\n",
       "      <td>-0.100000</td>\n",
       "      <td>-0.650000</td>\n",
       "      <td>-0.020000</td>\n",
       "      <td>2.99</td>\n",
       "      <td>4.250000</td>\n",
       "      <td>5.070000</td>\n",
       "      <td>6.480000</td>\n",
       "      <td>7.670000</td>\n",
       "      <td>-0.035647</td>\n",
       "      <td>-0.035647</td>\n",
       "      <td>-0.035647</td>\n",
       "      <td>-0.035647</td>\n",
       "    </tr>\n",
       "    <tr>\n",
       "      <th>1929-06-12</th>\n",
       "      <td>25.450001</td>\n",
       "      <td>-0.490000</td>\n",
       "      <td>-0.590000</td>\n",
       "      <td>-0.289999</td>\n",
       "      <td>2.75</td>\n",
       "      <td>4.230001</td>\n",
       "      <td>5.010000</td>\n",
       "      <td>6.170000</td>\n",
       "      <td>7.730001</td>\n",
       "      <td>-0.034888</td>\n",
       "      <td>-0.034888</td>\n",
       "      <td>-0.034888</td>\n",
       "      <td>-0.034888</td>\n",
       "    </tr>\n",
       "  </tbody>\n",
       "</table>\n",
       "</div>"
      ],
      "text/plain": [
       "            Adj Close  momntm_30  momntm_60  momntm_90  momntm_120  \\\n",
       "Date                                                                 \n",
       "1929-06-10  25.270000  -0.309999  -0.459999  -0.090000        2.74   \n",
       "1929-06-11  25.430000  -0.100000  -0.650000  -0.020000        2.99   \n",
       "1929-06-12  25.450001  -0.490000  -0.590000  -0.289999        2.75   \n",
       "\n",
       "            momntm_180  momntm_270  momntm_300  momntm_360  drwdwn_15  \\\n",
       "Date                                                                    \n",
       "1929-06-10    4.090000    5.060001    6.380001    7.610001  -0.041714   \n",
       "1929-06-11    4.250000    5.070000    6.480000    7.670000  -0.035647   \n",
       "1929-06-12    4.230001    5.010000    6.170000    7.730001  -0.034888   \n",
       "\n",
       "            drwdwn_60  drwdwn_90  drwdwn_120  \n",
       "Date                                          \n",
       "1929-06-10  -0.041714  -0.041714   -0.041714  \n",
       "1929-06-11  -0.035647  -0.035647   -0.035647  \n",
       "1929-06-12  -0.034888  -0.034888   -0.034888  "
      ]
     },
     "execution_count": 6,
     "metadata": {},
     "output_type": "execute_result"
    }
   ],
   "source": [
    "include_feat = IncludeFeatures(df_21) \n",
    "data_feat = include_feat.include_features()\n",
    "data_feat.dropna(inplace=True)\n",
    "print(data_feat.shape) \n",
    "data_feat.head(3) "
   ]
  },
  {
   "cell_type": "code",
   "execution_count": 7,
   "metadata": {},
   "outputs": [
    {
     "name": "stdout",
     "output_type": "stream",
     "text": [
      "Null values : 0\n"
     ]
    }
   ],
   "source": [
    "print(f'Null values : {data_feat.isna().sum().sum()}') "
   ]
  },
  {
   "cell_type": "markdown",
   "metadata": {},
   "source": [
    "### 3. Defining Function to create polynomial features"
   ]
  },
  {
   "cell_type": "code",
   "execution_count": 56,
   "metadata": {},
   "outputs": [],
   "source": [
    "def degree2(data):\n",
    "    print('Shape of data : ',data.shape) \n",
    "    feature_names = ['Adj Close', 'momntm_30', 'momntm_60', 'momntm_90', 'momntm_120',\n",
    "                     'momntm_180', 'momntm_270', 'momntm_300', 'momntm_360', 'drwdwn_15',\n",
    "                     'drwdwn_60', 'drwdwn_90', 'drwdwn_120'] \n",
    "    \n",
    "    if data.shape[1] != len(feature_names):\n",
    "        raise ValueError(\"The number of features in the data does not match the length of feature names.\")\n",
    "\n",
    "    poly2 = PolynomialFeatures(degree=2, include_bias=False)\n",
    "    poly2_feat = poly2.fit_transform(data) \n",
    "    \n",
    "    feature_names_poly2 = poly2.get_feature_names_out(input_features=feature_names)\n",
    "    \n",
    "    df_poly2 = pd.DataFrame(poly2_feat, columns=feature_names_poly2, index=data.index) \n",
    "    print('Shape of df_poly2 : ',df_poly2.shape) \n",
    "\n",
    "    df_combined2 = pd.concat([data, df_poly2], axis=1)\n",
    "    print('Shape of df_combined2 : ',df_combined2.shape)\n",
    "\n",
    "    return df_combined2 \n",
    "\n",
    "def degree3(data):\n",
    "    print('Shape of data : ',data.shape) \n",
    "    feature_names = ['Adj Close', 'momntm_30', 'momntm_60', 'momntm_90', 'momntm_120',\n",
    "                     'momntm_180', 'momntm_270', 'momntm_300', 'momntm_360', 'drwdwn_15',\n",
    "                     'drwdwn_60', 'drwdwn_90', 'drwdwn_120'] \n",
    "    \n",
    "    if data.shape[1] != len(feature_names):\n",
    "        raise ValueError(\"The number of features in the data does not match the length of feature names.\")\n",
    "\n",
    "    df_poly2 = degree2(data) \n",
    "    print('Shape of df_poly2 : ',df_poly2.shape) \n",
    "    poly3 = PolynomialFeatures(degree=3, include_bias=False)\n",
    "    poly3_feat = poly3.fit_transform(data) \n",
    "    \n",
    "    feature_names_poly3 = poly3.get_feature_names_out(input_features=feature_names)\n",
    "    \n",
    "    df_poly3 = pd.DataFrame(poly3_feat, columns=feature_names_poly3, index=data.index) \n",
    "    print('Shape of df_poly3 : ',df_poly3.shape) \n",
    "\n",
    "    df_combined3 = pd.concat([data, df_poly2, df_poly3], axis=1)\n",
    "    print('Shape of df_combined3 : ',df_combined3.shape)\n",
    "    \n",
    "    return df_combined3 "
   ]
  },
  {
   "cell_type": "code",
   "execution_count": 55,
   "metadata": {},
   "outputs": [
    {
     "name": "stdout",
     "output_type": "stream",
     "text": [
      "Shape of data :  (22463, 13)\n",
      "Shape of df_poly2 :  (22463, 104)\n",
      "Shape of df_combined2 :  (22463, 117)\n"
     ]
    }
   ],
   "source": [
    "X = degree2(data_feat) "
   ]
  },
  {
   "cell_type": "code",
   "execution_count": 57,
   "metadata": {},
   "outputs": [
    {
     "name": "stdout",
     "output_type": "stream",
     "text": [
      "Shape of data :  (22463, 13)\n",
      "Shape of data :  (22463, 13)\n",
      "Shape of df_poly2 :  (22463, 104)\n",
      "Shape of df_combined2 :  (22463, 117)\n",
      "Shape of df_poly2 :  (22463, 117)\n",
      "Shape of df_poly3 :  (22463, 559)\n",
      "Shape of df_combined3 :  (22463, 689)\n"
     ]
    }
   ],
   "source": [
    "Y = degree3(data_feat) "
   ]
  },
  {
   "cell_type": "code",
   "execution_count": 58,
   "metadata": {},
   "outputs": [
    {
     "name": "stdout",
     "output_type": "stream",
     "text": [
      "Length of Y.columns :  689\n",
      "Length of unique column names:  560\n",
      "Number of duplicate columns :  129\n"
     ]
    }
   ],
   "source": [
    "print('Length of Y.columns : ',len(Y.columns))\n",
    "print('Length of unique column names: ',len(set(Y.columns))) \n",
    "print('Number of duplicate columns : ',len(Y.columns)-len(set(Y.columns))) "
   ]
  },
  {
   "cell_type": "markdown",
   "metadata": {},
   "source": [
    "Removing duplicate columns"
   ]
  },
  {
   "cell_type": "code",
   "execution_count": 59,
   "metadata": {},
   "outputs": [
    {
     "name": "stdout",
     "output_type": "stream",
     "text": [
      "Shape before removing duplicates :  (22463, 689)\n"
     ]
    },
    {
     "ename": "ValueError",
     "evalue": "Cannot set a DataFrame with multiple columns to the single column momntm_120_momntm_360",
     "output_type": "error",
     "traceback": [
      "\u001b[1;31m---------------------------------------------------------------------------\u001b[0m",
      "\u001b[1;31mValueError\u001b[0m                                Traceback (most recent call last)",
      "\u001b[1;32m~\\AppData\\Local\\Temp\\ipykernel_20872\\1799917728.py\u001b[0m in \u001b[0;36m?\u001b[1;34m()\u001b[0m\n\u001b[0;32m      1\u001b[0m \u001b[0mprint\u001b[0m\u001b[1;33m(\u001b[0m\u001b[1;34m'Shape before removing duplicates : '\u001b[0m\u001b[1;33m,\u001b[0m\u001b[0mY\u001b[0m\u001b[1;33m.\u001b[0m\u001b[0mshape\u001b[0m\u001b[1;33m)\u001b[0m\u001b[1;33m\u001b[0m\u001b[1;33m\u001b[0m\u001b[0m\n\u001b[0;32m      2\u001b[0m \u001b[0mdf\u001b[0m \u001b[1;33m=\u001b[0m \u001b[0mpd\u001b[0m\u001b[1;33m.\u001b[0m\u001b[0mDataFrame\u001b[0m\u001b[1;33m(\u001b[0m\u001b[1;33m)\u001b[0m\u001b[1;33m\u001b[0m\u001b[1;33m\u001b[0m\u001b[0m\n\u001b[0;32m      3\u001b[0m \u001b[1;32mfor\u001b[0m \u001b[0mcols\u001b[0m \u001b[1;32min\u001b[0m \u001b[0mlist\u001b[0m\u001b[1;33m(\u001b[0m\u001b[0mset\u001b[0m\u001b[1;33m(\u001b[0m\u001b[0mY\u001b[0m\u001b[1;33m.\u001b[0m\u001b[0mcolumns\u001b[0m\u001b[1;33m)\u001b[0m\u001b[1;33m)\u001b[0m\u001b[1;33m:\u001b[0m\u001b[1;33m\u001b[0m\u001b[1;33m\u001b[0m\u001b[0m\n\u001b[1;32m----> 4\u001b[1;33m     \u001b[0mdf\u001b[0m\u001b[1;33m[\u001b[0m\u001b[0mcols\u001b[0m\u001b[1;33m]\u001b[0m \u001b[1;33m=\u001b[0m \u001b[0mY\u001b[0m\u001b[1;33m[\u001b[0m\u001b[0mcols\u001b[0m\u001b[1;33m]\u001b[0m\u001b[1;33m\u001b[0m\u001b[1;33m\u001b[0m\u001b[0m\n\u001b[0m\u001b[0;32m      5\u001b[0m \u001b[1;33m\u001b[0m\u001b[0m\n\u001b[0;32m      6\u001b[0m \u001b[0mprint\u001b[0m\u001b[1;33m(\u001b[0m\u001b[1;34m'Shape after removing duplicates : '\u001b[0m\u001b[1;33m,\u001b[0m\u001b[0mdf\u001b[0m\u001b[1;33m.\u001b[0m\u001b[0mshape\u001b[0m\u001b[1;33m)\u001b[0m\u001b[1;33m\u001b[0m\u001b[1;33m\u001b[0m\u001b[0m\n",
      "\u001b[1;32md:\\anaconda3\\Lib\\site-packages\\pandas\\core\\frame.py\u001b[0m in \u001b[0;36m?\u001b[1;34m(self, key, value)\u001b[0m\n\u001b[0;32m   4297\u001b[0m             \u001b[0mself\u001b[0m\u001b[1;33m.\u001b[0m\u001b[0m_setitem_frame\u001b[0m\u001b[1;33m(\u001b[0m\u001b[0mkey\u001b[0m\u001b[1;33m,\u001b[0m \u001b[0mvalue\u001b[0m\u001b[1;33m)\u001b[0m\u001b[1;33m\u001b[0m\u001b[1;33m\u001b[0m\u001b[0m\n\u001b[0;32m   4298\u001b[0m         \u001b[1;32melif\u001b[0m \u001b[0misinstance\u001b[0m\u001b[1;33m(\u001b[0m\u001b[0mkey\u001b[0m\u001b[1;33m,\u001b[0m \u001b[1;33m(\u001b[0m\u001b[0mSeries\u001b[0m\u001b[1;33m,\u001b[0m \u001b[0mnp\u001b[0m\u001b[1;33m.\u001b[0m\u001b[0mndarray\u001b[0m\u001b[1;33m,\u001b[0m \u001b[0mlist\u001b[0m\u001b[1;33m,\u001b[0m \u001b[0mIndex\u001b[0m\u001b[1;33m)\u001b[0m\u001b[1;33m)\u001b[0m\u001b[1;33m:\u001b[0m\u001b[1;33m\u001b[0m\u001b[1;33m\u001b[0m\u001b[0m\n\u001b[0;32m   4299\u001b[0m             \u001b[0mself\u001b[0m\u001b[1;33m.\u001b[0m\u001b[0m_setitem_array\u001b[0m\u001b[1;33m(\u001b[0m\u001b[0mkey\u001b[0m\u001b[1;33m,\u001b[0m \u001b[0mvalue\u001b[0m\u001b[1;33m)\u001b[0m\u001b[1;33m\u001b[0m\u001b[1;33m\u001b[0m\u001b[0m\n\u001b[0;32m   4300\u001b[0m         \u001b[1;32melif\u001b[0m \u001b[0misinstance\u001b[0m\u001b[1;33m(\u001b[0m\u001b[0mvalue\u001b[0m\u001b[1;33m,\u001b[0m \u001b[0mDataFrame\u001b[0m\u001b[1;33m)\u001b[0m\u001b[1;33m:\u001b[0m\u001b[1;33m\u001b[0m\u001b[1;33m\u001b[0m\u001b[0m\n\u001b[1;32m-> 4301\u001b[1;33m             \u001b[0mself\u001b[0m\u001b[1;33m.\u001b[0m\u001b[0m_set_item_frame_value\u001b[0m\u001b[1;33m(\u001b[0m\u001b[0mkey\u001b[0m\u001b[1;33m,\u001b[0m \u001b[0mvalue\u001b[0m\u001b[1;33m)\u001b[0m\u001b[1;33m\u001b[0m\u001b[1;33m\u001b[0m\u001b[0m\n\u001b[0m\u001b[0;32m   4302\u001b[0m         elif (\n\u001b[0;32m   4303\u001b[0m             \u001b[0mis_list_like\u001b[0m\u001b[1;33m(\u001b[0m\u001b[0mvalue\u001b[0m\u001b[1;33m)\u001b[0m\u001b[1;33m\u001b[0m\u001b[1;33m\u001b[0m\u001b[0m\n\u001b[0;32m   4304\u001b[0m             \u001b[1;32mand\u001b[0m \u001b[1;32mnot\u001b[0m \u001b[0mself\u001b[0m\u001b[1;33m.\u001b[0m\u001b[0mcolumns\u001b[0m\u001b[1;33m.\u001b[0m\u001b[0mis_unique\u001b[0m\u001b[1;33m\u001b[0m\u001b[1;33m\u001b[0m\u001b[0m\n",
      "\u001b[1;32md:\\anaconda3\\Lib\\site-packages\\pandas\\core\\frame.py\u001b[0m in \u001b[0;36m?\u001b[1;34m(self, key, value)\u001b[0m\n\u001b[0;32m   4455\u001b[0m \u001b[1;33m\u001b[0m\u001b[0m\n\u001b[0;32m   4456\u001b[0m             \u001b[1;32mreturn\u001b[0m \u001b[0mself\u001b[0m\u001b[1;33m.\u001b[0m\u001b[0misetitem\u001b[0m\u001b[1;33m(\u001b[0m\u001b[0mlocs\u001b[0m\u001b[1;33m,\u001b[0m \u001b[0mvalue\u001b[0m\u001b[1;33m)\u001b[0m\u001b[1;33m\u001b[0m\u001b[1;33m\u001b[0m\u001b[0m\n\u001b[0;32m   4457\u001b[0m \u001b[1;33m\u001b[0m\u001b[0m\n\u001b[0;32m   4458\u001b[0m         \u001b[1;32mif\u001b[0m \u001b[0mlen\u001b[0m\u001b[1;33m(\u001b[0m\u001b[0mvalue\u001b[0m\u001b[1;33m.\u001b[0m\u001b[0mcolumns\u001b[0m\u001b[1;33m)\u001b[0m \u001b[1;33m>\u001b[0m \u001b[1;36m1\u001b[0m\u001b[1;33m:\u001b[0m\u001b[1;33m\u001b[0m\u001b[1;33m\u001b[0m\u001b[0m\n\u001b[1;32m-> 4459\u001b[1;33m             raise ValueError(\n\u001b[0m\u001b[0;32m   4460\u001b[0m                 \u001b[1;34m\"Cannot set a DataFrame with multiple columns to the single \"\u001b[0m\u001b[1;33m\u001b[0m\u001b[1;33m\u001b[0m\u001b[0m\n\u001b[0;32m   4461\u001b[0m                 \u001b[1;33mf\"\u001b[0m\u001b[1;33mcolumn \u001b[0m\u001b[1;33m{\u001b[0m\u001b[0mkey\u001b[0m\u001b[1;33m}\u001b[0m\u001b[1;33m\"\u001b[0m\u001b[1;33m\u001b[0m\u001b[1;33m\u001b[0m\u001b[0m\n\u001b[0;32m   4462\u001b[0m             \u001b[1;33m)\u001b[0m\u001b[1;33m\u001b[0m\u001b[1;33m\u001b[0m\u001b[0m\n",
      "\u001b[1;31mValueError\u001b[0m: Cannot set a DataFrame with multiple columns to the single column momntm_120_momntm_360"
     ]
    }
   ],
   "source": [
    "print('Shape before removing duplicates : ',Y.shape)\n",
    "df = pd.DataFrame()\n",
    "for cols in list(set(Y.columns)):\n",
    "    df[cols] = Y[cols] \n",
    "\n",
    "print('Shape after removing duplicates : ',df.shape) "
   ]
  },
  {
   "cell_type": "code",
   "execution_count": null,
   "metadata": {},
   "outputs": [],
   "source": []
  }
 ],
 "metadata": {
  "kernelspec": {
   "display_name": "base",
   "language": "python",
   "name": "python3"
  },
  "language_info": {
   "codemirror_mode": {
    "name": "ipython",
    "version": 3
   },
   "file_extension": ".py",
   "mimetype": "text/x-python",
   "name": "python",
   "nbconvert_exporter": "python",
   "pygments_lexer": "ipython3",
   "version": "3.12.4"
  }
 },
 "nbformat": 4,
 "nbformat_minor": 2
}
