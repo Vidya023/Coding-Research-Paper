{
 "cells": [
  {
   "cell_type": "code",
   "execution_count": 1,
   "metadata": {},
   "outputs": [
    {
     "name": "stderr",
     "output_type": "stream",
     "text": [
      "[*********************100%%**********************]  2 of 2 completed"
     ]
    },
    {
     "name": "stdout",
     "output_type": "stream",
     "text": [
      "Ticker          AAPL      MSFT\n",
      "Date                          \n",
      "2023-01-04  0.010314 -0.043743\n",
      "2023-01-05 -0.010605 -0.029638\n",
      "2023-01-06  0.036794  0.011785\n",
      "2023-01-09  0.004089  0.009736\n",
      "2023-01-10  0.004456  0.007617\n",
      "Ticker\n",
      "AAPL    0.001835\n",
      "MSFT    0.001972\n",
      "dtype: float64\n",
      "Ticker      AAPL      MSFT\n",
      "Ticker                    \n",
      "AAPL    0.000158  0.000109\n",
      "MSFT    0.000109  0.000250\n",
      "Ticker\n",
      "AAPL    0.011687\n",
      "MSFT    0.372525\n",
      "dtype: float64\n",
      "Ticker\n",
      "AAPL    1.380293\n",
      "MSFT    1.396489\n",
      "dtype: float64\n",
      "Optimal Weights: [0.4964185 0.5035815]\n",
      "Optimal Utility Value: 0.11458750358666923\n"
     ]
    },
    {
     "name": "stderr",
     "output_type": "stream",
     "text": [
      "\n"
     ]
    }
   ],
   "source": [
    "import yfinance as yf\n",
    "import numpy as np\n",
    "import pandas as pd\n",
    "from scipy.optimize import minimize\n",
    "from scipy.stats import skew, kurtosis\n",
    "\n",
    "# 1. Fetch Data\n",
    "tickers = ['AAPL', 'MSFT']\n",
    "data = yf.download(tickers, start='2023-01-01', end='2024-01-01')['Adj Close']\n",
    "\n",
    "# 2. Calculate Daily Returns\n",
    "returns = data.pct_change().dropna()\n",
    "print(returns.head())\n",
    "\n",
    "# 3. Compute Expected Returns and Statistics\n",
    "expected_returns = returns.mean()\n",
    "print(expected_returns)\n",
    "cov_matrix = returns.cov()\n",
    "print(cov_matrix)\n",
    "skewness = returns.apply(lambda x: skew(x))\n",
    "print(skewness)\n",
    "kurtoses = returns.apply(lambda x: kurtosis(x))\n",
    "print(kurtoses) \n",
    "# Portfolio Variance Function\n",
    "def portfolio_variance(weights, cov_matrix):\n",
    "    return np.dot(weights.T, np.dot(cov_matrix, weights))\n",
    "\n",
    "# Portfolio Skewness Function\n",
    "def portfolio_skewness(weights, skewness, returns):\n",
    "    port_returns = np.dot(returns, weights)\n",
    "    return skew(port_returns)\n",
    "\n",
    "# Portfolio Kurtosis Function\n",
    "def portfolio_kurtosis(weights, kurtoses, returns):\n",
    "    port_returns = np.dot(returns, weights)\n",
    "    return kurtosis(port_returns)\n",
    "\n",
    "# Utility Function\n",
    "def utility_function(weights, expected_returns, cov_matrix, skewness, kurtoses, lambd=0.5, gamma=0.5, delta=0.5):\n",
    "    exp_return = np.dot(weights, expected_returns)\n",
    "    var = portfolio_variance(weights, cov_matrix)\n",
    "    skewness_val = portfolio_skewness(weights, skewness, returns)\n",
    "    kurtosis_val = portfolio_kurtosis(weights, kurtoses, returns)\n",
    "    \n",
    "    # Utility function: maximizing return, penalizing variance, skewness, and kurtosis\n",
    "    utility = exp_return - lambd * var + gamma * skewness_val - delta * kurtosis_val\n",
    "    return -utility  # We use negative for minimization\n",
    "\n",
    "# Constraints\n",
    "def constraint_sum_weights(weights):\n",
    "    return np.sum(weights) - 1\n",
    "\n",
    "def constraint_nonnegative(weights):\n",
    "    return weights\n",
    "\n",
    "# Initial Weights\n",
    "num_assets = len(tickers)\n",
    "initial_weights = np.ones(num_assets) / num_assets\n",
    "\n",
    "# Bounds and Constraints\n",
    "bounds = [(0, 1) for _ in range(num_assets)]\n",
    "constraints = [{'type': 'eq', 'fun': constraint_sum_weights}, {'type': 'ineq', 'fun': constraint_nonnegative}]\n",
    "\n",
    "# Optimization\n",
    "result = minimize(\n",
    "    utility_function,\n",
    "    initial_weights,\n",
    "    args=(expected_returns, cov_matrix, skewness, kurtoses),\n",
    "    method='SLSQP',\n",
    "    bounds=bounds,\n",
    "    constraints=constraints\n",
    ")\n",
    "\n",
    "# Results\n",
    "optimal_weights = result.x\n",
    "print(f\"Optimal Weights: {optimal_weights}\")\n",
    "print(f\"Optimal Utility Value: {-result.fun}\") "
   ]
  },
  {
   "cell_type": "markdown",
   "metadata": {},
   "source": []
  },
  {
   "cell_type": "code",
   "execution_count": 4,
   "metadata": {},
   "outputs": [
    {
     "data": {
      "image/png": "[encoded data removed]",
      "text/plain": [
       "<Figure size 800x600 with 1 Axes>"
      ]
     },
     "metadata": {},
     "output_type": "display_data"
    }
   ],
   "source": [
    "import matplotlib.pyplot as plt \n",
    "# Plotting the optimal weights as a pie chart\n",
    "\n",
    "plt.figure(figsize=(8, 6))\n",
    "plt.pie(optimal_weights, labels=tickers, autopct='%1.1f%%', startangle=140)\n",
    "plt.title('Optimal Portfolio Weights')\n",
    "plt.show() "
   ]
  },
  {
   "cell_type": "code",
   "execution_count": null,
   "metadata": {},
   "outputs": [],
   "source": []
  }
 ],
 "metadata": {
  "kernelspec": {
   "display_name": "base",
   "language": "python",
   "name": "python3"
  },
  "language_info": {
   "codemirror_mode": {
    "name": "ipython",
    "version": 3
   },
   "file_extension": ".py",
   "mimetype": "text/x-python",
   "name": "python",
   "nbconvert_exporter": "python",
   "pygments_lexer": "ipython3",
   "version": "3.12.4"
  }
 },
 "nbformat": 4,
 "nbformat_minor": 2
}
