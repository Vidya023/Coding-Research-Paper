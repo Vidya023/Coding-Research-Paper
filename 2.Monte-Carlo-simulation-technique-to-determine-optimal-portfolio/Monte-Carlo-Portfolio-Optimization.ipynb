{
 "cells": [
  {
   "cell_type": "markdown",
   "metadata": {},
   "source": [
    "## Monte Carlo Portfolio Optimization"
   ]
  },
  {
   "cell_type": "code",
   "execution_count": 1,
   "metadata": {},
   "outputs": [],
   "source": [
    "import yfinance as yf\n",
    "import numpy as np\n",
    "import pandas as pd\n",
    "from scipy.optimize import minimize\n",
    "from scipy.stats import skew, kurtosis\n",
    "import matplotlib.pyplot as plt \n",
    "%matplotlib inline \n",
    "import seaborn as sns \n",
    "plt.style.use('seaborn-v0_8-dark-palette')\n",
    "import warnings\n",
    "warnings.filterwarnings('ignore') "
   ]
  },
  {
   "cell_type": "markdown",
   "metadata": {},
   "source": [
    "### 1. Fetch data"
   ]
  },
  {
   "cell_type": "code",
   "execution_count": 2,
   "metadata": {},
   "outputs": [
    {
     "name": "stderr",
     "output_type": "stream",
     "text": [
      "[*********************100%%**********************]  2 of 2 completed\n"
     ]
    }
   ],
   "source": [
    "tickers = ['AAPL', 'MSFT']\n",
    "data = yf.download(tickers, start='2023-01-01', end='2024-01-01')['Adj Close'] "
   ]
  },
  {
   "cell_type": "markdown",
   "metadata": {},
   "source": [
    "### 2. Calculate Daily Returns"
   ]
  },
  {
   "cell_type": "code",
   "execution_count": 3,
   "metadata": {},
   "outputs": [
    {
     "data": {
      "text/html": [
       "<div>\n",
       "<style scoped>\n",
       "    .dataframe tbody tr th:only-of-type {\n",
       "        vertical-align: middle;\n",
       "    }\n",
       "\n",
       "    .dataframe tbody tr th {\n",
       "        vertical-align: top;\n",
       "    }\n",
       "\n",
       "    .dataframe thead th {\n",
       "        text-align: right;\n",
       "    }\n",
       "</style>\n",
       "<table border=\"1\" class=\"dataframe\">\n",
       "  <thead>\n",
       "    <tr style=\"text-align: right;\">\n",
       "      <th>Ticker</th>\n",
       "      <th>AAPL</th>\n",
       "      <th>MSFT</th>\n",
       "    </tr>\n",
       "    <tr>\n",
       "      <th>Date</th>\n",
       "      <th></th>\n",
       "      <th></th>\n",
       "    </tr>\n",
       "  </thead>\n",
       "  <tbody>\n",
       "    <tr>\n",
       "      <th>2023-01-04</th>\n",
       "      <td>0.010314</td>\n",
       "      <td>-0.043743</td>\n",
       "    </tr>\n",
       "    <tr>\n",
       "      <th>2023-01-05</th>\n",
       "      <td>-0.010605</td>\n",
       "      <td>-0.029638</td>\n",
       "    </tr>\n",
       "    <tr>\n",
       "      <th>2023-01-06</th>\n",
       "      <td>0.036794</td>\n",
       "      <td>0.011785</td>\n",
       "    </tr>\n",
       "    <tr>\n",
       "      <th>2023-01-09</th>\n",
       "      <td>0.004089</td>\n",
       "      <td>0.009736</td>\n",
       "    </tr>\n",
       "    <tr>\n",
       "      <th>2023-01-10</th>\n",
       "      <td>0.004456</td>\n",
       "      <td>0.007617</td>\n",
       "    </tr>\n",
       "  </tbody>\n",
       "</table>\n",
       "</div>"
      ],
      "text/plain": [
       "Ticker          AAPL      MSFT\n",
       "Date                          \n",
       "2023-01-04  0.010314 -0.043743\n",
       "2023-01-05 -0.010605 -0.029638\n",
       "2023-01-06  0.036794  0.011785\n",
       "2023-01-09  0.004089  0.009736\n",
       "2023-01-10  0.004456  0.007617"
      ]
     },
     "execution_count": 3,
     "metadata": {},
     "output_type": "execute_result"
    }
   ],
   "source": [
    "returns = data.pct_change().dropna()\n",
    "returns.head() "
   ]
  },
  {
   "cell_type": "markdown",
   "metadata": {},
   "source": [
    "### 3. Compute Expected Returns and Statistics"
   ]
  },
  {
   "cell_type": "code",
   "execution_count": 4,
   "metadata": {},
   "outputs": [],
   "source": [
    "def rets_stats(returns):\n",
    "    expected_returns = returns.mean() \n",
    "    cov_matrix = returns.cov() \n",
    "    skewness = returns.apply(lambda x:skew(x)) \n",
    "    kurtoses = returns.apply(lambda x:kurtosis(x))\n",
    "    return expected_returns, cov_matrix, skewness, kurtoses "
   ]
  },
  {
   "cell_type": "code",
   "execution_count": 5,
   "metadata": {},
   "outputs": [
    {
     "name": "stdout",
     "output_type": "stream",
     "text": [
      "==========Expected Returns==========\n",
      "Ticker\n",
      "AAPL    0.001835\n",
      "MSFT    0.001972\n",
      "dtype: float64\n",
      "\n",
      "==========Covariance Matrix==========\n",
      "Ticker      AAPL      MSFT\n",
      "Ticker                    \n",
      "AAPL    0.000158  0.000109\n",
      "MSFT    0.000109  0.000250\n",
      "\n",
      "==========Skewness==========\n",
      "Ticker\n",
      "AAPL    0.011683\n",
      "MSFT    0.372527\n",
      "dtype: float64\n",
      "\n",
      "==========Kurtosis==========\n",
      "Ticker\n",
      "AAPL    1.380288\n",
      "MSFT    1.396485\n",
      "dtype: float64\n"
     ]
    }
   ],
   "source": [
    "expected_returns, cov_matrix, skewness, kurtoses = rets_stats(returns) \n",
    "print('==========Expected Returns==========')\n",
    "print(expected_returns)\n",
    "print() \n",
    "print('==========Covariance Matrix==========')\n",
    "print(cov_matrix) \n",
    "print()\n",
    "print('==========Skewness==========')\n",
    "print(skewness) \n",
    "print()\n",
    "print('==========Kurtosis==========')\n",
    "print(kurtoses)  "
   ]
  },
  {
   "cell_type": "markdown",
   "metadata": {},
   "source": [
    "#### 4. Portfolio Variance Function"
   ]
  },
  {
   "cell_type": "code",
   "execution_count": 6,
   "metadata": {},
   "outputs": [],
   "source": [
    "def portfolio_variance(weights,cov_matrix):\n",
    "    return np.dot(weights.T,np.dot(cov_matrix,weights)) "
   ]
  },
  {
   "cell_type": "markdown",
   "metadata": {},
   "source": [
    "### 5. Portfolio Skewness Function"
   ]
  },
  {
   "cell_type": "code",
   "execution_count": 7,
   "metadata": {},
   "outputs": [],
   "source": [
    "def portfolio_skewness(weights,skewness,returns):\n",
    "    # Compute the portfolio returns\n",
    "    port_returns = np.dot(returns,weights)\n",
    "    # Calculate and return the skewness of the portfolio returns\n",
    "    return skew(port_returns) "
   ]
  },
  {
   "cell_type": "markdown",
   "metadata": {},
   "source": [
    "### 6. Portfolio Kurtosis Function"
   ]
  },
  {
   "cell_type": "code",
   "execution_count": 8,
   "metadata": {},
   "outputs": [],
   "source": [
    "def portfolio_kurtosis(weights,kurtoses,returns):\n",
    "    # Compute the portfolio returns\n",
    "    port_returns = np.dot(returns,weights) \n",
    "    # Calculate and return the kurtosis of the portfolio returns\n",
    "    return kurtosis(port_returns) "
   ]
  },
  {
   "cell_type": "markdown",
   "metadata": {},
   "source": [
    "### 7. Define Utility Function"
   ]
  },
  {
   "cell_type": "code",
   "execution_count": 9,
   "metadata": {},
   "outputs": [],
   "source": [
    "def utility_function(weights,expected_returns,cov_matrix,skewness,kurtoses,lambd=0.5,gamm=0.5,delt=0.5):\n",
    "    exp_return = np.dot(weights,expected_returns)\n",
    "    var = portfolio_variance(weights,cov_matrix) \n",
    "    skewness_val = portfolio_skewness(weights,skewness,returns)\n",
    "    kurtosis_val = portfolio_kurtosis(weights,kurtoses,returns)\n",
    "\n",
    "    # Utility Function\n",
    "    utility = exp_return - lambd*var + gamm*skewness_val - delt*kurtosis_val\n",
    "    return -utility # Negative sign is for minimization  "
   ]
  },
  {
   "cell_type": "markdown",
   "metadata": {},
   "source": [
    "### 8. Define Constraints"
   ]
  },
  {
   "cell_type": "code",
   "execution_count": 10,
   "metadata": {},
   "outputs": [],
   "source": [
    "def constraint_sum_weights(weights):\n",
    "    return np.sum(weights)-1\n",
    "\n",
    "def constraint_nonnegative(weights):\n",
    "    return weights # Interpreted as weights >= 0 in constraints"
   ]
  },
  {
   "cell_type": "markdown",
   "metadata": {},
   "source": [
    "### 9. Optimization"
   ]
  },
  {
   "cell_type": "code",
   "execution_count": 11,
   "metadata": {},
   "outputs": [
    {
     "name": "stdout",
     "output_type": "stream",
     "text": [
      "Optimal Weights: [0.49641923 0.50358077]\n",
      "Optimal Utility Value: 0.11458792014366012\n"
     ]
    }
   ],
   "source": [
    "# Initial Weights\n",
    "\n",
    "num_assets = len(tickers)\n",
    "initial_weights = np.ones(num_assets)/num_assets\n",
    "\n",
    "# Bounds and Constraints\n",
    "bounds = [(0,1) for _ in range(num_assets)] \n",
    "constraints = [{'type':'eq','fun':constraint_sum_weights},\n",
    "               {'type':'ineq','fun':constraint_nonnegative}] \n",
    "\n",
    "# Optimization\n",
    "result = minimize(\n",
    "    utility_function,\n",
    "    initial_weights,\n",
    "    args=(expected_returns, cov_matrix, skewness, kurtoses),\n",
    "    method='SLSQP',\n",
    "    bounds=bounds,\n",
    "    constraints=constraints\n",
    ")\n",
    "\n",
    "# Results\n",
    "optimal_weights = result.x\n",
    "print(f\"Optimal Weights: {optimal_weights}\")\n",
    "print(f\"Optimal Utility Value: {-result.fun}\") "
   ]
  },
  {
   "cell_type": "code",
   "execution_count": 12,
   "metadata": {},
   "outputs": [
    {
     "data": {
      "image/png": "[encoded data removed]",
      "text/plain": [
       "<Figure size 800x600 with 1 Axes>"
      ]
     },
     "metadata": {},
     "output_type": "display_data"
    }
   ],
   "source": [
    "import matplotlib.pyplot as plt \n",
    "# Plotting the optimal weights as a pie chart\n",
    "\n",
    "plt.figure(figsize=(8, 6))\n",
    "plt.pie(optimal_weights, labels=tickers, autopct='%1.1f%%', startangle=140)\n",
    "plt.title('Optimal Portfolio Weights')\n",
    "plt.show() "
   ]
  }
 ],
 "metadata": {
  "kernelspec": {
   "display_name": "base",
   "language": "python",
   "name": "python3"
  },
  "language_info": {
   "codemirror_mode": {
    "name": "ipython",
    "version": 3
   },
   "file_extension": ".py",
   "mimetype": "text/x-python",
   "name": "python",
   "nbconvert_exporter": "python",
   "pygments_lexer": "ipython3",
   "version": "3.12.4"
  }
 },
 "nbformat": 4,
 "nbformat_minor": 2
}
