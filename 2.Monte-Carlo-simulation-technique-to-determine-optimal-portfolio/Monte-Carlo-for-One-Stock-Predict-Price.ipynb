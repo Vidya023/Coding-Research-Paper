{
 "cells": [
  {
   "cell_type": "markdown",
   "metadata": {},
   "source": [
    "## Monte Carlo Simulation to Forecast Price of one Stock"
   ]
  },
  {
   "cell_type": "markdown",
   "metadata": {},
   "source": [
    "Monte Carlo can be used to simulate future stick prices. This simulation strategy makes use of the Law of Large Numbers that makes prediction on the basis of historical data"
   ]
  },
  {
   "cell_type": "code",
   "execution_count": 1,
   "metadata": {},
   "outputs": [],
   "source": [
    "import pandas as pd \n",
    "import numpy as  np \n",
    "from pandas_datareader import data as wb \n",
    "import matplotlib.pyplot as plt \n",
    "import seaborn as sns \n",
    "from scipy.stats import norm \n",
    "import yfinance as yf \n",
    "from datetime import datetime, timedelta \n",
    "import seaborn as sns \n",
    "\n",
    "import warnings \n",
    "warnings.filterwarnings('ignore') "
   ]
  },
  {
   "cell_type": "code",
   "execution_count": null,
   "metadata": {},
   "outputs": [],
   "source": [
    "start_date = '2020-01-01' \n",
    "ticker = 'GOOG'"
   ]
  },
  {
   "cell_type": "code",
   "execution_count": null,
   "metadata": {},
   "outputs": [],
   "source": [
    "data = yf.download(ticker,start=start_date) \n",
    "data.head() "
   ]
  },
  {
   "cell_type": "markdown",
   "metadata": {},
   "source": [
    "#### Plot Closing Price"
   ]
  },
  {
   "cell_type": "code",
   "execution_count": null,
   "metadata": {},
   "outputs": [],
   "source": [
    "plt.figure(figsize=(20,7)) \n",
    "plt.plot(data['Close'],label='Close Price') \n",
    "plt.title(f'Close Price of {ticker} since {start_date}') \n",
    "plt.xlabel('Date') \n",
    "plt.ylabel('Close Price ($)') \n",
    "plt.style.use('seaborn-v0_8-darkgrid') \n",
    "plt.legend(loc='best')  \n",
    "plt.grid(True) \n",
    "plt.show()"
   ]
  },
  {
   "cell_type": "markdown",
   "metadata": {},
   "source": [
    "### Daily Log Returns "
   ]
  },
  {
   "cell_type": "markdown",
   "metadata": {},
   "source": [
    "* For small prices movements, simple returns and log returns are quite similar. But, for large price movements, log returns can provide more accurate and realistic representation of returns \n",
    "* Log returns are additive in nature making it useful for analytical and computational analysis \n",
    "* Log returns also capture skewness in financial returns better than mean returns "
   ]
  },
  {
   "cell_type": "code",
   "execution_count": null,
   "metadata": {},
   "outputs": [],
   "source": [
    "def log_returns(data):\n",
    "    log_returns = np.log(1+data['Close'].pct_change()) \n",
    "    log_returns = log_returns[1:] \n",
    "    return log_returns  "
   ]
  },
  {
   "cell_type": "markdown",
   "metadata": {},
   "source": [
    "#### Plotting Log-Returns"
   ]
  },
  {
   "cell_type": "code",
   "execution_count": null,
   "metadata": {},
   "outputs": [],
   "source": [
    "log_return = log_returns(data) \n",
    "plt.figure(figsize=(20,7)) \n",
    "plt.plot(log_return,label='Log Returns') \n",
    "plt.title(f'Log Returns of {ticker} since {start_date}') \n",
    "plt.xlabel('Date') \n",
    "plt.ylabel('Log Returns') \n",
    "plt.legend(loc='best') \n",
    "plt.grid(True) \n",
    "plt.show() "
   ]
  },
  {
   "cell_type": "markdown",
   "metadata": {},
   "source": [
    "### Calculating Volatility"
   ]
  },
  {
   "cell_type": "markdown",
   "metadata": {},
   "source": [
    "Volatility is the standard deviation of daily returns"
   ]
  },
  {
   "cell_type": "code",
   "execution_count": null,
   "metadata": {},
   "outputs": [],
   "source": [
    "def volatility_calc(log_rtn):\n",
    "    daily_volatility = np.std(log_rtn) \n",
    "    return daily_volatility \n",
    "\n",
    "print(volatility_calc(log_return)) "
   ]
  },
  {
   "cell_type": "markdown",
   "metadata": {},
   "source": [
    "## Running Simulations"
   ]
  },
  {
   "cell_type": "markdown",
   "metadata": {},
   "source": [
    "#### Variable Selection\n",
    "* More the number of simulations, the more accurate will be the data. However, we have take in consideration of the hardware used for this purpose\n",
    "* Choose the number of days to be simulated. 252 is chosen as it is the number of trading days in a year"
   ]
  },
  {
   "cell_type": "code",
   "execution_count": null,
   "metadata": {},
   "outputs": [],
   "source": [
    "num_sims = 10000\n",
    "num_days = 100 "
   ]
  },
  {
   "cell_type": "markdown",
   "metadata": {},
   "source": [
    "Getting last closing price of data "
   ]
  },
  {
   "cell_type": "code",
   "execution_count": null,
   "metadata": {},
   "outputs": [],
   "source": [
    "last_price = data['Close'].iloc[-1] "
   ]
  },
  {
   "cell_type": "markdown",
   "metadata": {},
   "source": [
    "#### Simulation Function"
   ]
  },
  {
   "cell_type": "code",
   "execution_count": null,
   "metadata": {},
   "outputs": [],
   "source": [
    "def monte_carlo_sim(num_sims,num_days,last_price,log_return):\n",
    "    daily_vol = volatility_calc(log_return) \n",
    "\n",
    "    all_simulations = [] \n",
    "\n",
    "    for x in range(num_sims):\n",
    "        price_series = [last_price] \n",
    "\n",
    "        for y in range(1,num_days):\n",
    "            price = price_series[-1]*(1+np.random.normal(0,daily_vol)) \n",
    "            price_series.append(price) \n",
    "        all_simulations.append(price_series) \n",
    "\n",
    "    sim_df = pd.DataFrame(all_simulations).transpose() \n",
    "    return sim_df        "
   ]
  },
  {
   "cell_type": "code",
   "execution_count": null,
   "metadata": {},
   "outputs": [],
   "source": [
    "simulation_df = monte_carlo_sim(num_sims,num_days,last_price,log_return) \n",
    "simulation_df.head() "
   ]
  },
  {
   "cell_type": "markdown",
   "metadata": {},
   "source": [
    "#### Plot Monte Carlo"
   ]
  },
  {
   "cell_type": "code",
   "execution_count": null,
   "metadata": {},
   "outputs": [],
   "source": [
    "simulation_df.plot(legend=False) \n",
    "plt.title(f'Monte Carlo Simulation for {ticker}') \n",
    "plt.axhline(y=last_price,color='black',linestyle='-') \n",
    "plt.xlabel('Day') \n",
    "plt.ylabel('Price') \n",
    "plt.show() "
   ]
  },
  {
   "cell_type": "markdown",
   "metadata": {},
   "source": [
    "### Testing"
   ]
  },
  {
   "cell_type": "code",
   "execution_count": null,
   "metadata": {},
   "outputs": [],
   "source": [
    "print('Start date : ',data.iloc[0].name)\n",
    "print('Last date : ',data.iloc[-1].name) "
   ]
  },
  {
   "cell_type": "markdown",
   "metadata": {},
   "source": [
    "Lets try to predict the price of stock 2 days later"
   ]
  },
  {
   "cell_type": "code",
   "execution_count": null,
   "metadata": {},
   "outputs": [],
   "source": [
    "day_1_price = simulation_df.iloc[0] \n",
    "day_2_price = simulation_df.iloc[1] \n",
    "\n",
    "# Calculate 95% confidence interval \n",
    "lower_bound_95 = np.percentile(day_2_price, 2.5) \n",
    "upper_bound_95 = np.percentile(day_2_price, 97.5) \n",
    "\n",
    "mean_price = np.mean(day_2_price) \n",
    "\n",
    "# Calculate 98% Confidence Interval\n",
    "lower_bound_98 = np.percentile(day_2_price,1) \n",
    "upper_bound_98 = np.percentile(day_2_price,99) \n",
    "\n",
    "print(f'Expected price 2 days later : {mean_price:.4f}') \n",
    "print(f'95% Confidence Interval for price 2 days later : ({lower_bound_95:.4f},{upper_bound_95:.4f})')\n",
    "print(f'98% Confidence Interval for price 2 days later : ({lower_bound_98:.4f},{upper_bound_98:.4f})')"
   ]
  },
  {
   "cell_type": "markdown",
   "metadata": {},
   "source": [
    "### Defining Monte Carlo Simulation Class"
   ]
  },
  {
   "cell_type": "code",
   "execution_count": 8,
   "metadata": {},
   "outputs": [],
   "source": [
    "class MonteCarlo():\n",
    "    def __init__(self,ticker,start_date,end_date,num_days,num_sims):\n",
    "        self.ticker = ticker \n",
    "        self.start_date = start_date\n",
    "        self.end_date = end_date\n",
    "        self.num_days = num_days \n",
    "        self.num_sims = num_sims \n",
    "\n",
    "    def fetch_data(self):\n",
    "        self.data = pd.DataFrame() \n",
    "        self.data = yf.download(self.ticker,start=self.start_date,end=self.end_date)\n",
    "\n",
    "    def calc_log_returns(self):\n",
    "        self.log_returns = np.log(1+self.data['Adj Close'].pct_change()) \n",
    "        self.log_returns = self.log_returns[1:] \n",
    "\n",
    "    def volatility_calc(self):\n",
    "        self.daily_volatility = np.std(self.log_returns) \n",
    "\n",
    "    def run_monte_carlo(self):\n",
    "        self.last_price = self.data['Adj Close'].iloc[-1] \n",
    "\n",
    "        all_sims = [] \n",
    "\n",
    "        for x in range(self.num_sims):\n",
    "            price_series = [self.last_price]\n",
    "\n",
    "            for y in range(1,self.num_days):\n",
    "                price = price_series[-1]*(1+np.random.normal(0,self.daily_volatility)) \n",
    "                price_series.append(price) \n",
    "            all_sims.append(price_series) \n",
    "        self.simulation_df = pd.DataFrame(all_sims).transpose() \n",
    "\n",
    "    def results(self):\n",
    "        prices = self.simulation_df.iloc[-1] \n",
    "\n",
    "        lower_bound_95 = np.percentile(prices,2.5) \n",
    "        upper_bound_95 = np.percentile(prices,97.5) \n",
    "\n",
    "        mean_price = np.mean(prices) \n",
    "\n",
    "        print(f'{self.ticker} expected price for {self.num_days} days later is : {mean_price}')\n",
    "        print(f'{self.ticker} 95% confidence interval for the price {self.num_days} later is : ({lower_bound_95},{upper_bound_95})') \n",
    "        print('\\n')\n",
    "\n",
    "    def plot(self):\n",
    "        self.simulation_df.plot(legend=False) \n",
    "        plt.title(f'Monte Carlo simulation for {self.ticker}') \n",
    "        plt.axhline(y=self.last_price, color='black', linestyle='-')\n",
    "        plt.style.use('seaborn-v0_8-darkgrid')  \n",
    "        plt.xlabel('Day') \n",
    "        plt.ylabel('Price')        "
   ]
  },
  {
   "cell_type": "code",
   "execution_count": 11,
   "metadata": {},
   "outputs": [],
   "source": [
    "start_date = (datetime.now() - timedelta(days=2*365)).strftime('%Y-%m-%d') # Date two years before from today\n",
    "end_date = datetime.now().strftime('%Y-%m-%d')\n",
    "tickerst = ['AES','AMD','AAPL','MSFT','NVDA','AMZN'] \n",
    "num_days = 100\n",
    "num_sims = 1000 "
   ]
  },
  {
   "cell_type": "code",
   "execution_count": 12,
   "metadata": {},
   "outputs": [
    {
     "name": "stderr",
     "output_type": "stream",
     "text": [
      "[*********************100%%**********************]  1 of 1 completed"
     ]
    },
    {
     "name": "stderr",
     "output_type": "stream",
     "text": [
      "\n",
      "[*********************100%%**********************]  1 of 1 completed"
     ]
    },
    {
     "name": "stdout",
     "output_type": "stream",
     "text": [
      "AES expected price for 100 days later is : 17.461764846162577\n",
      "AES 95% confidence interval for the price 100 later is : (11.10268713740198,26.180930291215613)\n",
      "\n",
      "\n"
     ]
    },
    {
     "name": "stderr",
     "output_type": "stream",
     "text": [
      "\n"
     ]
    },
    {
     "name": "stdout",
     "output_type": "stream",
     "text": [
      "AMD expected price for 100 days later is : 180.63867362621934\n",
      "AMD 95% confidence interval for the price 100 later is : (91.39770843532776,315.08356188156927)\n",
      "\n",
      "\n"
     ]
    },
    {
     "name": "stderr",
     "output_type": "stream",
     "text": [
      "[*********************100%%**********************]  1 of 1 completed\n"
     ]
    },
    {
     "name": "stdout",
     "output_type": "stream",
     "text": [
      "AAPL expected price for 100 days later is : 236.64541169101017\n",
      "AAPL 95% confidence interval for the price 100 later is : (167.3716397298691,322.7150476313393)\n",
      "\n",
      "\n"
     ]
    },
    {
     "name": "stderr",
     "output_type": "stream",
     "text": [
      "[*********************100%%**********************]  1 of 1 completed\n",
      "[*********************100%%**********************]  1 of 1 completed"
     ]
    },
    {
     "name": "stdout",
     "output_type": "stream",
     "text": [
      "MSFT expected price for 100 days later is : 448.00983732012617\n",
      "MSFT 95% confidence interval for the price 100 later is : (313.903018302413,603.4015090563771)\n",
      "\n",
      "\n"
     ]
    },
    {
     "name": "stderr",
     "output_type": "stream",
     "text": [
      "\n",
      "[*********************100%%**********************]  1 of 1 completed"
     ]
    },
    {
     "name": "stdout",
     "output_type": "stream",
     "text": [
      "NVDA expected price for 100 days later is : 124.57216352335114\n",
      "NVDA 95% confidence interval for the price 100 later is : (65.44244855884563,213.9435298189781)\n",
      "\n",
      "\n"
     ]
    },
    {
     "name": "stderr",
     "output_type": "stream",
     "text": [
      "\n"
     ]
    },
    {
     "name": "stdout",
     "output_type": "stream",
     "text": [
      "AMZN expected price for 100 days later is : 192.5360405098597\n",
      "AMZN 95% confidence interval for the price 100 later is : (119.78038932628564,287.1906000393314)\n",
      "\n",
      "\n"
     ]
    }
   ],
   "source": [
    "results = {}  # Initialize dictionary to hold results\n",
    "\n",
    "for tick in tickerst:\n",
    "    simulation = MonteCarlo(tick,start_date,end_date,num_days,num_sims)\n",
    "    simulation.fetch_data() \n",
    "    simulation.calc_log_returns()\n",
    "    simulation.volatility_calc()\n",
    "    simulation.run_monte_carlo()\n",
    "    simulation.results()  "
   ]
  }
 ],
 "metadata": {
  "kernelspec": {
   "display_name": "base",
   "language": "python",
   "name": "python3"
  },
  "language_info": {
   "codemirror_mode": {
    "name": "ipython",
    "version": 3
   },
   "file_extension": ".py",
   "mimetype": "text/x-python",
   "name": "python",
   "nbconvert_exporter": "python",
   "pygments_lexer": "ipython3",
   "version": "3.11.8"
  }
 },
 "nbformat": 4,
 "nbformat_minor": 2
}
