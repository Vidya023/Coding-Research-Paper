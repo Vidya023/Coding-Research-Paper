{
 "cells": [
  {
   "cell_type": "markdown",
   "metadata": {},
   "source": [
    "## Pairs trading on different portfolios based on Machine Learning"
   ]
  },
  {
   "cell_type": "markdown",
   "metadata": {},
   "source": [
    "Statistical arbitrage is the trading strategy developed using quantitative and statistical models to generate trading signals. Pairs-trading is one of the statistical arbitrage techniques. Here, this teschnique will be investigated using ML model LSTM (Long Short-term Memory) "
   ]
  },
  {
   "cell_type": "markdown",
   "metadata": {},
   "source": [
    "### Different steps in this project\n",
    "\n",
    "1. Selecting 20 different stocks\n",
    "2. Categorizing stocks into different types (aggressive or defensive types) \n",
    "3. Identifying pairs with co-integration test \n",
    "4. Constructing Portfolio\n",
    "5. Forecasting stock prices using ML algorithm, LSTM \n",
    "6. Calculating Trading Profits "
   ]
  },
  {
   "cell_type": "markdown",
   "metadata": {},
   "source": [
    "### Why LSTM?"
   ]
  },
  {
   "cell_type": "markdown",
   "metadata": {},
   "source": [
    "Among different types of models, deep learning models contain neural networks. Neural networks are capable of providing decent approximation to almost all non-linear functions. Due to the non-linearity of time series data, it is better to use neural networks to predict stock prices, rather than using regular linear frameworks.\n",
    "\n",
    "Merits of using Neural networks\n",
    "* Neural networks are designed to detect non-linearities that exist within the data\n",
    "* Neural networks are scalable with reduced computational load, because, training or updating doesnot require retraining the entire model from scratch when new data is added. "
   ]
  },
  {
   "cell_type": "markdown",
   "metadata": {},
   "source": [
    "### Neural Networks"
   ]
  },
  {
   "cell_type": "markdown",
   "metadata": {},
   "source": [
    "Neural Networks composed of input layer, several hiddien layers and then output layer. Input layer holds the input values, hidden layers process these input values through non-linear functions and the final output is provided at the output layer. Artificial Neurons are the building block of these different layers."
   ]
  },
  {
   "cell_type": "markdown",
   "metadata": {},
   "source": [
    "## Importing Libraries"
   ]
  },
  {
   "cell_type": "code",
   "execution_count": 1,
   "metadata": {},
   "outputs": [],
   "source": [
    "import pandas as pd \n",
    "import numpy as np \n",
    "import matplotlib.pyplot as plt\n",
    "%matplotlib inline  \n",
    "import yfinance as yf \n",
    "from sklearn.preprocessing import StandardScaler\n",
    "sc = StandardScaler() "
   ]
  },
  {
   "cell_type": "markdown",
   "metadata": {},
   "source": [
    "#### Selecting 20 different stocks"
   ]
  },
  {
   "cell_type": "code",
   "execution_count": 2,
   "metadata": {},
   "outputs": [],
   "source": [
    "tickers = ['AMD','AAPL','CSCO','INTC','ORCL','MSFT','GOOGL','DIS','CEA','ERIC',\n",
    "           'HPQ','WMT','PCG','JNJ','NEE','AEP','COKE','PEP','MCD','MRK']\n",
    "\n",
    "start_date = '2008-01-01'\n",
    "end_date = '2018-01-01'  "
   ]
  },
  {
   "cell_type": "code",
   "execution_count": 3,
   "metadata": {},
   "outputs": [
    {
     "name": "stderr",
     "output_type": "stream",
     "text": [
      "[*********************100%%**********************]  1 of 1 completed\n",
      "[*********************100%%**********************]  1 of 1 completed\n",
      "[*********************100%%**********************]  1 of 1 completed\n",
      "[*********************100%%**********************]  1 of 1 completed\n",
      "[*********************100%%**********************]  1 of 1 completed\n",
      "[*********************100%%**********************]  1 of 1 completed\n",
      "[*********************100%%**********************]  1 of 1 completed\n",
      "[*********************100%%**********************]  1 of 1 completed\n",
      "[*********************100%%**********************]  1 of 1 completed\n",
      "\n",
      "1 Failed download:\n",
      "['CEA']: YFTzMissingError('$%ticker%: possibly delisted; No timezone found')\n",
      "[*********************100%%**********************]  1 of 1 completed\n",
      "[*********************100%%**********************]  1 of 1 completed\n",
      "[*********************100%%**********************]  1 of 1 completed\n",
      "[*********************100%%**********************]  1 of 1 completed\n",
      "[*********************100%%**********************]  1 of 1 completed\n",
      "[*********************100%%**********************]  1 of 1 completed\n",
      "[*********************100%%**********************]  1 of 1 completed\n",
      "[*********************100%%**********************]  1 of 1 completed\n",
      "[*********************100%%**********************]  1 of 1 completed\n",
      "[*********************100%%**********************]  1 of 1 completed\n",
      "[*********************100%%**********************]  1 of 1 completed\n"
     ]
    }
   ],
   "source": [
    "data_frames = {} \n",
    "fail = []\n",
    "for tick in tickers:  \n",
    "    df = pd.DataFrame()\n",
    "    df = yf.download(tick,start=start_date,end=end_date)\n",
    "    if len(df)==0:\n",
    "        fail.append(tick) \n",
    "        continue \n",
    "    else:\n",
    "        df.rename(columns={'Open':f'{tick}_Open','High':f'{tick}_High','Low':f'{tick}_Low','Close':f'{tick}_Close',\n",
    "                       'Volume':f'{tick}_Volume','Adj Close':f'{tick}_Adj Close'},inplace=True) \n",
    "        data_frames[f'df_{tick}'] = df "
   ]
  },
  {
   "cell_type": "code",
   "execution_count": 4,
   "metadata": {},
   "outputs": [
    {
     "name": "stdout",
     "output_type": "stream",
     "text": [
      "Total tickers considered :  20\n",
      "Data download failed for tickers :  ['CEA']\n",
      "Total tickers available :  19\n"
     ]
    }
   ],
   "source": [
    "print(f'Total tickers considered : ',len(tickers)) \n",
    "print(f'Data download failed for tickers : ',fail) \n",
    "print(f'Total tickers available : ',len(data_frames))   "
   ]
  },
  {
   "cell_type": "code",
   "execution_count": 5,
   "metadata": {},
   "outputs": [
    {
     "data": {
      "text/plain": [
       "(2518, 6)"
      ]
     },
     "execution_count": 5,
     "metadata": {},
     "output_type": "execute_result"
    }
   ],
   "source": [
    "data_frames['df_AMD'].shape "
   ]
  },
  {
   "cell_type": "markdown",
   "metadata": {},
   "source": [
    "#### Scaling the values in each dataframe and storing the corresponding arrays and data frames in dictionary format "
   ]
  },
  {
   "cell_type": "code",
   "execution_count": 6,
   "metadata": {},
   "outputs": [],
   "source": [
    "scaled_data = {}\n",
    "scaled_df = {} \n",
    "for tick,df in data_frames.items():\n",
    "    scaled_data[f'{tick}'] = sc.fit_transform(df) \n",
    "    scaled_df[f'{tick}'] = pd.DataFrame(data=scaled_data[f'{tick}'], columns=df.columns) "
   ]
  },
  {
   "cell_type": "markdown",
   "metadata": {},
   "source": [
    "#### Finding the standard deviation of each column in each dataframe and storing it in a dictionary"
   ]
  },
  {
   "cell_type": "code",
   "execution_count": 7,
   "metadata": {},
   "outputs": [],
   "source": [
    "standard_dev = {}\n",
    "for tick, df in scaled_df.items():\n",
    "    standard_dev[f'{tick}'] = df.std() "
   ]
  },
  {
   "cell_type": "markdown",
   "metadata": {},
   "source": [
    "### Calculating $\\beta$-coefficient"
   ]
  },
  {
   "cell_type": "markdown",
   "metadata": {},
   "source": [
    "Beta measures the volatility, or systematic risk, of a stock in relation to the overall market. So, here we have to take S&P500 as benchmark."
   ]
  },
  {
   "cell_type": "code",
   "execution_count": 8,
   "metadata": {},
   "outputs": [
    {
     "name": "stderr",
     "output_type": "stream",
     "text": [
      "[*********************100%%**********************]  1 of 1 completed\n"
     ]
    }
   ],
   "source": [
    "df_bench_close = yf.download('^GSPC',start=start_date,end=end_date)['Adj Close'] "
   ]
  },
  {
   "cell_type": "code",
   "execution_count": 9,
   "metadata": {},
   "outputs": [],
   "source": [
    "stock_data_close = {}\n",
    "\n",
    "for tick, df in data_frames.items():    \n",
    "    ticker = tick.split('_')[1] \n",
    "    stock_data_close[ticker] = df[f'{ticker}_Adj Close']  "
   ]
  },
  {
   "cell_type": "code",
   "execution_count": 10,
   "metadata": {},
   "outputs": [],
   "source": [
    "benchmark_returns = df_bench_close.pct_change().dropna()\n",
    "variance = benchmark_returns.var() "
   ]
  },
  {
   "cell_type": "code",
   "execution_count": 11,
   "metadata": {},
   "outputs": [],
   "source": [
    "stock_returns = {}\n",
    "stock_cov = {} \n",
    "beta = {}\n",
    "\n",
    "for tick in stock_data_close:\n",
    "    stock_returns[tick] = stock_data_close[tick].pct_change().dropna()  # Calculating daily returns\n",
    "    stock_cov[tick] = stock_returns[tick].cov(benchmark_returns)  # Calculating covariance\n",
    "    beta[tick] = stock_cov[tick]/variance   # Calculating beta-coefficient "
   ]
  },
  {
   "cell_type": "markdown",
   "metadata": {},
   "source": [
    "#### $\\beta$-coefficient for respective tickers"
   ]
  },
  {
   "cell_type": "code",
   "execution_count": 12,
   "metadata": {},
   "outputs": [
    {
     "data": {
      "text/plain": [
       "{'AMD': 1.4296052820603145,\n",
       " 'AAPL': 0.948585563039305,\n",
       " 'CSCO': 1.0460787518972827,\n",
       " 'INTC': 1.0237096112657598,\n",
       " 'ORCL': 0.9937152094176303,\n",
       " 'MSFT': 0.9565029923131274,\n",
       " 'GOOGL': 0.936107159748868,\n",
       " 'DIS': 1.0621765244262076,\n",
       " 'ERIC': 1.242361915981989,\n",
       " 'HPQ': 0.9722097121061177,\n",
       " 'WMT': 0.5068536501811887,\n",
       " 'PCG': 0.5456102914303368,\n",
       " 'JNJ': 0.5622697254528666,\n",
       " 'NEE': 0.686813783457772,\n",
       " 'AEP': 0.6335410580558766,\n",
       " 'COKE': 0.7010562183233562,\n",
       " 'PEP': 0.5271189510910477,\n",
       " 'MCD': 0.5729175841412574,\n",
       " 'MRK': 0.7842098774320623}"
      ]
     },
     "execution_count": 12,
     "metadata": {},
     "output_type": "execute_result"
    }
   ],
   "source": [
    "beta "
   ]
  },
  {
   "cell_type": "code",
   "execution_count": 21,
   "metadata": {},
   "outputs": [
    {
     "data": {
      "text/html": [
       "<div>\n",
       "<style scoped>\n",
       "    .dataframe tbody tr th:only-of-type {\n",
       "        vertical-align: middle;\n",
       "    }\n",
       "\n",
       "    .dataframe tbody tr th {\n",
       "        vertical-align: top;\n",
       "    }\n",
       "\n",
       "    .dataframe thead tr th {\n",
       "        text-align: left;\n",
       "    }\n",
       "</style>\n",
       "<table border=\"1\" class=\"dataframe\">\n",
       "  <thead>\n",
       "    <tr>\n",
       "      <th></th>\n",
       "      <th>Ticker</th>\n",
       "      <th>Beta values</th>\n",
       "    </tr>\n",
       "  </thead>\n",
       "  <tbody>\n",
       "    <tr>\n",
       "      <th>0</th>\n",
       "      <td>AMD</td>\n",
       "      <td>1.429605</td>\n",
       "    </tr>\n",
       "    <tr>\n",
       "      <th>1</th>\n",
       "      <td>ERIC</td>\n",
       "      <td>1.242362</td>\n",
       "    </tr>\n",
       "    <tr>\n",
       "      <th>2</th>\n",
       "      <td>DIS</td>\n",
       "      <td>1.062177</td>\n",
       "    </tr>\n",
       "    <tr>\n",
       "      <th>3</th>\n",
       "      <td>CSCO</td>\n",
       "      <td>1.046079</td>\n",
       "    </tr>\n",
       "    <tr>\n",
       "      <th>4</th>\n",
       "      <td>INTC</td>\n",
       "      <td>1.023710</td>\n",
       "    </tr>\n",
       "    <tr>\n",
       "      <th>5</th>\n",
       "      <td>ORCL</td>\n",
       "      <td>0.993715</td>\n",
       "    </tr>\n",
       "    <tr>\n",
       "      <th>6</th>\n",
       "      <td>HPQ</td>\n",
       "      <td>0.972210</td>\n",
       "    </tr>\n",
       "    <tr>\n",
       "      <th>7</th>\n",
       "      <td>MSFT</td>\n",
       "      <td>0.956503</td>\n",
       "    </tr>\n",
       "    <tr>\n",
       "      <th>8</th>\n",
       "      <td>AAPL</td>\n",
       "      <td>0.948586</td>\n",
       "    </tr>\n",
       "    <tr>\n",
       "      <th>9</th>\n",
       "      <td>GOOGL</td>\n",
       "      <td>0.936107</td>\n",
       "    </tr>\n",
       "    <tr>\n",
       "      <th>10</th>\n",
       "      <td>MRK</td>\n",
       "      <td>0.784210</td>\n",
       "    </tr>\n",
       "    <tr>\n",
       "      <th>11</th>\n",
       "      <td>COKE</td>\n",
       "      <td>0.701056</td>\n",
       "    </tr>\n",
       "    <tr>\n",
       "      <th>12</th>\n",
       "      <td>NEE</td>\n",
       "      <td>0.686814</td>\n",
       "    </tr>\n",
       "    <tr>\n",
       "      <th>13</th>\n",
       "      <td>AEP</td>\n",
       "      <td>0.633541</td>\n",
       "    </tr>\n",
       "    <tr>\n",
       "      <th>14</th>\n",
       "      <td>MCD</td>\n",
       "      <td>0.572918</td>\n",
       "    </tr>\n",
       "    <tr>\n",
       "      <th>15</th>\n",
       "      <td>JNJ</td>\n",
       "      <td>0.562270</td>\n",
       "    </tr>\n",
       "    <tr>\n",
       "      <th>16</th>\n",
       "      <td>PCG</td>\n",
       "      <td>0.545610</td>\n",
       "    </tr>\n",
       "    <tr>\n",
       "      <th>17</th>\n",
       "      <td>PEP</td>\n",
       "      <td>0.527119</td>\n",
       "    </tr>\n",
       "    <tr>\n",
       "      <th>18</th>\n",
       "      <td>WMT</td>\n",
       "      <td>0.506854</td>\n",
       "    </tr>\n",
       "  </tbody>\n",
       "</table>\n",
       "</div>"
      ],
      "text/plain": [
       "   Ticker Beta values\n",
       "0     AMD    1.429605\n",
       "1    ERIC    1.242362\n",
       "2     DIS    1.062177\n",
       "3    CSCO    1.046079\n",
       "4    INTC    1.023710\n",
       "5    ORCL    0.993715\n",
       "6     HPQ    0.972210\n",
       "7    MSFT    0.956503\n",
       "8    AAPL    0.948586\n",
       "9   GOOGL    0.936107\n",
       "10    MRK    0.784210\n",
       "11   COKE    0.701056\n",
       "12    NEE    0.686814\n",
       "13    AEP    0.633541\n",
       "14    MCD    0.572918\n",
       "15    JNJ    0.562270\n",
       "16    PCG    0.545610\n",
       "17    PEP    0.527119\n",
       "18    WMT    0.506854"
      ]
     },
     "execution_count": 21,
     "metadata": {},
     "output_type": "execute_result"
    }
   ],
   "source": [
    "sorted_beta = sorted(beta.items(), key=lambda x: x[1], reverse=True)\n",
    "beta_df = pd.DataFrame(sorted_beta, columns=[['Ticker','Beta values']])\n",
    "beta_df "
   ]
  },
  {
   "cell_type": "markdown",
   "metadata": {},
   "source": [
    "Value of $\\beta$ is always +ve. It is either above or below 1. \n",
    "\n",
    "* If $\\beta<1 \\implies$ variability of this asset's return rate is lower than market portfolio\n",
    "* If $\\beta>1 \\implies$ variability of this asset's return rate is higher than market portfolio"
   ]
  },
  {
   "cell_type": "markdown",
   "metadata": {},
   "source": [
    "### Classifying stocks as Aggressive and Defensive"
   ]
  },
  {
   "cell_type": "markdown",
   "metadata": {},
   "source": [
    "Categorizing stocks as aggressive and defensive is based on their beta value\n",
    "\n",
    "* Aggressive stocks : Stocks facing higher volatility in revenue, leading to higher stock returns and sensitivity to the market index. High-tech stocks are regarded as aggressive. Also, numerically, if $\\beta>1$, it is referred to as aggressive stocks.\n",
    "\n",
    "* Defensive stocks : These kind of stocks can be found under daily-necessity sectors, sucha as public utilities, pharmaceutical firms, airline and tourism industries etc... If $\\beta<1$, it is referred to as defensive stocks."
   ]
  },
  {
   "cell_type": "code",
   "execution_count": 14,
   "metadata": {},
   "outputs": [],
   "source": [
    "aggressive = []\n",
    "defensive = []\n",
    "\n",
    "for tick, value in beta.items():\n",
    "    if value>1.0:\n",
    "        aggressive.append(tick)\n",
    "    else:\n",
    "        defensive.append(tick)     "
   ]
  },
  {
   "cell_type": "code",
   "execution_count": 15,
   "metadata": {},
   "outputs": [
    {
     "data": {
      "text/plain": [
       "['AMD', 'CSCO', 'INTC', 'DIS', 'ERIC']"
      ]
     },
     "execution_count": 15,
     "metadata": {},
     "output_type": "execute_result"
    }
   ],
   "source": [
    "aggressive "
   ]
  },
  {
   "cell_type": "code",
   "execution_count": 16,
   "metadata": {},
   "outputs": [
    {
     "data": {
      "text/plain": [
       "['AAPL',\n",
       " 'ORCL',\n",
       " 'MSFT',\n",
       " 'GOOGL',\n",
       " 'HPQ',\n",
       " 'WMT',\n",
       " 'PCG',\n",
       " 'JNJ',\n",
       " 'NEE',\n",
       " 'AEP',\n",
       " 'COKE',\n",
       " 'PEP',\n",
       " 'MCD',\n",
       " 'MRK']"
      ]
     },
     "execution_count": 16,
     "metadata": {},
     "output_type": "execute_result"
    }
   ],
   "source": [
    "defensive "
   ]
  },
  {
   "cell_type": "markdown",
   "metadata": {},
   "source": [
    "### Identifying pairs with cointegration test"
   ]
  },
  {
   "cell_type": "markdown",
   "metadata": {},
   "source": [
    "1. Augmented Dickey-Fuller unit root test : Used to test the cointegration relationship between two objects after conducting stationary test\n",
    "2. Augmented Engle-Granger two step cointegration test"
   ]
  },
  {
   "cell_type": "markdown",
   "metadata": {},
   "source": [
    "#### Stationarity and Augmented Dickey-Fuller test (ADF)"
   ]
  },
  {
   "cell_type": "markdown",
   "metadata": {},
   "source": [
    "Stationarity in a time series analysis implies that the statistical properties of a time series such as mean, variance and auto-correlation are constant over time. ADF is a commonly used statistical test to check for stationarity. The null hypothesis of ADF test is that the time series has a unit root, that is it is non-stationary whereas alternative hypothesis is that the time series is stationary.\n",
    "\n",
    "* p-value $<0.05$ gives that the null hypothesis can be rejected and the series is stationary\n",
    "* p-value $>0.05$ gives that the series is non-stationary  "
   ]
  },
  {
   "cell_type": "code",
   "execution_count": 22,
   "metadata": {},
   "outputs": [],
   "source": [
    "from statsmodels.tsa.stattools import adfuller "
   ]
  },
  {
   "cell_type": "markdown",
   "metadata": {},
   "source": [
    "#### Function to perform adf test"
   ]
  },
  {
   "cell_type": "code",
   "execution_count": 33,
   "metadata": {},
   "outputs": [],
   "source": [
    "def adf_test(series, tick):\n",
    "    result = adfuller(series)\n",
    "    print('-'*20,tick,'-'*20)\n",
    "    print()  \n",
    "    print(f'ADF statistic for {tick} : {result[0]}')\n",
    "    print(f'p-value for {tick} : {result[1]}') \n",
    "    for key, values in result[4].items():\n",
    "        print(f'Critical values {key} for {tick} : {values}') \n",
    "    print()"
   ]
  },
  {
   "cell_type": "code",
   "execution_count": 34,
   "metadata": {},
   "outputs": [
    {
     "name": "stdout",
     "output_type": "stream",
     "text": [
      "-------------------- AMD --------------------\n",
      "\n",
      "ADF statistic for AMD : -1.4140006569239492\n",
      "p-value for AMD : 0.5755459280644902\n",
      "Critical values 1% for AMD : -3.4329610922579095\n",
      "Critical values 5% for AMD : -2.8626935681060375\n",
      "Critical values 10% for AMD : -2.567384088736619\n",
      "\n",
      "-------------------- AAPL --------------------\n",
      "\n",
      "ADF statistic for AAPL : 0.8142216991646601\n",
      "p-value for AAPL : 0.9918622989293024\n",
      "Critical values 1% for AAPL : -3.4329507078222634\n",
      "Critical values 5% for AAPL : -2.8626889823128554\n",
      "Critical values 10% for AAPL : -2.567381647203466\n",
      "\n",
      "-------------------- CSCO --------------------\n",
      "\n",
      "ADF statistic for CSCO : 0.0715257751880899\n",
      "p-value for CSCO : 0.9640623878923115\n",
      "Critical values 1% for CSCO : -3.4329517425474014\n",
      "Critical values 5% for CSCO : -2.862689439250822\n",
      "Critical values 10% for CSCO : -2.5673818904827863\n",
      "\n",
      "-------------------- INTC --------------------\n",
      "\n",
      "ADF statistic for INTC : 0.546356512465547\n",
      "p-value for INTC : 0.9862160031409304\n",
      "Critical values 1% for INTC : -3.4329694597063978\n",
      "Critical values 5% for INTC : -2.8626972631809684\n",
      "Critical values 10% for INTC : -2.567386056042265\n",
      "\n",
      "-------------------- ORCL --------------------\n",
      "\n",
      "ADF statistic for ORCL : -0.8466440948952895\n",
      "p-value for ORCL : 0.8050354494050458\n",
      "Critical values 1% for ORCL : -3.4329517425474014\n",
      "Critical values 5% for ORCL : -2.862689439250822\n",
      "Critical values 10% for ORCL : -2.5673818904827863\n",
      "\n",
      "-------------------- MSFT --------------------\n",
      "\n",
      "ADF statistic for MSFT : 2.775764047345\n",
      "p-value for MSFT : 1.0\n",
      "Critical values 1% for MSFT : -3.432962135264372\n",
      "Critical values 5% for MSFT : -2.862694028699462\n",
      "Critical values 10% for MSFT : -2.567384333962417\n",
      "\n",
      "-------------------- GOOGL --------------------\n",
      "\n",
      "ADF statistic for GOOGL : 1.1094382585986196\n",
      "p-value for GOOGL : 0.9952963747253716\n",
      "Critical values 1% for GOOGL : -3.4329507078222634\n",
      "Critical values 5% for GOOGL : -2.8626889823128554\n",
      "Critical values 10% for GOOGL : -2.567381647203466\n",
      "\n",
      "-------------------- DIS --------------------\n",
      "\n",
      "ADF statistic for DIS : -0.30526776497233044\n",
      "p-value for DIS : 0.9247549384287392\n",
      "Critical values 1% for DIS : -3.432962135264372\n",
      "Critical values 5% for DIS : -2.862694028699462\n",
      "Critical values 10% for DIS : -2.567384333962417\n",
      "\n",
      "-------------------- ERIC --------------------\n",
      "\n",
      "ADF statistic for ERIC : -2.479431251965551\n",
      "p-value for ERIC : 0.1205594666009831\n",
      "Critical values 1% for ERIC : -3.4329517425474014\n",
      "Critical values 5% for ERIC : -2.862689439250822\n",
      "Critical values 10% for ERIC : -2.5673818904827863\n",
      "\n",
      "-------------------- HPQ --------------------\n",
      "\n",
      "ADF statistic for HPQ : -1.1561367493509818\n",
      "p-value for HPQ : 0.6921744424653578\n",
      "Critical values 1% for HPQ : -3.432955889694659\n",
      "Critical values 5% for HPQ : -2.8626912706428715\n",
      "Critical values 10% for HPQ : -2.567382865538409\n",
      "\n",
      "-------------------- WMT --------------------\n",
      "\n",
      "ADF statistic for WMT : 0.19237237246799477\n",
      "p-value for WMT : 0.97183052399971\n",
      "Critical values 1% for WMT : -3.4329789374204935\n",
      "Critical values 5% for WMT : -2.8627014485379787\n",
      "Critical values 10% for WMT : -2.5673882843825098\n",
      "\n",
      "-------------------- PCG --------------------\n",
      "\n",
      "ADF statistic for PCG : -1.3605871946439634\n",
      "p-value for PCG : 0.601018575189808\n",
      "Critical values 1% for PCG : -3.4329747166494915\n",
      "Critical values 5% for PCG : -2.862699584647827\n",
      "Critical values 10% for PCG : -2.567387292022104\n",
      "\n",
      "-------------------- JNJ --------------------\n",
      "\n",
      "ADF statistic for JNJ : 1.1805149265686017\n",
      "p-value for JNJ : 0.9958484558799535\n",
      "Critical values 1% for JNJ : -3.4329538144697187\n",
      "Critical values 5% for JNJ : -2.8626903542179405\n",
      "Critical values 10% for JNJ : -2.567382377622466\n",
      "\n",
      "-------------------- NEE --------------------\n",
      "\n",
      "ADF statistic for NEE : 1.7644955810963692\n",
      "p-value for NEE : 0.9982759380914241\n",
      "Critical values 1% for NEE : -3.4329527780962255\n",
      "Critical values 5% for NEE : -2.8626898965523724\n",
      "Critical values 10% for NEE : -2.567382133955709\n",
      "\n",
      "-------------------- AEP --------------------\n",
      "\n",
      "ADF statistic for AEP : 0.816096446939699\n",
      "p-value for AEP : 0.9918916016020601\n",
      "Critical values 1% for AEP : -3.4329527780962255\n",
      "Critical values 5% for AEP : -2.8626898965523724\n",
      "Critical values 10% for AEP : -2.567382133955709\n",
      "\n",
      "-------------------- COKE --------------------\n",
      "\n",
      "ADF statistic for COKE : 0.5362426820286806\n",
      "p-value for COKE : 0.9859340149213794\n",
      "Critical values 1% for COKE : -3.432976825339513\n",
      "Critical values 5% for COKE : -2.862700515844509\n",
      "Critical values 10% for COKE : -2.5673877878037974\n",
      "\n",
      "-------------------- PEP --------------------\n",
      "\n",
      "ADF statistic for PEP : 0.910999932631797\n",
      "p-value for PEP : 0.9932322123621637\n",
      "Critical values 1% for PEP : -3.432954851668868\n",
      "Critical values 5% for PEP : -2.862690812247962\n",
      "Critical values 10% for PEP : -2.5673826214832887\n",
      "\n",
      "-------------------- MCD --------------------\n",
      "\n",
      "ADF statistic for MCD : 2.1216339679713694\n",
      "p-value for MCD : 0.998811577146176\n",
      "Critical values 1% for MCD : -3.4329527780962255\n",
      "Critical values 5% for MCD : -2.8626898965523724\n",
      "Critical values 10% for MCD : -2.567382133955709\n",
      "\n",
      "-------------------- MRK --------------------\n",
      "\n",
      "ADF statistic for MRK : -0.5817362971134451\n",
      "p-value for MRK : 0.8750557029770067\n",
      "Critical values 1% for MRK : -3.4329527780962255\n",
      "Critical values 5% for MRK : -2.8626898965523724\n",
      "Critical values 10% for MRK : -2.567382133955709\n",
      "\n"
     ]
    }
   ],
   "source": [
    "for tick, df in stock_data_close.items():\n",
    "    adf_test(df,tick) "
   ]
  },
  {
   "cell_type": "markdown",
   "metadata": {},
   "source": [
    "#### Creating a data frame with Adj Close values"
   ]
  },
  {
   "cell_type": "code",
   "execution_count": 56,
   "metadata": {},
   "outputs": [],
   "source": [
    "def dataframeClose(tickers):\n",
    "    df_close = pd.DataFrame()\n",
    "\n",
    "    for tick in tickers:\n",
    "        df = yf.download(tick, start=start_date, end=end_date)\n",
    "        if len(df)==0:\n",
    "           continue\n",
    "        else:\n",
    "          df_close[tick]=df['Adj Close'] \n",
    "\n",
    "    return df_close       "
   ]
  },
  {
   "cell_type": "code",
   "execution_count": 57,
   "metadata": {},
   "outputs": [
    {
     "name": "stderr",
     "output_type": "stream",
     "text": [
      "[*********************100%%**********************]  1 of 1 completed\n",
      "[*********************100%%**********************]  1 of 1 completed\n",
      "[*********************100%%**********************]  1 of 1 completed\n",
      "[*********************100%%**********************]  1 of 1 completed\n",
      "[*********************100%%**********************]  1 of 1 completed\n"
     ]
    }
   ],
   "source": [
    "df_aggClose = dataframeClose(aggressive) "
   ]
  },
  {
   "cell_type": "code",
   "execution_count": 58,
   "metadata": {},
   "outputs": [
    {
     "name": "stderr",
     "output_type": "stream",
     "text": [
      "[*********************100%%**********************]  1 of 1 completed\n",
      "[*********************100%%**********************]  1 of 1 completed\n",
      "[*********************100%%**********************]  1 of 1 completed\n",
      "[*********************100%%**********************]  1 of 1 completed\n",
      "[*********************100%%**********************]  1 of 1 completed\n",
      "[*********************100%%**********************]  1 of 1 completed\n",
      "[*********************100%%**********************]  1 of 1 completed\n",
      "[*********************100%%**********************]  1 of 1 completed\n",
      "[*********************100%%**********************]  1 of 1 completed\n",
      "[*********************100%%**********************]  1 of 1 completed\n",
      "[*********************100%%**********************]  1 of 1 completed\n",
      "[*********************100%%**********************]  1 of 1 completed\n",
      "[*********************100%%**********************]  1 of 1 completed\n",
      "[*********************100%%**********************]  1 of 1 completed\n"
     ]
    }
   ],
   "source": [
    "df_defClose = dataframeClose(defensive) "
   ]
  },
  {
   "cell_type": "code",
   "execution_count": 49,
   "metadata": {},
   "outputs": [],
   "source": [
    "def p_valueFn(series):\n",
    "    result = adfuller(series)\n",
    "    return result[1] "
   ]
  },
  {
   "cell_type": "code",
   "execution_count": 46,
   "metadata": {},
   "outputs": [],
   "source": [
    "import itertools "
   ]
  },
  {
   "cell_type": "code",
   "execution_count": 61,
   "metadata": {},
   "outputs": [],
   "source": [
    "def pairsList(df_close):\n",
    "    pairs_l = []\n",
    "    pairs_g = []\n",
    "\n",
    "    for pair in itertools.combinations(df_close.columns,2):\n",
    "        spread  = df_close[pair[0]] - df_close[pair[1]]\n",
    "        p_value = p_valueFn(spread.dropna()) \n",
    "        if p_value<0.05:\n",
    "            pairs_l.append((pair[0],pair[1],p_value))\n",
    "        else:\n",
    "            pairs_g.append((pair[0],pair[1],p_value)) \n",
    "    return pairs_l, pairs_g            "
   ]
  },
  {
   "cell_type": "code",
   "execution_count": 62,
   "metadata": {},
   "outputs": [],
   "source": [
    "pairs_aggL, pairs_aggG = pairsList(df_aggClose)\n",
    "pairs_defL, pairs_defG = pairsList(df_defClose) "
   ]
  },
  {
   "cell_type": "code",
   "execution_count": 63,
   "metadata": {},
   "outputs": [
    {
     "data": {
      "text/plain": [
       "[('AMD', 'CSCO', 0.7575658162909402),\n",
       " ('AMD', 'INTC', 0.8713820272100768),\n",
       " ('AMD', 'DIS', 0.9082338133162171),\n",
       " ('AMD', 'ERIC', 0.6689592910809128),\n",
       " ('CSCO', 'INTC', 0.3109244557942084),\n",
       " ('CSCO', 'DIS', 0.852396026093164),\n",
       " ('CSCO', 'ERIC', 0.9925576006592457),\n",
       " ('INTC', 'DIS', 0.8110223483145513),\n",
       " ('INTC', 'ERIC', 0.9957810217995531),\n",
       " ('DIS', 'ERIC', 0.9438495897191578)]"
      ]
     },
     "execution_count": 63,
     "metadata": {},
     "output_type": "execute_result"
    }
   ],
   "source": [
    "pairs_aggG "
   ]
  },
  {
   "cell_type": "code",
   "execution_count": 64,
   "metadata": {},
   "outputs": [
    {
     "data": {
      "text/plain": [
       "[]"
      ]
     },
     "execution_count": 64,
     "metadata": {},
     "output_type": "execute_result"
    }
   ],
   "source": [
    "pairs_aggL "
   ]
  },
  {
   "cell_type": "code",
   "execution_count": 65,
   "metadata": {},
   "outputs": [
    {
     "data": {
      "text/plain": [
       "[('AAPL', 'ORCL', 0.08049372591711967),\n",
       " ('AAPL', 'MSFT', 0.990322914954289),\n",
       " ('AAPL', 'GOOGL', 0.2994459166166149),\n",
       " ('AAPL', 'HPQ', 0.8977018799976404),\n",
       " ('AAPL', 'WMT', 0.8525849486490338),\n",
       " ('AAPL', 'PCG', 0.514151123870793),\n",
       " ('AAPL', 'JNJ', 0.9516738106608016),\n",
       " ('AAPL', 'NEE', 0.3175499168272615),\n",
       " ('AAPL', 'AEP', 0.1916787772103808),\n",
       " ('AAPL', 'COKE', 0.9638504195463066),\n",
       " ('AAPL', 'PEP', 0.7898455623551851),\n",
       " ('AAPL', 'MCD', 0.9948419881856896),\n",
       " ('AAPL', 'MRK', 0.05583430444904344),\n",
       " ('ORCL', 'MSFT', 0.995492367219467),\n",
       " ('ORCL', 'GOOGL', 0.6968372189026115),\n",
       " ('ORCL', 'HPQ', 0.5786386301689384),\n",
       " ('ORCL', 'WMT', 0.24689940251091602),\n",
       " ('ORCL', 'PCG', 0.3594201297997637),\n",
       " ('ORCL', 'JNJ', 0.9876643077793417),\n",
       " ('ORCL', 'AEP', 0.5090698699722197),\n",
       " ('ORCL', 'COKE', 0.9763368670473037),\n",
       " ('ORCL', 'PEP', 0.9345251262029588),\n",
       " ('ORCL', 'MCD', 0.9985675093626746),\n",
       " ('MSFT', 'GOOGL', 0.9677535843832012),\n",
       " ('MSFT', 'HPQ', 0.9990245837544638),\n",
       " ('MSFT', 'WMT', 0.9975022700639917),\n",
       " ('MSFT', 'PCG', 0.99897636462875),\n",
       " ('MSFT', 'JNJ', 0.308697036863131),\n",
       " ('MSFT', 'NEE', 0.9971928199987887),\n",
       " ('MSFT', 'AEP', 0.8055218759556378),\n",
       " ('MSFT', 'COKE', 0.8998975476803431),\n",
       " ('MSFT', 'PEP', 0.10676994684350655),\n",
       " ('MSFT', 'MCD', 0.7548426276115221),\n",
       " ('MSFT', 'MRK', 0.9955328831669118),\n",
       " ('GOOGL', 'HPQ', 0.971108709949224),\n",
       " ('GOOGL', 'WMT', 0.9526785648587129),\n",
       " ('GOOGL', 'PCG', 0.7642532022193947),\n",
       " ('GOOGL', 'JNJ', 0.8691673841606703),\n",
       " ('GOOGL', 'NEE', 0.8154283235865887),\n",
       " ('GOOGL', 'COKE', 0.9559702835044751),\n",
       " ('GOOGL', 'PEP', 0.5106519765316665),\n",
       " ('GOOGL', 'MCD', 0.9850488190099577),\n",
       " ('GOOGL', 'MRK', 0.4105214077810884),\n",
       " ('HPQ', 'WMT', 0.5894785188575882),\n",
       " ('HPQ', 'PCG', 0.5571749365839219),\n",
       " ('HPQ', 'JNJ', 0.9937594469564454),\n",
       " ('HPQ', 'NEE', 0.8808108220138045),\n",
       " ('HPQ', 'AEP', 0.9423812842816254),\n",
       " ('HPQ', 'COKE', 0.9809560827663494),\n",
       " ('HPQ', 'PEP', 0.9742868858551444),\n",
       " ('HPQ', 'MCD', 0.9981113436057965),\n",
       " ('HPQ', 'MRK', 0.8023140102610248),\n",
       " ('WMT', 'PCG', 0.5063605240072404),\n",
       " ('WMT', 'JNJ', 0.9903666222744865),\n",
       " ('WMT', 'NEE', 0.873187218835382),\n",
       " ('WMT', 'AEP', 0.9592791175979087),\n",
       " ('WMT', 'COKE', 0.9723014979543394),\n",
       " ('WMT', 'PEP', 0.9807706654276533),\n",
       " ('WMT', 'MCD', 0.9986719938564506),\n",
       " ('WMT', 'MRK', 0.5339927415596651),\n",
       " ('PCG', 'JNJ', 0.9972930431731687),\n",
       " ('PCG', 'NEE', 0.4355140920923428),\n",
       " ('PCG', 'AEP', 0.8681125871337017),\n",
       " ('PCG', 'COKE', 0.9843084191392905),\n",
       " ('PCG', 'PEP', 0.996645366336818),\n",
       " ('PCG', 'MCD', 0.9990721333472116),\n",
       " ('PCG', 'MRK', 0.11881666443787653),\n",
       " ('JNJ', 'NEE', 0.9801366933145119),\n",
       " ('JNJ', 'AEP', 0.9319486271195849),\n",
       " ('JNJ', 'COKE', 0.824056263248768),\n",
       " ('JNJ', 'PEP', 0.2012620485210045),\n",
       " ('JNJ', 'MCD', 0.7137300669405298),\n",
       " ('JNJ', 'MRK', 0.9900766739909103),\n",
       " ('NEE', 'AEP', 0.8772050137504985),\n",
       " ('NEE', 'COKE', 0.9692889858608722),\n",
       " ('NEE', 'PEP', 0.9527185267036298),\n",
       " ('NEE', 'MCD', 0.9968466575442447),\n",
       " ('NEE', 'MRK', 0.21728365200178096),\n",
       " ('AEP', 'COKE', 0.9541268562450816),\n",
       " ('AEP', 'PEP', 0.7253883697951872),\n",
       " ('AEP', 'MCD', 0.993028733123739),\n",
       " ('AEP', 'MRK', 0.1556890743355302),\n",
       " ('COKE', 'PEP', 0.926083137693332),\n",
       " ('COKE', 'MCD', 0.7292571297005637),\n",
       " ('COKE', 'MRK', 0.9756405480167525),\n",
       " ('PEP', 'MCD', 0.9500848596712188),\n",
       " ('PEP', 'MRK', 0.9157398939765256),\n",
       " ('MCD', 'MRK', 0.9977383801930819)]"
      ]
     },
     "execution_count": 65,
     "metadata": {},
     "output_type": "execute_result"
    }
   ],
   "source": [
    "pairs_defG "
   ]
  },
  {
   "cell_type": "code",
   "execution_count": 66,
   "metadata": {},
   "outputs": [
    {
     "data": {
      "text/plain": [
       "[('ORCL', 'NEE', 0.028479283242000122),\n",
       " ('ORCL', 'MRK', 0.02143322681061044),\n",
       " ('GOOGL', 'AEP', 0.0014554417596749126)]"
      ]
     },
     "execution_count": 66,
     "metadata": {},
     "output_type": "execute_result"
    }
   ],
   "source": [
    "pairs_defL"
   ]
  },
  {
   "cell_type": "code",
   "execution_count": 67,
   "metadata": {},
   "outputs": [
    {
     "data": {
      "text/html": [
       "<div>\n",
       "<style scoped>\n",
       "    .dataframe tbody tr th:only-of-type {\n",
       "        vertical-align: middle;\n",
       "    }\n",
       "\n",
       "    .dataframe tbody tr th {\n",
       "        vertical-align: top;\n",
       "    }\n",
       "\n",
       "    .dataframe thead th {\n",
       "        text-align: right;\n",
       "    }\n",
       "</style>\n",
       "<table border=\"1\" class=\"dataframe\">\n",
       "  <thead>\n",
       "    <tr style=\"text-align: right;\">\n",
       "      <th></th>\n",
       "      <th>AAPL</th>\n",
       "      <th>ORCL</th>\n",
       "      <th>MSFT</th>\n",
       "      <th>GOOGL</th>\n",
       "      <th>HPQ</th>\n",
       "      <th>WMT</th>\n",
       "      <th>PCG</th>\n",
       "      <th>JNJ</th>\n",
       "      <th>NEE</th>\n",
       "      <th>AEP</th>\n",
       "      <th>COKE</th>\n",
       "      <th>PEP</th>\n",
       "      <th>MCD</th>\n",
       "      <th>MRK</th>\n",
       "    </tr>\n",
       "    <tr>\n",
       "      <th>Date</th>\n",
       "      <th></th>\n",
       "      <th></th>\n",
       "      <th></th>\n",
       "      <th></th>\n",
       "      <th></th>\n",
       "      <th></th>\n",
       "      <th></th>\n",
       "      <th></th>\n",
       "      <th></th>\n",
       "      <th></th>\n",
       "      <th></th>\n",
       "      <th></th>\n",
       "      <th></th>\n",
       "      <th></th>\n",
       "    </tr>\n",
       "  </thead>\n",
       "  <tbody>\n",
       "    <tr>\n",
       "      <th>2008-01-02</th>\n",
       "      <td>5.883143</td>\n",
       "      <td>18.300968</td>\n",
       "      <td>25.535206</td>\n",
       "      <td>17.127239</td>\n",
       "      <td>15.035050</td>\n",
       "      <td>10.940400</td>\n",
       "      <td>29.559351</td>\n",
       "      <td>40.545528</td>\n",
       "      <td>10.177975</td>\n",
       "      <td>23.933054</td>\n",
       "      <td>48.633270</td>\n",
       "      <td>46.554630</td>\n",
       "      <td>36.491596</td>\n",
       "      <td>30.541338</td>\n",
       "    </tr>\n",
       "    <tr>\n",
       "      <th>2008-01-03</th>\n",
       "      <td>5.885862</td>\n",
       "      <td>18.805479</td>\n",
       "      <td>25.643955</td>\n",
       "      <td>17.130739</td>\n",
       "      <td>15.035050</td>\n",
       "      <td>10.819100</td>\n",
       "      <td>29.655041</td>\n",
       "      <td>40.557823</td>\n",
       "      <td>10.273086</td>\n",
       "      <td>24.005421</td>\n",
       "      <td>47.375198</td>\n",
       "      <td>46.857616</td>\n",
       "      <td>36.384834</td>\n",
       "      <td>30.514711</td>\n",
       "    </tr>\n",
       "    <tr>\n",
       "      <th>2008-01-04</th>\n",
       "      <td>5.436562</td>\n",
       "      <td>17.926653</td>\n",
       "      <td>24.926188</td>\n",
       "      <td>16.422592</td>\n",
       "      <td>14.193199</td>\n",
       "      <td>10.665139</td>\n",
       "      <td>29.627693</td>\n",
       "      <td>40.502449</td>\n",
       "      <td>10.556870</td>\n",
       "      <td>23.927889</td>\n",
       "      <td>46.183380</td>\n",
       "      <td>46.715385</td>\n",
       "      <td>35.832104</td>\n",
       "      <td>30.264511</td>\n",
       "    </tr>\n",
       "    <tr>\n",
       "      <th>2008-01-07</th>\n",
       "      <td>5.363794</td>\n",
       "      <td>18.105677</td>\n",
       "      <td>25.092943</td>\n",
       "      <td>16.228872</td>\n",
       "      <td>13.732921</td>\n",
       "      <td>10.861087</td>\n",
       "      <td>30.119785</td>\n",
       "      <td>41.129913</td>\n",
       "      <td>11.049279</td>\n",
       "      <td>24.625723</td>\n",
       "      <td>45.595749</td>\n",
       "      <td>47.809845</td>\n",
       "      <td>36.447632</td>\n",
       "      <td>30.834127</td>\n",
       "    </tr>\n",
       "    <tr>\n",
       "      <th>2008-01-08</th>\n",
       "      <td>5.170848</td>\n",
       "      <td>17.210564</td>\n",
       "      <td>24.251921</td>\n",
       "      <td>15.789686</td>\n",
       "      <td>13.078825</td>\n",
       "      <td>10.723456</td>\n",
       "      <td>29.935257</td>\n",
       "      <td>41.179138</td>\n",
       "      <td>10.975646</td>\n",
       "      <td>24.610212</td>\n",
       "      <td>45.446770</td>\n",
       "      <td>48.193214</td>\n",
       "      <td>35.850964</td>\n",
       "      <td>31.760435</td>\n",
       "    </tr>\n",
       "  </tbody>\n",
       "</table>\n",
       "</div>"
      ],
      "text/plain": [
       "                AAPL       ORCL       MSFT      GOOGL        HPQ        WMT  \\\n",
       "Date                                                                          \n",
       "2008-01-02  5.883143  18.300968  25.535206  17.127239  15.035050  10.940400   \n",
       "2008-01-03  5.885862  18.805479  25.643955  17.130739  15.035050  10.819100   \n",
       "2008-01-04  5.436562  17.926653  24.926188  16.422592  14.193199  10.665139   \n",
       "2008-01-07  5.363794  18.105677  25.092943  16.228872  13.732921  10.861087   \n",
       "2008-01-08  5.170848  17.210564  24.251921  15.789686  13.078825  10.723456   \n",
       "\n",
       "                  PCG        JNJ        NEE        AEP       COKE        PEP  \\\n",
       "Date                                                                           \n",
       "2008-01-02  29.559351  40.545528  10.177975  23.933054  48.633270  46.554630   \n",
       "2008-01-03  29.655041  40.557823  10.273086  24.005421  47.375198  46.857616   \n",
       "2008-01-04  29.627693  40.502449  10.556870  23.927889  46.183380  46.715385   \n",
       "2008-01-07  30.119785  41.129913  11.049279  24.625723  45.595749  47.809845   \n",
       "2008-01-08  29.935257  41.179138  10.975646  24.610212  45.446770  48.193214   \n",
       "\n",
       "                  MCD        MRK  \n",
       "Date                              \n",
       "2008-01-02  36.491596  30.541338  \n",
       "2008-01-03  36.384834  30.514711  \n",
       "2008-01-04  35.832104  30.264511  \n",
       "2008-01-07  36.447632  30.834127  \n",
       "2008-01-08  35.850964  31.760435  "
      ]
     },
     "execution_count": 67,
     "metadata": {},
     "output_type": "execute_result"
    }
   ],
   "source": [
    "df_defClose.head() "
   ]
  },
  {
   "cell_type": "code",
   "execution_count": 68,
   "metadata": {},
   "outputs": [],
   "source": [
    "import statsmodels.api as sm "
   ]
  },
  {
   "cell_type": "code",
   "execution_count": 69,
   "metadata": {},
   "outputs": [
    {
     "name": "stdout",
     "output_type": "stream",
     "text": [
      "Cointegration Test Statistic: -5.060284462506643\n",
      "p-value: 0.00012736170808537407\n",
      "Critical Values: [-3.90079646 -3.33855861 -3.04613545]\n"
     ]
    }
   ],
   "source": [
    "coint_result = sm.tsa.stattools.coint(df_defClose['JNJ'], df_defClose['NEE'])\n",
    "\n",
    "# Print the results\n",
    "coint_t, p_value, critical_values = coint_result\n",
    "print(f'Cointegration Test Statistic: {coint_t}')\n",
    "print(f'p-value: {p_value}')\n",
    "print(f'Critical Values: {critical_values}') "
   ]
  },
  {
   "cell_type": "code",
   "execution_count": null,
   "metadata": {},
   "outputs": [],
   "source": []
  },
  {
   "cell_type": "code",
   "execution_count": null,
   "metadata": {},
   "outputs": [],
   "source": []
  }
 ],
 "metadata": {
  "kernelspec": {
   "display_name": "pyten",
   "language": "python",
   "name": "python3"
  },
  "language_info": {
   "codemirror_mode": {
    "name": "ipython",
    "version": 3
   },
   "file_extension": ".py",
   "mimetype": "text/x-python",
   "name": "python",
   "nbconvert_exporter": "python",
   "pygments_lexer": "ipython3",
   "version": "3.10.14"
  }
 },
 "nbformat": 4,
 "nbformat_minor": 2
}
