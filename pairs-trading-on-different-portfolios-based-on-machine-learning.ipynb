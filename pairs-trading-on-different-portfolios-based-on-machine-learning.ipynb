{
 "cells": [
  {
   "cell_type": "markdown",
   "metadata": {},
   "source": [
    "## Pairs trading on different portfolios based on Machine Learning"
   ]
  },
  {
   "cell_type": "markdown",
   "metadata": {},
   "source": [
    "Statistical arbitrage is the trading strategy developed using quantitative and statistical models to generate trading signals. Pairs-trading is one of the statistical arbitrage techniques. Here, this teschnique will be investigated using ML model LSTM (Long Short-term Memory) "
   ]
  },
  {
   "cell_type": "markdown",
   "metadata": {},
   "source": [
    "### Different steps in this project\n",
    "\n",
    "1. Selecting 20 different stocks\n",
    "2. Categorizing stocks into different types (aggressive or defensive types) \n",
    "3. Identifying pairs with co-integration test \n",
    "4. Constructing Portfolio\n",
    "5. Forecasting stock prices using ML algorithm, LSTM \n",
    "6. Calculating Trading Profits "
   ]
  },
  {
   "cell_type": "markdown",
   "metadata": {},
   "source": [
    "### Why LSTM?"
   ]
  },
  {
   "cell_type": "markdown",
   "metadata": {},
   "source": [
    "Among different types of models, deep learning models contain neural networks. Neural networks are capable of providing decent approximation to almost all non-linear functions. Due to the non-linearity of time series data, it is better to use neural networks to predict stock prices, rather than using regular linear frameworks.\n",
    "\n",
    "Merits of using Neural networks\n",
    "* Neural networks are designed to detect non-linearities that exist within the data\n",
    "* Neural networks are scalable with reduced computational load, because, training or updating doesnot require retraining the entire model from scratch when new data is added. "
   ]
  },
  {
   "cell_type": "markdown",
   "metadata": {},
   "source": [
    "### Neural Networks"
   ]
  },
  {
   "cell_type": "markdown",
   "metadata": {},
   "source": [
    "Neural Networks composed of input layer, several hiddien layers and then output layer. Input layer holds the input values, hidden layers process these input values through non-linear functions and the final output is provided at the output layer. Artificial Neurons are the building block of these different layers."
   ]
  },
  {
   "cell_type": "markdown",
   "metadata": {},
   "source": [
    "## Importing Libraries"
   ]
  },
  {
   "cell_type": "code",
   "execution_count": 1,
   "metadata": {},
   "outputs": [],
   "source": [
    "import pandas as pd \n",
    "import numpy as np \n",
    "import matplotlib.pyplot as plt\n",
    "%matplotlib inline  \n",
    "import yfinance as yf "
   ]
  },
  {
   "cell_type": "markdown",
   "metadata": {},
   "source": [
    "#### Selecting 20 different stocks"
   ]
  },
  {
   "cell_type": "code",
   "execution_count": 2,
   "metadata": {},
   "outputs": [],
   "source": [
    "tickers = ['AMD','HPQ','CSCO','INTC','ORCL','MSFT','SNE','DIS','CEA','ERIC',\n",
    "           'UN','WMT','PCG','JNJ','NEE','AEP','COKE','PEP','MCD','MRK']\n",
    "\n",
    "t = ['AMD']\n",
    "start_date = '2008-01-01'\n",
    "end_date = '2018-01-01'  "
   ]
  },
  {
   "cell_type": "code",
   "execution_count": 3,
   "metadata": {},
   "outputs": [
    {
     "name": "stderr",
     "output_type": "stream",
     "text": [
      "[*********************100%%**********************]  1 of 1 completed\n"
     ]
    }
   ],
   "source": [
    "data_frames = {}\n",
    "for tick in t: \n",
    "    df = pd.DataFrame()\n",
    "    df = yf.download(tick,start=start_date,end=end_date)\n",
    "    if len(df)==0:\n",
    "        continue \n",
    "    else:\n",
    "        df.rename(columns={'Open':f'{tick}_Open','High':f'{tick}_High','Low':f'{tick}_Low','Close':f'{tick}_Close',\n",
    "                       'Volume':f'{tick}_Volume','Adj Close':f'{tick}_Adj Close'},inplace=True) \n",
    "        data_frames[f'df_{tick}'] = df "
   ]
  },
  {
   "cell_type": "code",
   "execution_count": 4,
   "metadata": {},
   "outputs": [
    {
     "data": {
      "text/plain": [
       "1"
      ]
     },
     "execution_count": 4,
     "metadata": {},
     "output_type": "execute_result"
    }
   ],
   "source": [
    "len(data_frames) "
   ]
  },
  {
   "cell_type": "code",
   "execution_count": 5,
   "metadata": {},
   "outputs": [
    {
     "data": {
      "text/plain": [
       "(2518, 6)"
      ]
     },
     "execution_count": 5,
     "metadata": {},
     "output_type": "execute_result"
    }
   ],
   "source": [
    "data_frames['df_AMD'].shape "
   ]
  },
  {
   "cell_type": "code",
   "execution_count": 6,
   "metadata": {},
   "outputs": [],
   "source": [
    "from sklearn.preprocessing import StandardScaler\n",
    "sc = StandardScaler() "
   ]
  },
  {
   "cell_type": "markdown",
   "metadata": {},
   "source": [
    "#### Scaling the values in each dataframe and storing the corresponding arrays and data frames in dictionary format "
   ]
  },
  {
   "cell_type": "code",
   "execution_count": 7,
   "metadata": {},
   "outputs": [],
   "source": [
    "scaled_data = {}\n",
    "scaled_df = {} \n",
    "for tick,df in data_frames.items():\n",
    "    scaled_data[f'{tick}'] = sc.fit_transform(df) \n",
    "    scaled_df[f'{tick}'] = pd.DataFrame(data=scaled_data[f'{tick}'], columns=df.columns) "
   ]
  },
  {
   "cell_type": "code",
   "execution_count": 8,
   "metadata": {},
   "outputs": [
    {
     "data": {
      "text/html": [
       "<div>\n",
       "<style scoped>\n",
       "    .dataframe tbody tr th:only-of-type {\n",
       "        vertical-align: middle;\n",
       "    }\n",
       "\n",
       "    .dataframe tbody tr th {\n",
       "        vertical-align: top;\n",
       "    }\n",
       "\n",
       "    .dataframe thead th {\n",
       "        text-align: right;\n",
       "    }\n",
       "</style>\n",
       "<table border=\"1\" class=\"dataframe\">\n",
       "  <thead>\n",
       "    <tr style=\"text-align: right;\">\n",
       "      <th></th>\n",
       "      <th>AMD_Open</th>\n",
       "      <th>AMD_High</th>\n",
       "      <th>AMD_Low</th>\n",
       "      <th>AMD_Close</th>\n",
       "      <th>AMD_Adj Close</th>\n",
       "      <th>AMD_Volume</th>\n",
       "    </tr>\n",
       "  </thead>\n",
       "  <tbody>\n",
       "    <tr>\n",
       "      <th>0</th>\n",
       "      <td>0.542338</td>\n",
       "      <td>0.495612</td>\n",
       "      <td>0.472134</td>\n",
       "      <td>0.462193</td>\n",
       "      <td>0.462193</td>\n",
       "      <td>0.794383</td>\n",
       "    </tr>\n",
       "    <tr>\n",
       "      <th>1</th>\n",
       "      <td>0.462565</td>\n",
       "      <td>0.426578</td>\n",
       "      <td>0.384237</td>\n",
       "      <td>0.343988</td>\n",
       "      <td>0.343988</td>\n",
       "      <td>0.314601</td>\n",
       "    </tr>\n",
       "    <tr>\n",
       "      <th>2</th>\n",
       "      <td>0.299829</td>\n",
       "      <td>0.257132</td>\n",
       "      <td>0.172634</td>\n",
       "      <td>0.177861</td>\n",
       "      <td>0.177861</td>\n",
       "      <td>1.025084</td>\n",
       "    </tr>\n",
       "    <tr>\n",
       "      <th>3</th>\n",
       "      <td>0.213674</td>\n",
       "      <td>0.184961</td>\n",
       "      <td>0.146590</td>\n",
       "      <td>0.123550</td>\n",
       "      <td>0.123550</td>\n",
       "      <td>0.200683</td>\n",
       "    </tr>\n",
       "    <tr>\n",
       "      <th>4</th>\n",
       "      <td>0.153047</td>\n",
       "      <td>0.175547</td>\n",
       "      <td>0.130313</td>\n",
       "      <td>0.097992</td>\n",
       "      <td>0.097992</td>\n",
       "      <td>0.420358</td>\n",
       "    </tr>\n",
       "    <tr>\n",
       "      <th>...</th>\n",
       "      <td>...</td>\n",
       "      <td>...</td>\n",
       "      <td>...</td>\n",
       "      <td>...</td>\n",
       "      <td>...</td>\n",
       "      <td>...</td>\n",
       "    </tr>\n",
       "    <tr>\n",
       "      <th>2513</th>\n",
       "      <td>1.611292</td>\n",
       "      <td>1.553080</td>\n",
       "      <td>1.507362</td>\n",
       "      <td>1.548409</td>\n",
       "      <td>1.548409</td>\n",
       "      <td>0.993926</td>\n",
       "    </tr>\n",
       "    <tr>\n",
       "      <th>2514</th>\n",
       "      <td>1.493228</td>\n",
       "      <td>1.493460</td>\n",
       "      <td>1.552939</td>\n",
       "      <td>1.522851</td>\n",
       "      <td>1.522851</td>\n",
       "      <td>-0.296285</td>\n",
       "    </tr>\n",
       "    <tr>\n",
       "      <th>2515</th>\n",
       "      <td>1.515565</td>\n",
       "      <td>1.543666</td>\n",
       "      <td>1.572471</td>\n",
       "      <td>1.545214</td>\n",
       "      <td>1.545214</td>\n",
       "      <td>-0.190540</td>\n",
       "    </tr>\n",
       "    <tr>\n",
       "      <th>2516</th>\n",
       "      <td>1.553856</td>\n",
       "      <td>1.512287</td>\n",
       "      <td>1.582237</td>\n",
       "      <td>1.551604</td>\n",
       "      <td>1.551604</td>\n",
       "      <td>-0.374128</td>\n",
       "    </tr>\n",
       "    <tr>\n",
       "      <th>2517</th>\n",
       "      <td>1.553856</td>\n",
       "      <td>1.493460</td>\n",
       "      <td>1.530151</td>\n",
       "      <td>1.465345</td>\n",
       "      <td>1.465345</td>\n",
       "      <td>-0.030593</td>\n",
       "    </tr>\n",
       "  </tbody>\n",
       "</table>\n",
       "<p>2518 rows × 6 columns</p>\n",
       "</div>"
      ],
      "text/plain": [
       "      AMD_Open  AMD_High   AMD_Low  AMD_Close  AMD_Adj Close  AMD_Volume\n",
       "0     0.542338  0.495612  0.472134   0.462193       0.462193    0.794383\n",
       "1     0.462565  0.426578  0.384237   0.343988       0.343988    0.314601\n",
       "2     0.299829  0.257132  0.172634   0.177861       0.177861    1.025084\n",
       "3     0.213674  0.184961  0.146590   0.123550       0.123550    0.200683\n",
       "4     0.153047  0.175547  0.130313   0.097992       0.097992    0.420358\n",
       "...        ...       ...       ...        ...            ...         ...\n",
       "2513  1.611292  1.553080  1.507362   1.548409       1.548409    0.993926\n",
       "2514  1.493228  1.493460  1.552939   1.522851       1.522851   -0.296285\n",
       "2515  1.515565  1.543666  1.572471   1.545214       1.545214   -0.190540\n",
       "2516  1.553856  1.512287  1.582237   1.551604       1.551604   -0.374128\n",
       "2517  1.553856  1.493460  1.530151   1.465345       1.465345   -0.030593\n",
       "\n",
       "[2518 rows x 6 columns]"
      ]
     },
     "execution_count": 8,
     "metadata": {},
     "output_type": "execute_result"
    }
   ],
   "source": [
    "scaled_df['df_AMD']  "
   ]
  },
  {
   "cell_type": "markdown",
   "metadata": {},
   "source": [
    "#### Finding the standard deviation of each column in each dataframe and storing it in a dictionary"
   ]
  },
  {
   "cell_type": "code",
   "execution_count": 9,
   "metadata": {},
   "outputs": [],
   "source": [
    "standard_dev = {}\n",
    "for tick, df in scaled_df.items():\n",
    "    standard_dev[f'{tick}'] = df.std() "
   ]
  },
  {
   "cell_type": "code",
   "execution_count": 10,
   "metadata": {},
   "outputs": [
    {
     "data": {
      "text/plain": [
       "AMD_Open         1.000199\n",
       "AMD_High         1.000199\n",
       "AMD_Low          1.000199\n",
       "AMD_Close        1.000199\n",
       "AMD_Adj Close    1.000199\n",
       "AMD_Volume       1.000199\n",
       "dtype: float64"
      ]
     },
     "execution_count": 10,
     "metadata": {},
     "output_type": "execute_result"
    }
   ],
   "source": [
    "standard_dev['df_AMD']"
   ]
  },
  {
   "cell_type": "markdown",
   "metadata": {},
   "source": [
    "### Calculating $\\beta$-coefficient"
   ]
  },
  {
   "cell_type": "markdown",
   "metadata": {},
   "source": [
    "Beta measures the volatility, or systematic risk, of a stock in relation to the overall market. So, here we have to take S&P500 as benchmark."
   ]
  },
  {
   "cell_type": "code",
   "execution_count": 12,
   "metadata": {},
   "outputs": [
    {
     "name": "stderr",
     "output_type": "stream",
     "text": [
      "[*********************100%%**********************]  1 of 1 completed\n"
     ]
    }
   ],
   "source": [
    "df_bench = yf.download('^GSPC',start=start_date,end=end_date)['Adj Close'] "
   ]
  },
  {
   "cell_type": "code",
   "execution_count": 14,
   "metadata": {},
   "outputs": [],
   "source": [
    "stock_data = data_frames['df_AMD']['AMD_Adj Close']"
   ]
  },
  {
   "cell_type": "code",
   "execution_count": 16,
   "metadata": {},
   "outputs": [],
   "source": [
    "# Calculating Daily returns \n",
    "stock_returns = stock_data.pct_change().dropna()\n",
    "benchmark_returns = df_bench.pct_change().dropna() "
   ]
  },
  {
   "cell_type": "code",
   "execution_count": 17,
   "metadata": {},
   "outputs": [],
   "source": [
    "# Calculate covariance and variance\n",
    "covariance = stock_returns.cov(benchmark_returns)\n",
    "vaiance = benchmark_returns.var() "
   ]
  },
  {
   "cell_type": "code",
   "execution_count": 18,
   "metadata": {},
   "outputs": [],
   "source": [
    "beta = covariance/vaiance"
   ]
  },
  {
   "cell_type": "code",
   "execution_count": 19,
   "metadata": {},
   "outputs": [
    {
     "data": {
      "text/plain": [
       "1.4296052820603145"
      ]
     },
     "execution_count": 19,
     "metadata": {},
     "output_type": "execute_result"
    }
   ],
   "source": [
    "beta "
   ]
  },
  {
   "cell_type": "code",
   "execution_count": null,
   "metadata": {},
   "outputs": [],
   "source": []
  }
 ],
 "metadata": {
  "kernelspec": {
   "display_name": "pyten",
   "language": "python",
   "name": "python3"
  },
  "language_info": {
   "codemirror_mode": {
    "name": "ipython",
    "version": 3
   },
   "file_extension": ".py",
   "mimetype": "text/x-python",
   "name": "python",
   "nbconvert_exporter": "python",
   "pygments_lexer": "ipython3",
   "version": "3.10.14"
  }
 },
 "nbformat": 4,
 "nbformat_minor": 2
}
