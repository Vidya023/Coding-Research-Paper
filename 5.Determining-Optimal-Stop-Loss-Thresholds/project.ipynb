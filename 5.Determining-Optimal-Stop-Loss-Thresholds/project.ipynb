{
 "cells": [
  {
   "cell_type": "markdown",
   "metadata": {},
   "source": [
    "# Determining Optimal Stop-Loss Thresholds via Bayesian Analysis of Drawdown Distributions - <br> `Antoine E. Zambelli` "
   ]
  },
  {
   "cell_type": "markdown",
   "metadata": {},
   "source": [
    "#### Objectives:\n",
    "    1. Propose a systematic method to select stop-loss thresholds based on the distribution of maximum drawdowns.\n",
    "    2. Aim to maximize expected returns using available information.\n",
    "    3. Present results for an hourly trading strategy with two variations on the construction."
   ]
  },
  {
   "cell_type": "code",
   "execution_count": 2,
   "metadata": {},
   "outputs": [],
   "source": [
    "import pandas as pd \n",
    "import numpy as np \n",
    "import matplotlib.pyplot as plt \n",
    "%matplotlib inline \n",
    "import seaborn as sns \n",
    "import yfinance as yf \n",
    "\n",
    "plt.style.use('seaborn-v0_8-darkgrid') \n",
    "import warnings\n",
    "warnings.filterwarnings('ignore') "
   ]
  },
  {
   "cell_type": "code",
   "execution_count": 10,
   "metadata": {},
   "outputs": [],
   "source": [
    "start_date = '2022-10-17'\n",
    "end_date = '2023-07-22' \n",
    "amt = 100000 \n",
    "\n",
    "tickers = ['SPY', 'IWM'] "
   ]
  },
  {
   "cell_type": "code",
   "execution_count": 16,
   "metadata": {},
   "outputs": [
    {
     "name": "stderr",
     "output_type": "stream",
     "text": [
      "[*********************100%%**********************]  2 of 2 completed\n"
     ]
    }
   ],
   "source": [
    "data = pd.DataFrame() \n",
    "data = yf.download(tickers, period='5d', interval='1m')['Adj Close']  "
   ]
  },
  {
   "cell_type": "code",
   "execution_count": 17,
   "metadata": {},
   "outputs": [
    {
     "data": {
      "text/html": [
       "<div>\n",
       "<style scoped>\n",
       "    .dataframe tbody tr th:only-of-type {\n",
       "        vertical-align: middle;\n",
       "    }\n",
       "\n",
       "    .dataframe tbody tr th {\n",
       "        vertical-align: top;\n",
       "    }\n",
       "\n",
       "    .dataframe thead th {\n",
       "        text-align: right;\n",
       "    }\n",
       "</style>\n",
       "<table border=\"1\" class=\"dataframe\">\n",
       "  <thead>\n",
       "    <tr style=\"text-align: right;\">\n",
       "      <th>Ticker</th>\n",
       "      <th>IWM</th>\n",
       "      <th>SPY</th>\n",
       "    </tr>\n",
       "    <tr>\n",
       "      <th>Datetime</th>\n",
       "      <th></th>\n",
       "      <th></th>\n",
       "    </tr>\n",
       "  </thead>\n",
       "  <tbody>\n",
       "    <tr>\n",
       "      <th>2024-07-23 09:30:00-04:00</th>\n",
       "      <td>219.259995</td>\n",
       "      <td>554.559875</td>\n",
       "    </tr>\n",
       "    <tr>\n",
       "      <th>2024-07-23 09:31:00-04:00</th>\n",
       "      <td>219.320007</td>\n",
       "      <td>554.340027</td>\n",
       "    </tr>\n",
       "    <tr>\n",
       "      <th>2024-07-23 09:32:00-04:00</th>\n",
       "      <td>219.199997</td>\n",
       "      <td>554.190002</td>\n",
       "    </tr>\n",
       "    <tr>\n",
       "      <th>2024-07-23 09:33:00-04:00</th>\n",
       "      <td>219.350006</td>\n",
       "      <td>554.390015</td>\n",
       "    </tr>\n",
       "    <tr>\n",
       "      <th>2024-07-23 09:34:00-04:00</th>\n",
       "      <td>219.580002</td>\n",
       "      <td>554.659973</td>\n",
       "    </tr>\n",
       "  </tbody>\n",
       "</table>\n",
       "</div>"
      ],
      "text/plain": [
       "Ticker                            IWM         SPY\n",
       "Datetime                                         \n",
       "2024-07-23 09:30:00-04:00  219.259995  554.559875\n",
       "2024-07-23 09:31:00-04:00  219.320007  554.340027\n",
       "2024-07-23 09:32:00-04:00  219.199997  554.190002\n",
       "2024-07-23 09:33:00-04:00  219.350006  554.390015\n",
       "2024-07-23 09:34:00-04:00  219.580002  554.659973"
      ]
     },
     "execution_count": 17,
     "metadata": {},
     "output_type": "execute_result"
    }
   ],
   "source": [
    "data.head() "
   ]
  },
  {
   "cell_type": "markdown",
   "metadata": {},
   "source": [
    "# Signal-Only Strategy "
   ]
  },
  {
   "cell_type": "markdown",
   "metadata": {},
   "source": [
    "Signal-Only strategy using Simple Moving Average (SMA)"
   ]
  },
  {
   "cell_type": "markdown",
   "metadata": {},
   "source": [
    "    * Compute 20-hour SMA every hour.\n",
    "    * Enter Long position if price > SMA.\n",
    "    * Exit position if price < last SMA value (checked every minute).\n",
    "    * Reenter Long if price breaks back above SMA (checked hourly).\n",
    "    * Run Signal-Only system in parallel.\n",
    "    * Track trades for histogram analysis."
   ]
  },
  {
   "cell_type": "markdown",
   "metadata": {},
   "source": [
    "#### Compute the 20-hour SMA for SPY data"
   ]
  },
  {
   "cell_type": "code",
   "execution_count": 18,
   "metadata": {},
   "outputs": [
    {
     "data": {
      "text/html": [
       "<div>\n",
       "<style scoped>\n",
       "    .dataframe tbody tr th:only-of-type {\n",
       "        vertical-align: middle;\n",
       "    }\n",
       "\n",
       "    .dataframe tbody tr th {\n",
       "        vertical-align: top;\n",
       "    }\n",
       "\n",
       "    .dataframe thead th {\n",
       "        text-align: right;\n",
       "    }\n",
       "</style>\n",
       "<table border=\"1\" class=\"dataframe\">\n",
       "  <thead>\n",
       "    <tr style=\"text-align: right;\">\n",
       "      <th>Ticker</th>\n",
       "      <th>IWM</th>\n",
       "      <th>SPY</th>\n",
       "      <th>SPY_20h</th>\n",
       "      <th>IWM_20h</th>\n",
       "    </tr>\n",
       "    <tr>\n",
       "      <th>Datetime</th>\n",
       "      <th></th>\n",
       "      <th></th>\n",
       "      <th></th>\n",
       "      <th></th>\n",
       "    </tr>\n",
       "  </thead>\n",
       "  <tbody>\n",
       "    <tr>\n",
       "      <th>2024-07-23 09:50:00-04:00</th>\n",
       "      <td>220.350006</td>\n",
       "      <td>555.659973</td>\n",
       "      <td>555.025558</td>\n",
       "      <td>219.619685</td>\n",
       "    </tr>\n",
       "    <tr>\n",
       "      <th>2024-07-23 09:51:00-04:00</th>\n",
       "      <td>220.449905</td>\n",
       "      <td>555.349976</td>\n",
       "      <td>555.076056</td>\n",
       "      <td>219.676180</td>\n",
       "    </tr>\n",
       "    <tr>\n",
       "      <th>2024-07-23 09:52:00-04:00</th>\n",
       "      <td>220.169998</td>\n",
       "      <td>555.150024</td>\n",
       "      <td>555.124057</td>\n",
       "      <td>219.724680</td>\n",
       "    </tr>\n",
       "    <tr>\n",
       "      <th>2024-07-23 09:53:00-04:00</th>\n",
       "      <td>220.110001</td>\n",
       "      <td>554.960022</td>\n",
       "      <td>555.152557</td>\n",
       "      <td>219.762680</td>\n",
       "    </tr>\n",
       "    <tr>\n",
       "      <th>2024-07-23 09:54:00-04:00</th>\n",
       "      <td>219.910004</td>\n",
       "      <td>555.080017</td>\n",
       "      <td>555.173560</td>\n",
       "      <td>219.779180</td>\n",
       "    </tr>\n",
       "  </tbody>\n",
       "</table>\n",
       "</div>"
      ],
      "text/plain": [
       "Ticker                            IWM         SPY     SPY_20h     IWM_20h\n",
       "Datetime                                                                 \n",
       "2024-07-23 09:50:00-04:00  220.350006  555.659973  555.025558  219.619685\n",
       "2024-07-23 09:51:00-04:00  220.449905  555.349976  555.076056  219.676180\n",
       "2024-07-23 09:52:00-04:00  220.169998  555.150024  555.124057  219.724680\n",
       "2024-07-23 09:53:00-04:00  220.110001  554.960022  555.152557  219.762680\n",
       "2024-07-23 09:54:00-04:00  219.910004  555.080017  555.173560  219.779180"
      ]
     },
     "execution_count": 18,
     "metadata": {},
     "output_type": "execute_result"
    }
   ],
   "source": [
    "data['SPY_20h'] = data['SPY'].rolling(window=20*60, min_periods=1).mean()      \n",
    "data['IWM_20h'] = data['IWM'].rolling(window=20*60, min_periods=1).mean()     \n",
    "data[20:].head()    "
   ]
  },
  {
   "cell_type": "code",
   "execution_count": 20,
   "metadata": {},
   "outputs": [],
   "source": [
    "data['Position'] = 0    # Initialize columns and positions for trade\n",
    "data['Trades'] = 0\n",
    "\n",
    "# Signal Generation and Trade Execution\n",
    "last_sma = None \n",
    "\n",
    "for i in range(len(data)):\n",
    "    if i%60 == 0:   # Check for reentry every hour\n",
    "        if data['SPY'].iloc[i] > data['SPY_20h'].iloc[i]:\n",
    "            data['Position'].iloc[i] = 1    # Enter Long\n",
    "        else:\n",
    "            data['Position'].iloc[i] = 0    # No position\n",
    "\n",
    "    else:\n",
    "        if data['Position'].iloc[i-1] == 1:     # If in long position\n",
    "            if data['SPY'].iloc[i] < last_sma:\n",
    "                data['Position'].iloc[i] = 0    # Exit Position\n",
    "\n",
    "    if data['Position'].iloc[i] == 1:   # Update last SMA value if in position\n",
    "        last_sma = data['SPY_20h'].iloc[i]                         \n",
    "\n",
    "    # Tracking Trades\n",
    "    if i>0 and data['Position'].iloc[i] != data['Position'].iloc[i-1]:\n",
    "        data['Trades'].iloc[i] = 1 \n"
   ]
  },
  {
   "cell_type": "code",
   "execution_count": 22,
   "metadata": {},
   "outputs": [
    {
     "data": {
      "text/html": [
       "<div>\n",
       "<style scoped>\n",
       "    .dataframe tbody tr th:only-of-type {\n",
       "        vertical-align: middle;\n",
       "    }\n",
       "\n",
       "    .dataframe tbody tr th {\n",
       "        vertical-align: top;\n",
       "    }\n",
       "\n",
       "    .dataframe thead th {\n",
       "        text-align: right;\n",
       "    }\n",
       "</style>\n",
       "<table border=\"1\" class=\"dataframe\">\n",
       "  <thead>\n",
       "    <tr style=\"text-align: right;\">\n",
       "      <th>Ticker</th>\n",
       "      <th>IWM</th>\n",
       "      <th>SPY</th>\n",
       "      <th>SPY_20h</th>\n",
       "      <th>IWM_20h</th>\n",
       "      <th>Position</th>\n",
       "      <th>Trades</th>\n",
       "    </tr>\n",
       "    <tr>\n",
       "      <th>Datetime</th>\n",
       "      <th></th>\n",
       "      <th></th>\n",
       "      <th></th>\n",
       "      <th></th>\n",
       "      <th></th>\n",
       "      <th></th>\n",
       "    </tr>\n",
       "  </thead>\n",
       "  <tbody>\n",
       "    <tr>\n",
       "      <th>2024-07-23 09:50:00-04:00</th>\n",
       "      <td>220.350006</td>\n",
       "      <td>555.659973</td>\n",
       "      <td>555.025558</td>\n",
       "      <td>219.619685</td>\n",
       "      <td>0</td>\n",
       "      <td>0</td>\n",
       "    </tr>\n",
       "    <tr>\n",
       "      <th>2024-07-23 09:51:00-04:00</th>\n",
       "      <td>220.449905</td>\n",
       "      <td>555.349976</td>\n",
       "      <td>555.076056</td>\n",
       "      <td>219.676180</td>\n",
       "      <td>0</td>\n",
       "      <td>0</td>\n",
       "    </tr>\n",
       "    <tr>\n",
       "      <th>2024-07-23 09:52:00-04:00</th>\n",
       "      <td>220.169998</td>\n",
       "      <td>555.150024</td>\n",
       "      <td>555.124057</td>\n",
       "      <td>219.724680</td>\n",
       "      <td>0</td>\n",
       "      <td>0</td>\n",
       "    </tr>\n",
       "    <tr>\n",
       "      <th>2024-07-23 09:53:00-04:00</th>\n",
       "      <td>220.110001</td>\n",
       "      <td>554.960022</td>\n",
       "      <td>555.152557</td>\n",
       "      <td>219.762680</td>\n",
       "      <td>0</td>\n",
       "      <td>0</td>\n",
       "    </tr>\n",
       "    <tr>\n",
       "      <th>2024-07-23 09:54:00-04:00</th>\n",
       "      <td>219.910004</td>\n",
       "      <td>555.080017</td>\n",
       "      <td>555.173560</td>\n",
       "      <td>219.779180</td>\n",
       "      <td>0</td>\n",
       "      <td>0</td>\n",
       "    </tr>\n",
       "  </tbody>\n",
       "</table>\n",
       "</div>"
      ],
      "text/plain": [
       "Ticker                            IWM         SPY     SPY_20h     IWM_20h  \\\n",
       "Datetime                                                                    \n",
       "2024-07-23 09:50:00-04:00  220.350006  555.659973  555.025558  219.619685   \n",
       "2024-07-23 09:51:00-04:00  220.449905  555.349976  555.076056  219.676180   \n",
       "2024-07-23 09:52:00-04:00  220.169998  555.150024  555.124057  219.724680   \n",
       "2024-07-23 09:53:00-04:00  220.110001  554.960022  555.152557  219.762680   \n",
       "2024-07-23 09:54:00-04:00  219.910004  555.080017  555.173560  219.779180   \n",
       "\n",
       "Ticker                     Position  Trades  \n",
       "Datetime                                     \n",
       "2024-07-23 09:50:00-04:00         0       0  \n",
       "2024-07-23 09:51:00-04:00         0       0  \n",
       "2024-07-23 09:52:00-04:00         0       0  \n",
       "2024-07-23 09:53:00-04:00         0       0  \n",
       "2024-07-23 09:54:00-04:00         0       0  "
      ]
     },
     "execution_count": 22,
     "metadata": {},
     "output_type": "execute_result"
    }
   ],
   "source": [
    "data[20:].head() "
   ]
  },
  {
   "cell_type": "code",
   "execution_count": 23,
   "metadata": {},
   "outputs": [
    {
     "data": {
      "text/plain": [
       "Position\n",
       "0    1933\n",
       "1      12\n",
       "Name: count, dtype: int64"
      ]
     },
     "execution_count": 23,
     "metadata": {},
     "output_type": "execute_result"
    }
   ],
   "source": [
    "data['Position'].value_counts() "
   ]
  },
  {
   "cell_type": "code",
   "execution_count": 24,
   "metadata": {},
   "outputs": [
    {
     "data": {
      "text/plain": [
       "Trades\n",
       "0    1921\n",
       "1      24\n",
       "Name: count, dtype: int64"
      ]
     },
     "execution_count": 24,
     "metadata": {},
     "output_type": "execute_result"
    }
   ],
   "source": [
    "data['Trades'].value_counts() "
   ]
  },
  {
   "cell_type": "markdown",
   "metadata": {},
   "source": [
    "#### Identify roundtrip trades"
   ]
  },
  {
   "cell_type": "code",
   "execution_count": 25,
   "metadata": {},
   "outputs": [],
   "source": [
    "trade_entries = data[data['Trades'] == 1][data['Position'] == 1].index\n",
    "trade_exits = data[data['Trades'] == 1][data['Position'] == 0].index"
   ]
  },
  {
   "cell_type": "markdown",
   "metadata": {},
   "source": [
    "#### Calculate maximum drawdowns "
   ]
  },
  {
   "cell_type": "code",
   "execution_count": 30,
   "metadata": {},
   "outputs": [],
   "source": [
    "drawdowns = [] \n",
    "\n",
    "for entry, exit in zip(trade_entries,trade_exits):\n",
    "    trade_data = data.loc[entry:exit,'SPY'] \n",
    "    peak = trade_data.max()\n",
    "    trough = trade_data.min()\n",
    "    drwdwn = (trough - peak)/peak\n",
    "    drawdowns.append(drwdwn) "
   ]
  },
  {
   "cell_type": "code",
   "execution_count": 32,
   "metadata": {},
   "outputs": [],
   "source": [
    "drawdown_df = pd.DataFrame(drawdowns, columns=['Drawdown']) "
   ]
  },
  {
   "cell_type": "code",
   "execution_count": 37,
   "metadata": {},
   "outputs": [
    {
     "data": {
      "image/png": "[encoded data removed]",
      "text/plain": [
       "<Figure size 1000x800 with 2 Axes>"
      ]
     },
     "metadata": {},
     "output_type": "display_data"
    }
   ],
   "source": [
    "# Calculate maximum drawdowns and returns\n",
    "drawdowns = []\n",
    "returns = []\n",
    "for entry, exit in zip(trade_entries, trade_exits):\n",
    "    trade_data = data.loc[entry:exit, 'SPY']\n",
    "    peak = trade_data.max()\n",
    "    trough = trade_data.min()\n",
    "    drawdown = (trough - peak) / peak\n",
    "    trade_return = (trade_data.iloc[-1] - trade_data.iloc[0]) / trade_data.iloc[0]\n",
    "    drawdowns.append(drawdown)\n",
    "    returns.append(trade_return)\n",
    "\n",
    "# Convert to DataFrame for easier analysis\n",
    "trade_df = pd.DataFrame({\n",
    "    'Drawdown': drawdowns,\n",
    "    'Return': returns\n",
    "})\n",
    "\n",
    "# Separate winning and losing trades\n",
    "winning_trades = trade_df[trade_df['Return'] > 0]\n",
    "losing_trades = trade_df[trade_df['Return'] <= 0]\n",
    "\n",
    "# Plot histograms of drawdowns\n",
    "fig, axs = plt.subplots(2, 1, figsize=(10, 8))\n",
    "\n",
    "axs[0].hist(winning_trades['Drawdown'], bins=10, edgecolor='k', color='green')\n",
    "axs[0].set_title('Histogram of Winning Drawdowns')\n",
    "axs[0].set_xlabel('Drawdown')\n",
    "axs[0].set_ylabel('Frequency')\n",
    "\n",
    "axs[1].hist(losing_trades['Drawdown'], bins=10, edgecolor='k', color='red')\n",
    "axs[1].set_title('Histogram of Losing Drawdowns')\n",
    "axs[1].set_xlabel('Drawdown')\n",
    "axs[1].set_ylabel('Frequency')\n",
    "\n",
    "plt.tight_layout()\n",
    "plt.show() "
   ]
  },
  {
   "cell_type": "code",
   "execution_count": null,
   "metadata": {},
   "outputs": [],
   "source": []
  }
 ],
 "metadata": {
  "kernelspec": {
   "display_name": "base",
   "language": "python",
   "name": "python3"
  },
  "language_info": {
   "codemirror_mode": {
    "name": "ipython",
    "version": 3
   },
   "file_extension": ".py",
   "mimetype": "text/x-python",
   "name": "python",
   "nbconvert_exporter": "python",
   "pygments_lexer": "ipython3",
   "version": "3.12.4"
  }
 },
 "nbformat": 4,
 "nbformat_minor": 2
}
