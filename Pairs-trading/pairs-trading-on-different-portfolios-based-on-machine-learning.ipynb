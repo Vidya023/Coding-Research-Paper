{
 "cells": [
  {
   "cell_type": "markdown",
   "metadata": {},
   "source": [
    "## Pairs trading on different portfolios based on Machine Learning"
   ]
  },
  {
   "cell_type": "markdown",
   "metadata": {},
   "source": [
    "Statistical arbitrage is the trading strategy developed using quantitative and statistical models to generate trading signals. Pairs-trading is one of the statistical arbitrage techniques. Here, this teschnique will be investigated using ML model LSTM (Long Short-term Memory) "
   ]
  },
  {
   "cell_type": "markdown",
   "metadata": {},
   "source": [
    "### Different steps in this project\n",
    "\n",
    "1. Selecting 20 different stocks\n",
    "2. Categorizing stocks into different types (aggressive or defensive types) \n",
    "3. Identifying pairs with co-integration test \n",
    "4. Constructing Portfolio\n",
    "5. Forecasting stock prices using ML algorithm, LSTM \n",
    "6. Calculating Trading Profits "
   ]
  },
  {
   "cell_type": "markdown",
   "metadata": {},
   "source": [
    "### Why LSTM?"
   ]
  },
  {
   "cell_type": "markdown",
   "metadata": {},
   "source": [
    "Among different types of models, deep learning models contain neural networks. Neural networks are capable of providing decent approximation to almost all non-linear functions. Due to the non-linearity of time series data, it is better to use neural networks to predict stock prices, rather than using regular linear frameworks.\n",
    "\n",
    "Merits of using Neural networks\n",
    "* Neural networks are designed to detect non-linearities that exist within the data\n",
    "* Neural networks are scalable with reduced computational load, because, training or updating doesnot require retraining the entire model from scratch when new data is added. "
   ]
  },
  {
   "cell_type": "markdown",
   "metadata": {},
   "source": [
    "### Neural Networks"
   ]
  },
  {
   "cell_type": "markdown",
   "metadata": {},
   "source": [
    "Neural Networks composed of input layer, several hiddien layers and then output layer. Input layer holds the input values, hidden layers process these input values through non-linear functions and the final output is provided at the output layer. Artificial Neurons are the building block of these different layers."
   ]
  },
  {
   "cell_type": "markdown",
   "metadata": {},
   "source": [
    "## Importing Libraries"
   ]
  },
  {
   "cell_type": "code",
   "execution_count": 1,
   "metadata": {},
   "outputs": [],
   "source": [
    "import pandas as pd \n",
    "import numpy as np \n",
    "import matplotlib.pyplot as plt\n",
    "%matplotlib inline  \n",
    "import yfinance as yf \n",
    "from sklearn.preprocessing import StandardScaler\n",
    "sc = StandardScaler() \n",
    "\n",
    "import warnings\n",
    "warnings.filterwarnings('ignore')"
   ]
  },
  {
   "cell_type": "markdown",
   "metadata": {},
   "source": [
    "#### Selecting 20 different stocks"
   ]
  },
  {
   "cell_type": "code",
   "execution_count": 2,
   "metadata": {},
   "outputs": [],
   "source": [
    "tickers = ['AMD','AAPL','CSCO','INTC','ORCL','MSFT','GOOGL','DIS','CEA','ERIC',\n",
    "           'HPQ','WMT','PCG','JNJ','NEE','AEP','COKE','PEP','MCD','MRK']\n",
    "\n",
    "start_date = '2008-01-01'\n",
    "end_date = '2018-01-01'  "
   ]
  },
  {
   "cell_type": "code",
   "execution_count": 3,
   "metadata": {},
   "outputs": [
    {
     "name": "stderr",
     "output_type": "stream",
     "text": [
      "[*********************100%%**********************]  1 of 1 completed\n",
      "[*********************100%%**********************]  1 of 1 completed\n",
      "[*********************100%%**********************]  1 of 1 completed\n",
      "[*********************100%%**********************]  1 of 1 completed\n",
      "[*********************100%%**********************]  1 of 1 completed\n",
      "[*********************100%%**********************]  1 of 1 completed\n",
      "[*********************100%%**********************]  1 of 1 completed\n",
      "[*********************100%%**********************]  1 of 1 completed\n",
      "[*********************100%%**********************]  1 of 1 completed\n",
      "\n",
      "1 Failed download:\n",
      "['CEA']: YFTzMissingError('$%ticker%: possibly delisted; No timezone found')\n",
      "[*********************100%%**********************]  1 of 1 completed\n",
      "[*********************100%%**********************]  1 of 1 completed\n",
      "[*********************100%%**********************]  1 of 1 completed\n",
      "[*********************100%%**********************]  1 of 1 completed\n",
      "[*********************100%%**********************]  1 of 1 completed\n",
      "[*********************100%%**********************]  1 of 1 completed\n",
      "[*********************100%%**********************]  1 of 1 completed\n",
      "[*********************100%%**********************]  1 of 1 completed\n",
      "[*********************100%%**********************]  1 of 1 completed\n",
      "[*********************100%%**********************]  1 of 1 completed\n",
      "[*********************100%%**********************]  1 of 1 completed\n"
     ]
    }
   ],
   "source": [
    "data_frames = {} \n",
    "fail = []\n",
    "for tick in tickers:  \n",
    "    df = pd.DataFrame()\n",
    "    df = yf.download(tick,start=start_date,end=end_date)\n",
    "    if len(df)==0:\n",
    "        fail.append(tick) \n",
    "        continue \n",
    "    else:\n",
    "        df.rename(columns={'Open':f'{tick}_Open','High':f'{tick}_High','Low':f'{tick}_Low','Close':f'{tick}_Close',\n",
    "                       'Volume':f'{tick}_Volume','Adj Close':f'{tick}_Adj Close'},inplace=True) \n",
    "        data_frames[f'df_{tick}'] = df "
   ]
  },
  {
   "cell_type": "code",
   "execution_count": 4,
   "metadata": {},
   "outputs": [
    {
     "name": "stdout",
     "output_type": "stream",
     "text": [
      "Total tickers considered :  20\n",
      "Data download failed for tickers :  ['CEA']\n",
      "Total tickers available :  19\n"
     ]
    }
   ],
   "source": [
    "print(f'Total tickers considered : ',len(tickers)) \n",
    "print(f'Data download failed for tickers : ',fail) \n",
    "print(f'Total tickers available : ',len(data_frames))   "
   ]
  },
  {
   "cell_type": "code",
   "execution_count": 5,
   "metadata": {},
   "outputs": [
    {
     "data": {
      "text/plain": [
       "(2518, 6)"
      ]
     },
     "execution_count": 5,
     "metadata": {},
     "output_type": "execute_result"
    }
   ],
   "source": [
    "data_frames['df_AMD'].shape "
   ]
  },
  {
   "cell_type": "code",
   "execution_count": 6,
   "metadata": {},
   "outputs": [
    {
     "data": {
      "text/html": [
       "<div>\n",
       "<style scoped>\n",
       "    .dataframe tbody tr th:only-of-type {\n",
       "        vertical-align: middle;\n",
       "    }\n",
       "\n",
       "    .dataframe tbody tr th {\n",
       "        vertical-align: top;\n",
       "    }\n",
       "\n",
       "    .dataframe thead th {\n",
       "        text-align: right;\n",
       "    }\n",
       "</style>\n",
       "<table border=\"1\" class=\"dataframe\">\n",
       "  <thead>\n",
       "    <tr style=\"text-align: right;\">\n",
       "      <th></th>\n",
       "      <th>AAPL_Open</th>\n",
       "      <th>AAPL_High</th>\n",
       "      <th>AAPL_Low</th>\n",
       "      <th>AAPL_Close</th>\n",
       "      <th>AAPL_Adj Close</th>\n",
       "      <th>AAPL_Volume</th>\n",
       "    </tr>\n",
       "    <tr>\n",
       "      <th>Date</th>\n",
       "      <th></th>\n",
       "      <th></th>\n",
       "      <th></th>\n",
       "      <th></th>\n",
       "      <th></th>\n",
       "      <th></th>\n",
       "    </tr>\n",
       "  </thead>\n",
       "  <tbody>\n",
       "    <tr>\n",
       "      <th>2008-01-02</th>\n",
       "      <td>7.116786</td>\n",
       "      <td>7.152143</td>\n",
       "      <td>6.876786</td>\n",
       "      <td>6.958571</td>\n",
       "      <td>5.883142</td>\n",
       "      <td>1079178800</td>\n",
       "    </tr>\n",
       "    <tr>\n",
       "      <th>2008-01-03</th>\n",
       "      <td>6.978929</td>\n",
       "      <td>7.049643</td>\n",
       "      <td>6.881786</td>\n",
       "      <td>6.961786</td>\n",
       "      <td>5.885861</td>\n",
       "      <td>842066400</td>\n",
       "    </tr>\n",
       "    <tr>\n",
       "      <th>2008-01-04</th>\n",
       "      <td>6.837500</td>\n",
       "      <td>6.892857</td>\n",
       "      <td>6.388929</td>\n",
       "      <td>6.430357</td>\n",
       "      <td>5.436563</td>\n",
       "      <td>1455832000</td>\n",
       "    </tr>\n",
       "    <tr>\n",
       "      <th>2008-01-07</th>\n",
       "      <td>6.473214</td>\n",
       "      <td>6.557143</td>\n",
       "      <td>6.079643</td>\n",
       "      <td>6.344286</td>\n",
       "      <td>5.363796</td>\n",
       "      <td>2072193200</td>\n",
       "    </tr>\n",
       "    <tr>\n",
       "      <th>2008-01-08</th>\n",
       "      <td>6.433571</td>\n",
       "      <td>6.516429</td>\n",
       "      <td>6.100000</td>\n",
       "      <td>6.116071</td>\n",
       "      <td>5.170848</td>\n",
       "      <td>1523816000</td>\n",
       "    </tr>\n",
       "  </tbody>\n",
       "</table>\n",
       "</div>"
      ],
      "text/plain": [
       "            AAPL_Open  AAPL_High  AAPL_Low  AAPL_Close  AAPL_Adj Close  \\\n",
       "Date                                                                     \n",
       "2008-01-02   7.116786   7.152143  6.876786    6.958571        5.883142   \n",
       "2008-01-03   6.978929   7.049643  6.881786    6.961786        5.885861   \n",
       "2008-01-04   6.837500   6.892857  6.388929    6.430357        5.436563   \n",
       "2008-01-07   6.473214   6.557143  6.079643    6.344286        5.363796   \n",
       "2008-01-08   6.433571   6.516429  6.100000    6.116071        5.170848   \n",
       "\n",
       "            AAPL_Volume  \n",
       "Date                     \n",
       "2008-01-02   1079178800  \n",
       "2008-01-03    842066400  \n",
       "2008-01-04   1455832000  \n",
       "2008-01-07   2072193200  \n",
       "2008-01-08   1523816000  "
      ]
     },
     "execution_count": 6,
     "metadata": {},
     "output_type": "execute_result"
    }
   ],
   "source": [
    "data_frames['df_AAPL'].head() "
   ]
  },
  {
   "cell_type": "markdown",
   "metadata": {},
   "source": [
    "#### Scaling the values in each dataframe and storing the corresponding arrays and data frames in dictionary format "
   ]
  },
  {
   "cell_type": "code",
   "execution_count": 7,
   "metadata": {},
   "outputs": [],
   "source": [
    "scaled_data = {}\n",
    "scaled_df = {} \n",
    "for tick,df in data_frames.items():\n",
    "    original_index = df.index \n",
    "    scaled_data[f'{tick}'] = sc.fit_transform(df) \n",
    "    scaled_df[f'{tick}'] = pd.DataFrame(data=scaled_data[f'{tick}'], columns=df.columns)\n",
    "    scaled_df[f'{tick}'].index = original_index  "
   ]
  },
  {
   "cell_type": "markdown",
   "metadata": {},
   "source": [
    "#### Finding the standard deviation of each column in each dataframe and storing it in a dictionary"
   ]
  },
  {
   "cell_type": "code",
   "execution_count": 8,
   "metadata": {},
   "outputs": [],
   "source": [
    "standard_dev = {}\n",
    "for tick, df in scaled_df.items():\n",
    "    standard_dev[f'{tick}'] = df.std() "
   ]
  },
  {
   "cell_type": "markdown",
   "metadata": {},
   "source": [
    "### Calculating $\\beta$-coefficient"
   ]
  },
  {
   "cell_type": "markdown",
   "metadata": {},
   "source": [
    "Beta measures the volatility, or systematic risk, of a stock in relation to the overall market. So, here we have to take S&P500 as benchmark."
   ]
  },
  {
   "cell_type": "code",
   "execution_count": 9,
   "metadata": {},
   "outputs": [
    {
     "name": "stderr",
     "output_type": "stream",
     "text": [
      "[*********************100%%**********************]  1 of 1 completed\n"
     ]
    }
   ],
   "source": [
    "df_bench_close = yf.download('^GSPC',start=start_date,end=end_date)['Adj Close'] "
   ]
  },
  {
   "cell_type": "code",
   "execution_count": 10,
   "metadata": {},
   "outputs": [],
   "source": [
    "stock_data_close = {}\n",
    "\n",
    "for tick, df in data_frames.items():    \n",
    "    ticker = tick.split('_')[1] \n",
    "    stock_data_close[ticker] = df[f'{ticker}_Adj Close']  "
   ]
  },
  {
   "cell_type": "code",
   "execution_count": 11,
   "metadata": {},
   "outputs": [],
   "source": [
    "benchmark_returns = df_bench_close.pct_change().dropna()\n",
    "variance = benchmark_returns.var() "
   ]
  },
  {
   "cell_type": "code",
   "execution_count": 12,
   "metadata": {},
   "outputs": [],
   "source": [
    "stock_returns = {}\n",
    "stock_cov = {} \n",
    "beta = {}\n",
    "\n",
    "for tick in stock_data_close:\n",
    "    stock_returns[tick] = stock_data_close[tick].pct_change().dropna()  # Calculating daily returns\n",
    "    stock_cov[tick] = stock_returns[tick].cov(benchmark_returns)  # Calculating covariance\n",
    "    beta[tick] = stock_cov[tick]/variance   # Calculating beta-coefficient "
   ]
  },
  {
   "cell_type": "markdown",
   "metadata": {},
   "source": [
    "#### $\\beta$-coefficient for respective tickers"
   ]
  },
  {
   "cell_type": "code",
   "execution_count": 13,
   "metadata": {},
   "outputs": [
    {
     "data": {
      "text/html": [
       "<div>\n",
       "<style scoped>\n",
       "    .dataframe tbody tr th:only-of-type {\n",
       "        vertical-align: middle;\n",
       "    }\n",
       "\n",
       "    .dataframe tbody tr th {\n",
       "        vertical-align: top;\n",
       "    }\n",
       "\n",
       "    .dataframe thead tr th {\n",
       "        text-align: left;\n",
       "    }\n",
       "</style>\n",
       "<table border=\"1\" class=\"dataframe\">\n",
       "  <thead>\n",
       "    <tr>\n",
       "      <th></th>\n",
       "      <th>Ticker</th>\n",
       "      <th>Beta values</th>\n",
       "    </tr>\n",
       "  </thead>\n",
       "  <tbody>\n",
       "    <tr>\n",
       "      <th>0</th>\n",
       "      <td>AMD</td>\n",
       "      <td>1.429605</td>\n",
       "    </tr>\n",
       "    <tr>\n",
       "      <th>1</th>\n",
       "      <td>ERIC</td>\n",
       "      <td>1.242362</td>\n",
       "    </tr>\n",
       "    <tr>\n",
       "      <th>2</th>\n",
       "      <td>DIS</td>\n",
       "      <td>1.062176</td>\n",
       "    </tr>\n",
       "    <tr>\n",
       "      <th>3</th>\n",
       "      <td>CSCO</td>\n",
       "      <td>1.046079</td>\n",
       "    </tr>\n",
       "    <tr>\n",
       "      <th>4</th>\n",
       "      <td>INTC</td>\n",
       "      <td>1.023709</td>\n",
       "    </tr>\n",
       "    <tr>\n",
       "      <th>5</th>\n",
       "      <td>ORCL</td>\n",
       "      <td>0.993716</td>\n",
       "    </tr>\n",
       "    <tr>\n",
       "      <th>6</th>\n",
       "      <td>HPQ</td>\n",
       "      <td>0.972210</td>\n",
       "    </tr>\n",
       "    <tr>\n",
       "      <th>7</th>\n",
       "      <td>MSFT</td>\n",
       "      <td>0.956503</td>\n",
       "    </tr>\n",
       "    <tr>\n",
       "      <th>8</th>\n",
       "      <td>AAPL</td>\n",
       "      <td>0.948586</td>\n",
       "    </tr>\n",
       "    <tr>\n",
       "      <th>9</th>\n",
       "      <td>GOOGL</td>\n",
       "      <td>0.936107</td>\n",
       "    </tr>\n",
       "    <tr>\n",
       "      <th>10</th>\n",
       "      <td>MRK</td>\n",
       "      <td>0.784209</td>\n",
       "    </tr>\n",
       "    <tr>\n",
       "      <th>11</th>\n",
       "      <td>COKE</td>\n",
       "      <td>0.701056</td>\n",
       "    </tr>\n",
       "    <tr>\n",
       "      <th>12</th>\n",
       "      <td>NEE</td>\n",
       "      <td>0.686813</td>\n",
       "    </tr>\n",
       "    <tr>\n",
       "      <th>13</th>\n",
       "      <td>AEP</td>\n",
       "      <td>0.633541</td>\n",
       "    </tr>\n",
       "    <tr>\n",
       "      <th>14</th>\n",
       "      <td>MCD</td>\n",
       "      <td>0.572918</td>\n",
       "    </tr>\n",
       "    <tr>\n",
       "      <th>15</th>\n",
       "      <td>JNJ</td>\n",
       "      <td>0.562269</td>\n",
       "    </tr>\n",
       "    <tr>\n",
       "      <th>16</th>\n",
       "      <td>PCG</td>\n",
       "      <td>0.545611</td>\n",
       "    </tr>\n",
       "    <tr>\n",
       "      <th>17</th>\n",
       "      <td>PEP</td>\n",
       "      <td>0.527120</td>\n",
       "    </tr>\n",
       "    <tr>\n",
       "      <th>18</th>\n",
       "      <td>WMT</td>\n",
       "      <td>0.506853</td>\n",
       "    </tr>\n",
       "  </tbody>\n",
       "</table>\n",
       "</div>"
      ],
      "text/plain": [
       "   Ticker Beta values\n",
       "0     AMD    1.429605\n",
       "1    ERIC    1.242362\n",
       "2     DIS    1.062176\n",
       "3    CSCO    1.046079\n",
       "4    INTC    1.023709\n",
       "5    ORCL    0.993716\n",
       "6     HPQ    0.972210\n",
       "7    MSFT    0.956503\n",
       "8    AAPL    0.948586\n",
       "9   GOOGL    0.936107\n",
       "10    MRK    0.784209\n",
       "11   COKE    0.701056\n",
       "12    NEE    0.686813\n",
       "13    AEP    0.633541\n",
       "14    MCD    0.572918\n",
       "15    JNJ    0.562269\n",
       "16    PCG    0.545611\n",
       "17    PEP    0.527120\n",
       "18    WMT    0.506853"
      ]
     },
     "execution_count": 13,
     "metadata": {},
     "output_type": "execute_result"
    }
   ],
   "source": [
    "sorted_beta = sorted(beta.items(), key=lambda x: x[1], reverse=True)\n",
    "beta_df = pd.DataFrame(sorted_beta, columns=[['Ticker','Beta values']])\n",
    "beta_df "
   ]
  },
  {
   "cell_type": "markdown",
   "metadata": {},
   "source": [
    "Value of $\\beta$ is always +ve. It is either above or below 1. \n",
    "\n",
    "* If $\\beta<1 \\implies$ variability of this asset's return rate is lower than market portfolio\n",
    "* If $\\beta>1 \\implies$ variability of this asset's return rate is higher than market portfolio"
   ]
  },
  {
   "cell_type": "markdown",
   "metadata": {},
   "source": [
    "### Classifying stocks as Aggressive and Defensive"
   ]
  },
  {
   "cell_type": "markdown",
   "metadata": {},
   "source": [
    "Categorizing stocks as aggressive and defensive is based on their beta value\n",
    "\n",
    "* Aggressive stocks : Stocks facing higher volatility in revenue, leading to higher stock returns and sensitivity to the market index. High-tech stocks are regarded as aggressive. Also, numerically, if $\\beta>1$, it is referred to as aggressive stocks.\n",
    "\n",
    "* Defensive stocks : These kind of stocks can be found under daily-necessity sectors, sucha as public utilities, pharmaceutical firms, airline and tourism industries etc... If $\\beta<1$, it is referred to as defensive stocks."
   ]
  },
  {
   "cell_type": "code",
   "execution_count": 14,
   "metadata": {},
   "outputs": [],
   "source": [
    "aggressive = []\n",
    "defensive = []\n",
    "\n",
    "for tick, value in beta.items():\n",
    "    if value>1.0:\n",
    "        aggressive.append(tick)\n",
    "    else:\n",
    "        defensive.append(tick)     "
   ]
  },
  {
   "cell_type": "code",
   "execution_count": 15,
   "metadata": {},
   "outputs": [
    {
     "data": {
      "text/plain": [
       "['AMD', 'CSCO', 'INTC', 'DIS', 'ERIC']"
      ]
     },
     "execution_count": 15,
     "metadata": {},
     "output_type": "execute_result"
    }
   ],
   "source": [
    "aggressive "
   ]
  },
  {
   "cell_type": "code",
   "execution_count": 16,
   "metadata": {},
   "outputs": [
    {
     "data": {
      "text/plain": [
       "['AAPL',\n",
       " 'ORCL',\n",
       " 'MSFT',\n",
       " 'GOOGL',\n",
       " 'HPQ',\n",
       " 'WMT',\n",
       " 'PCG',\n",
       " 'JNJ',\n",
       " 'NEE',\n",
       " 'AEP',\n",
       " 'COKE',\n",
       " 'PEP',\n",
       " 'MCD',\n",
       " 'MRK']"
      ]
     },
     "execution_count": 16,
     "metadata": {},
     "output_type": "execute_result"
    }
   ],
   "source": [
    "defensive "
   ]
  },
  {
   "cell_type": "markdown",
   "metadata": {},
   "source": [
    "### Identifying pairs with cointegration test"
   ]
  },
  {
   "cell_type": "markdown",
   "metadata": {},
   "source": [
    "1. Augmented Dickey-Fuller unit root test : Used to test the cointegration relationship between two objects after conducting stationary test\n",
    "2. Augmented Engle-Granger two step cointegration test"
   ]
  },
  {
   "cell_type": "markdown",
   "metadata": {},
   "source": [
    "#### Stationarity and Augmented Dickey-Fuller test (ADF)"
   ]
  },
  {
   "cell_type": "markdown",
   "metadata": {},
   "source": [
    "Stationarity in a time series analysis implies that the statistical properties of a time series such as mean, variance and auto-correlation are constant over time. ADF is a commonly used statistical test to check for stationarity. The null hypothesis of ADF test is that the time series has a unit root, that is it is non-stationary whereas alternative hypothesis is that the time series is stationary.\n",
    "\n",
    "* p-value $<0.05$ gives that the null hypothesis can be rejected and the series is stationary\n",
    "* p-value $>0.05$ gives that the series is non-stationary  "
   ]
  },
  {
   "cell_type": "code",
   "execution_count": 17,
   "metadata": {},
   "outputs": [],
   "source": [
    "from statsmodels.tsa.stattools import adfuller "
   ]
  },
  {
   "cell_type": "markdown",
   "metadata": {},
   "source": [
    "#### Function to perform adf test"
   ]
  },
  {
   "cell_type": "code",
   "execution_count": 18,
   "metadata": {},
   "outputs": [],
   "source": [
    "def adf_test(series, tick):\n",
    "    result = adfuller(series)\n",
    "    print('-'*20,tick,'-'*20)\n",
    "    print()  \n",
    "    print(f'ADF statistic for {tick} : {result[0]}')\n",
    "    print(f'p-value for {tick} : {result[1]}') \n",
    "    for key, values in result[4].items():\n",
    "        print(f'Critical values {key} for {tick} : {values}') \n",
    "    print()"
   ]
  },
  {
   "cell_type": "code",
   "execution_count": 19,
   "metadata": {},
   "outputs": [
    {
     "name": "stdout",
     "output_type": "stream",
     "text": [
      "-------------------- AMD --------------------\n",
      "\n",
      "ADF statistic for AMD : -1.4140006569239492\n",
      "p-value for AMD : 0.5755459280644902\n",
      "Critical values 1% for AMD : -3.4329610922579095\n",
      "Critical values 5% for AMD : -2.8626935681060375\n",
      "Critical values 10% for AMD : -2.567384088736619\n",
      "\n",
      "-------------------- AAPL --------------------\n",
      "\n",
      "ADF statistic for AAPL : 0.8142214801584464\n",
      "p-value for AAPL : 0.9918622954993679\n",
      "Critical values 1% for AAPL : -3.4329507078222634\n",
      "Critical values 5% for AAPL : -2.8626889823128554\n",
      "Critical values 10% for AAPL : -2.567381647203466\n",
      "\n",
      "-------------------- CSCO --------------------\n",
      "\n",
      "ADF statistic for CSCO : 0.07152663895709986\n",
      "p-value for CSCO : 0.9640624502072714\n",
      "Critical values 1% for CSCO : -3.4329517425474014\n",
      "Critical values 5% for CSCO : -2.862689439250822\n",
      "Critical values 10% for CSCO : -2.5673818904827863\n",
      "\n",
      "-------------------- INTC --------------------\n",
      "\n",
      "ADF statistic for INTC : 0.5463574695489667\n",
      "p-value for INTC : 0.9862160295441531\n",
      "Critical values 1% for INTC : -3.4329694597063978\n",
      "Critical values 5% for INTC : -2.8626972631809684\n",
      "Critical values 10% for INTC : -2.567386056042265\n",
      "\n",
      "-------------------- ORCL --------------------\n",
      "\n",
      "ADF statistic for ORCL : -0.8466443862117619\n",
      "p-value for ORCL : 0.805035359013755\n",
      "Critical values 1% for ORCL : -3.4329517425474014\n",
      "Critical values 5% for ORCL : -2.862689439250822\n",
      "Critical values 10% for ORCL : -2.5673818904827863\n",
      "\n",
      "-------------------- MSFT --------------------\n",
      "\n",
      "ADF statistic for MSFT : 2.775766285972069\n",
      "p-value for MSFT : 1.0\n",
      "Critical values 1% for MSFT : -3.432962135264372\n",
      "Critical values 5% for MSFT : -2.862694028699462\n",
      "Critical values 10% for MSFT : -2.567384333962417\n",
      "\n",
      "-------------------- GOOGL --------------------\n",
      "\n",
      "ADF statistic for GOOGL : 1.1094382585986196\n",
      "p-value for GOOGL : 0.9952963747253716\n",
      "Critical values 1% for GOOGL : -3.4329507078222634\n",
      "Critical values 5% for GOOGL : -2.8626889823128554\n",
      "Critical values 10% for GOOGL : -2.567381647203466\n",
      "\n",
      "-------------------- DIS --------------------\n",
      "\n",
      "ADF statistic for DIS : -0.3052679604440893\n",
      "p-value for DIS : 0.924754910497383\n",
      "Critical values 1% for DIS : -3.432962135264372\n",
      "Critical values 5% for DIS : -2.862694028699462\n",
      "Critical values 10% for DIS : -2.567384333962417\n",
      "\n",
      "-------------------- ERIC --------------------\n",
      "\n",
      "ADF statistic for ERIC : -2.4794323775682585\n",
      "p-value for ERIC : 0.12055918389688797\n",
      "Critical values 1% for ERIC : -3.4329517425474014\n",
      "Critical values 5% for ERIC : -2.862689439250822\n",
      "Critical values 10% for ERIC : -2.5673818904827863\n",
      "\n",
      "-------------------- HPQ --------------------\n",
      "\n",
      "ADF statistic for HPQ : -1.1561360151321578\n",
      "p-value for HPQ : 0.6921747485063032\n",
      "Critical values 1% for HPQ : -3.432955889694659\n",
      "Critical values 5% for HPQ : -2.8626912706428715\n",
      "Critical values 10% for HPQ : -2.567382865538409\n",
      "\n",
      "-------------------- WMT --------------------\n",
      "\n",
      "ADF statistic for WMT : 0.1923745255303705\n",
      "p-value for WMT : 0.9718306466024698\n",
      "Critical values 1% for WMT : -3.4329789374204935\n",
      "Critical values 5% for WMT : -2.8627014485379787\n",
      "Critical values 10% for WMT : -2.5673882843825098\n",
      "\n",
      "-------------------- PCG --------------------\n",
      "\n",
      "ADF statistic for PCG : -1.3605876130404977\n",
      "p-value for PCG : 0.6010183779134858\n",
      "Critical values 1% for PCG : -3.4329747166494915\n",
      "Critical values 5% for PCG : -2.862699584647827\n",
      "Critical values 10% for PCG : -2.567387292022104\n",
      "\n",
      "-------------------- JNJ --------------------\n",
      "\n",
      "ADF statistic for JNJ : 1.180512047704687\n",
      "p-value for JNJ : 0.9958484351552818\n",
      "Critical values 1% for JNJ : -3.4329538144697187\n",
      "Critical values 5% for JNJ : -2.8626903542179405\n",
      "Critical values 10% for JNJ : -2.567382377622466\n",
      "\n",
      "-------------------- NEE --------------------\n",
      "\n",
      "ADF statistic for NEE : 1.7644941424724825\n",
      "p-value for NEE : 0.9982759350198673\n",
      "Critical values 1% for NEE : -3.4329527780962255\n",
      "Critical values 5% for NEE : -2.8626898965523724\n",
      "Critical values 10% for NEE : -2.567382133955709\n",
      "\n",
      "-------------------- AEP --------------------\n",
      "\n",
      "ADF statistic for AEP : 0.816095293838101\n",
      "p-value for AEP : 0.9918915836147175\n",
      "Critical values 1% for AEP : -3.4329527780962255\n",
      "Critical values 5% for AEP : -2.8626898965523724\n",
      "Critical values 10% for AEP : -2.567382133955709\n",
      "\n",
      "-------------------- COKE --------------------\n",
      "\n",
      "ADF statistic for COKE : 0.536243988821395\n",
      "p-value for COKE : 0.9859340517437244\n",
      "Critical values 1% for COKE : -3.432976825339513\n",
      "Critical values 5% for COKE : -2.862700515844509\n",
      "Critical values 10% for COKE : -2.5673877878037974\n",
      "\n",
      "-------------------- PEP --------------------\n",
      "\n",
      "ADF statistic for PEP : 0.9109982573086628\n",
      "p-value for PEP : 0.9932321910042224\n",
      "Critical values 1% for PEP : -3.432954851668868\n",
      "Critical values 5% for PEP : -2.862690812247962\n",
      "Critical values 10% for PEP : -2.5673826214832887\n",
      "\n",
      "-------------------- MCD --------------------\n",
      "\n",
      "ADF statistic for MCD : 2.1216356296804673\n",
      "p-value for MCD : 0.9988115787926759\n",
      "Critical values 1% for MCD : -3.4329527780962255\n",
      "Critical values 5% for MCD : -2.8626898965523724\n",
      "Critical values 10% for MCD : -2.567382133955709\n",
      "\n",
      "-------------------- MRK --------------------\n",
      "\n",
      "ADF statistic for MRK : -0.5817361191902827\n",
      "p-value for MRK : 0.8750557421466283\n",
      "Critical values 1% for MRK : -3.4329527780962255\n",
      "Critical values 5% for MRK : -2.8626898965523724\n",
      "Critical values 10% for MRK : -2.567382133955709\n",
      "\n"
     ]
    }
   ],
   "source": [
    "for tick, df in stock_data_close.items():\n",
    "    adf_test(df,tick) "
   ]
  },
  {
   "cell_type": "markdown",
   "metadata": {},
   "source": [
    "#### Creating a data frame with Adj Close values"
   ]
  },
  {
   "cell_type": "code",
   "execution_count": 20,
   "metadata": {},
   "outputs": [],
   "source": [
    "def dataframeClose(tickers):\n",
    "    df_close = pd.DataFrame()\n",
    "\n",
    "    for tick in tickers:\n",
    "        df = yf.download(tick, start=start_date, end=end_date)\n",
    "        if len(df)==0:\n",
    "           continue\n",
    "        else:\n",
    "          df_close[tick]=df['Adj Close'] \n",
    "\n",
    "    return df_close       "
   ]
  },
  {
   "cell_type": "code",
   "execution_count": 21,
   "metadata": {},
   "outputs": [
    {
     "name": "stderr",
     "output_type": "stream",
     "text": [
      "[*********************100%%**********************]  1 of 1 completed\n",
      "[*********************100%%**********************]  1 of 1 completed\n",
      "[*********************100%%**********************]  1 of 1 completed\n",
      "[*********************100%%**********************]  1 of 1 completed\n",
      "[*********************100%%**********************]  1 of 1 completed\n"
     ]
    }
   ],
   "source": [
    "df_aggClose = dataframeClose(aggressive) "
   ]
  },
  {
   "cell_type": "code",
   "execution_count": 22,
   "metadata": {},
   "outputs": [
    {
     "name": "stderr",
     "output_type": "stream",
     "text": [
      "[*********************100%%**********************]  1 of 1 completed\n",
      "[*********************100%%**********************]  1 of 1 completed\n",
      "[*********************100%%**********************]  1 of 1 completed\n",
      "[*********************100%%**********************]  1 of 1 completed\n",
      "[*********************100%%**********************]  1 of 1 completed\n",
      "[*********************100%%**********************]  1 of 1 completed\n",
      "[*********************100%%**********************]  1 of 1 completed\n",
      "[*********************100%%**********************]  1 of 1 completed\n",
      "[*********************100%%**********************]  1 of 1 completed\n",
      "[*********************100%%**********************]  1 of 1 completed\n",
      "[*********************100%%**********************]  1 of 1 completed\n",
      "[*********************100%%**********************]  1 of 1 completed\n",
      "[*********************100%%**********************]  1 of 1 completed\n",
      "[*********************100%%**********************]  1 of 1 completed\n"
     ]
    }
   ],
   "source": [
    "df_defClose = dataframeClose(defensive) "
   ]
  },
  {
   "cell_type": "code",
   "execution_count": 23,
   "metadata": {},
   "outputs": [],
   "source": [
    "def p_valueFn(series):\n",
    "    result = adfuller(series)\n",
    "    return result[1] "
   ]
  },
  {
   "cell_type": "code",
   "execution_count": 24,
   "metadata": {},
   "outputs": [],
   "source": [
    "import itertools "
   ]
  },
  {
   "cell_type": "code",
   "execution_count": 25,
   "metadata": {},
   "outputs": [],
   "source": [
    "def pairsList(df_close):\n",
    "    pairs_l = []\n",
    "    pairs_g = []\n",
    "\n",
    "    for pair in itertools.combinations(df_close.columns,2):\n",
    "        spread  = df_close[pair[0]] - df_close[pair[1]]\n",
    "        p_value = p_valueFn(spread.dropna()) \n",
    "        if p_value<0.05:\n",
    "            pairs_l.append((pair[0],pair[1],p_value))\n",
    "        else:\n",
    "            pairs_g.append((pair[0],pair[1],p_value)) \n",
    "    return pairs_l, pairs_g            "
   ]
  },
  {
   "cell_type": "code",
   "execution_count": 26,
   "metadata": {},
   "outputs": [],
   "source": [
    "pairs_aggL, pairs_aggG = pairsList(df_aggClose)\n",
    "pairs_defL, pairs_defG = pairsList(df_defClose) "
   ]
  },
  {
   "cell_type": "code",
   "execution_count": 27,
   "metadata": {},
   "outputs": [
    {
     "data": {
      "text/plain": [
       "[('AMD', 'CSCO', 0.7575659215233912),\n",
       " ('AMD', 'INTC', 0.8713820100753229),\n",
       " ('AMD', 'DIS', 0.9082337937762573),\n",
       " ('AMD', 'ERIC', 0.6689591651589208),\n",
       " ('CSCO', 'INTC', 0.3109239904297719),\n",
       " ('CSCO', 'DIS', 0.852395978664318),\n",
       " ('CSCO', 'ERIC', 0.9925576095502731),\n",
       " ('INTC', 'DIS', 0.8110223390449144),\n",
       " ('INTC', 'ERIC', 0.9957810170603515),\n",
       " ('DIS', 'ERIC', 0.9438495633903984)]"
      ]
     },
     "execution_count": 27,
     "metadata": {},
     "output_type": "execute_result"
    }
   ],
   "source": [
    "pairs_aggG "
   ]
  },
  {
   "cell_type": "code",
   "execution_count": 28,
   "metadata": {},
   "outputs": [
    {
     "data": {
      "text/plain": [
       "[]"
      ]
     },
     "execution_count": 28,
     "metadata": {},
     "output_type": "execute_result"
    }
   ],
   "source": [
    "pairs_aggL "
   ]
  },
  {
   "cell_type": "code",
   "execution_count": 29,
   "metadata": {},
   "outputs": [
    {
     "data": {
      "text/plain": [
       "[('AAPL', 'ORCL', 0.08049347533011147),\n",
       " ('AAPL', 'MSFT', 0.9903229810229084),\n",
       " ('AAPL', 'GOOGL', 0.2994456626823279),\n",
       " ('AAPL', 'HPQ', 0.8977018476388652),\n",
       " ('AAPL', 'WMT', 0.8525848865855867),\n",
       " ('AAPL', 'PCG', 0.5141507219807969),\n",
       " ('AAPL', 'JNJ', 0.9516735072841721),\n",
       " ('AAPL', 'NEE', 0.31754920238070017),\n",
       " ('AAPL', 'AEP', 0.19167950342579565),\n",
       " ('AAPL', 'COKE', 0.9638505957921624),\n",
       " ('AAPL', 'PEP', 0.7898448717878486),\n",
       " ('AAPL', 'MCD', 0.9948420318380783),\n",
       " ('AAPL', 'MRK', 0.055834520436543356),\n",
       " ('ORCL', 'MSFT', 0.9954924317364781),\n",
       " ('ORCL', 'GOOGL', 0.6968380931126179),\n",
       " ('ORCL', 'HPQ', 0.5786387916324152),\n",
       " ('ORCL', 'WMT', 0.2468988613909564),\n",
       " ('ORCL', 'PCG', 0.3594193703370833),\n",
       " ('ORCL', 'JNJ', 0.9876642317552701),\n",
       " ('ORCL', 'AEP', 0.5090698940165516),\n",
       " ('ORCL', 'COKE', 0.9763369756807769),\n",
       " ('ORCL', 'PEP', 0.9345251540154578),\n",
       " ('ORCL', 'MCD', 0.9985675144389304),\n",
       " ('MSFT', 'GOOGL', 0.9677538637650864),\n",
       " ('MSFT', 'HPQ', 0.9990245846603626),\n",
       " ('MSFT', 'WMT', 0.9975022799320512),\n",
       " ('MSFT', 'PCG', 0.99897636571608),\n",
       " ('MSFT', 'JNJ', 0.3086959658447319),\n",
       " ('MSFT', 'NEE', 0.9971928344869517),\n",
       " ('MSFT', 'AEP', 0.805521689209167),\n",
       " ('MSFT', 'COKE', 0.8998977812916851),\n",
       " ('MSFT', 'PEP', 0.10677057676836388),\n",
       " ('MSFT', 'MCD', 0.7548441221957132),\n",
       " ('MSFT', 'MRK', 0.9955329234276482),\n",
       " ('GOOGL', 'HPQ', 0.971108730550047),\n",
       " ('GOOGL', 'WMT', 0.9526786138504932),\n",
       " ('GOOGL', 'PCG', 0.7642535778279984),\n",
       " ('GOOGL', 'JNJ', 0.8691670072204227),\n",
       " ('GOOGL', 'NEE', 0.8154287622781038),\n",
       " ('GOOGL', 'COKE', 0.9559704711171835),\n",
       " ('GOOGL', 'PEP', 0.5106517649712504),\n",
       " ('GOOGL', 'MCD', 0.9850489654106878),\n",
       " ('GOOGL', 'MRK', 0.4105216064924922),\n",
       " ('HPQ', 'WMT', 0.5894784136502806),\n",
       " ('HPQ', 'PCG', 0.5571750123833259),\n",
       " ('HPQ', 'JNJ', 0.9937594212621617),\n",
       " ('HPQ', 'NEE', 0.8808108905457688),\n",
       " ('HPQ', 'AEP', 0.9423815169305039),\n",
       " ('HPQ', 'COKE', 0.9809561263673312),\n",
       " ('HPQ', 'PEP', 0.974286795641416),\n",
       " ('HPQ', 'MCD', 0.998111356417276),\n",
       " ('HPQ', 'MRK', 0.8023140178188529),\n",
       " ('WMT', 'PCG', 0.5063605233514319),\n",
       " ('WMT', 'JNJ', 0.9903665444818988),\n",
       " ('WMT', 'NEE', 0.8731872060876014),\n",
       " ('WMT', 'AEP', 0.9592791762518436),\n",
       " ('WMT', 'COKE', 0.9723016247620659),\n",
       " ('WMT', 'PEP', 0.9807705672115808),\n",
       " ('WMT', 'MCD', 0.9986719963729074),\n",
       " ('WMT', 'MRK', 0.5339928510026921),\n",
       " ('PCG', 'JNJ', 0.997293026193078),\n",
       " ('PCG', 'NEE', 0.43551288484056794),\n",
       " ('PCG', 'AEP', 0.8681121515111939),\n",
       " ('PCG', 'COKE', 0.9843085043115316),\n",
       " ('PCG', 'PEP', 0.996645336187676),\n",
       " ('PCG', 'MCD', 0.9990721355990912),\n",
       " ('PCG', 'MRK', 0.11881687171695643),\n",
       " ('JNJ', 'NEE', 0.9801365796865544),\n",
       " ('JNJ', 'AEP', 0.9319480966389225),\n",
       " ('JNJ', 'COKE', 0.8240567630467429),\n",
       " ('JNJ', 'PEP', 0.20126179379643555),\n",
       " ('JNJ', 'MCD', 0.7137324610853929),\n",
       " ('JNJ', 'MRK', 0.9900766025770127),\n",
       " ('NEE', 'AEP', 0.8772051955970346),\n",
       " ('NEE', 'COKE', 0.9692891111878394),\n",
       " ('NEE', 'PEP', 0.9527182999163627),\n",
       " ('NEE', 'MCD', 0.9968466711166977),\n",
       " ('NEE', 'MRK', 0.21728389744572502),\n",
       " ('AEP', 'COKE', 0.9541270122633538),\n",
       " ('AEP', 'PEP', 0.7253863664207989),\n",
       " ('AEP', 'MCD', 0.9930287626666078),\n",
       " ('AEP', 'MRK', 0.1556895844105417),\n",
       " ('COKE', 'PEP', 0.9260834331736869),\n",
       " ('COKE', 'MCD', 0.7292574186304118),\n",
       " ('COKE', 'MRK', 0.9756406088448896),\n",
       " ('PEP', 'MCD', 0.9500850594603868),\n",
       " ('PEP', 'MRK', 0.9157399120731599),\n",
       " ('MCD', 'MRK', 0.9977383996179994)]"
      ]
     },
     "execution_count": 29,
     "metadata": {},
     "output_type": "execute_result"
    }
   ],
   "source": [
    "pairs_defG "
   ]
  },
  {
   "cell_type": "code",
   "execution_count": 30,
   "metadata": {},
   "outputs": [
    {
     "data": {
      "text/plain": [
       "[('ORCL', 'NEE', 0.028479414715996455),\n",
       " ('ORCL', 'MRK', 0.021433379829797185),\n",
       " ('GOOGL', 'AEP', 0.0014554392566606135)]"
      ]
     },
     "execution_count": 30,
     "metadata": {},
     "output_type": "execute_result"
    }
   ],
   "source": [
    "pairs_defL"
   ]
  },
  {
   "cell_type": "code",
   "execution_count": 31,
   "metadata": {},
   "outputs": [
    {
     "data": {
      "text/html": [
       "<div>\n",
       "<style scoped>\n",
       "    .dataframe tbody tr th:only-of-type {\n",
       "        vertical-align: middle;\n",
       "    }\n",
       "\n",
       "    .dataframe tbody tr th {\n",
       "        vertical-align: top;\n",
       "    }\n",
       "\n",
       "    .dataframe thead th {\n",
       "        text-align: right;\n",
       "    }\n",
       "</style>\n",
       "<table border=\"1\" class=\"dataframe\">\n",
       "  <thead>\n",
       "    <tr style=\"text-align: right;\">\n",
       "      <th></th>\n",
       "      <th>AAPL</th>\n",
       "      <th>ORCL</th>\n",
       "      <th>MSFT</th>\n",
       "      <th>GOOGL</th>\n",
       "      <th>HPQ</th>\n",
       "      <th>WMT</th>\n",
       "      <th>PCG</th>\n",
       "      <th>JNJ</th>\n",
       "      <th>NEE</th>\n",
       "      <th>AEP</th>\n",
       "      <th>COKE</th>\n",
       "      <th>PEP</th>\n",
       "      <th>MCD</th>\n",
       "      <th>MRK</th>\n",
       "    </tr>\n",
       "    <tr>\n",
       "      <th>Date</th>\n",
       "      <th></th>\n",
       "      <th></th>\n",
       "      <th></th>\n",
       "      <th></th>\n",
       "      <th></th>\n",
       "      <th></th>\n",
       "      <th></th>\n",
       "      <th></th>\n",
       "      <th></th>\n",
       "      <th></th>\n",
       "      <th></th>\n",
       "      <th></th>\n",
       "      <th></th>\n",
       "      <th></th>\n",
       "    </tr>\n",
       "  </thead>\n",
       "  <tbody>\n",
       "    <tr>\n",
       "      <th>2008-01-02</th>\n",
       "      <td>5.883142</td>\n",
       "      <td>18.300970</td>\n",
       "      <td>25.535210</td>\n",
       "      <td>17.127239</td>\n",
       "      <td>15.035043</td>\n",
       "      <td>10.940402</td>\n",
       "      <td>29.559355</td>\n",
       "      <td>40.545521</td>\n",
       "      <td>10.177977</td>\n",
       "      <td>23.933067</td>\n",
       "      <td>48.633259</td>\n",
       "      <td>46.554634</td>\n",
       "      <td>36.491596</td>\n",
       "      <td>30.541336</td>\n",
       "    </tr>\n",
       "    <tr>\n",
       "      <th>2008-01-03</th>\n",
       "      <td>5.885861</td>\n",
       "      <td>18.805481</td>\n",
       "      <td>25.643961</td>\n",
       "      <td>17.130739</td>\n",
       "      <td>15.035043</td>\n",
       "      <td>10.819095</td>\n",
       "      <td>29.655035</td>\n",
       "      <td>40.557816</td>\n",
       "      <td>10.273084</td>\n",
       "      <td>24.005430</td>\n",
       "      <td>47.375221</td>\n",
       "      <td>46.857632</td>\n",
       "      <td>36.384834</td>\n",
       "      <td>30.514708</td>\n",
       "    </tr>\n",
       "    <tr>\n",
       "      <th>2008-01-04</th>\n",
       "      <td>5.436563</td>\n",
       "      <td>17.926640</td>\n",
       "      <td>24.926191</td>\n",
       "      <td>16.422592</td>\n",
       "      <td>14.193203</td>\n",
       "      <td>10.665140</td>\n",
       "      <td>29.627703</td>\n",
       "      <td>40.502460</td>\n",
       "      <td>10.556870</td>\n",
       "      <td>23.927895</td>\n",
       "      <td>46.183395</td>\n",
       "      <td>46.715401</td>\n",
       "      <td>35.832104</td>\n",
       "      <td>30.264502</td>\n",
       "    </tr>\n",
       "    <tr>\n",
       "      <th>2008-01-07</th>\n",
       "      <td>5.363796</td>\n",
       "      <td>18.105673</td>\n",
       "      <td>25.092937</td>\n",
       "      <td>16.228872</td>\n",
       "      <td>13.732916</td>\n",
       "      <td>10.861087</td>\n",
       "      <td>30.119789</td>\n",
       "      <td>41.129929</td>\n",
       "      <td>11.049277</td>\n",
       "      <td>24.625717</td>\n",
       "      <td>45.595753</td>\n",
       "      <td>47.809856</td>\n",
       "      <td>36.447647</td>\n",
       "      <td>30.834126</td>\n",
       "    </tr>\n",
       "    <tr>\n",
       "      <th>2008-01-08</th>\n",
       "      <td>5.170848</td>\n",
       "      <td>17.210564</td>\n",
       "      <td>24.251915</td>\n",
       "      <td>15.789686</td>\n",
       "      <td>13.078826</td>\n",
       "      <td>10.723457</td>\n",
       "      <td>29.935249</td>\n",
       "      <td>41.179138</td>\n",
       "      <td>10.975651</td>\n",
       "      <td>24.610220</td>\n",
       "      <td>45.446781</td>\n",
       "      <td>48.193245</td>\n",
       "      <td>35.850960</td>\n",
       "      <td>31.760427</td>\n",
       "    </tr>\n",
       "  </tbody>\n",
       "</table>\n",
       "</div>"
      ],
      "text/plain": [
       "                AAPL       ORCL       MSFT      GOOGL        HPQ        WMT  \\\n",
       "Date                                                                          \n",
       "2008-01-02  5.883142  18.300970  25.535210  17.127239  15.035043  10.940402   \n",
       "2008-01-03  5.885861  18.805481  25.643961  17.130739  15.035043  10.819095   \n",
       "2008-01-04  5.436563  17.926640  24.926191  16.422592  14.193203  10.665140   \n",
       "2008-01-07  5.363796  18.105673  25.092937  16.228872  13.732916  10.861087   \n",
       "2008-01-08  5.170848  17.210564  24.251915  15.789686  13.078826  10.723457   \n",
       "\n",
       "                  PCG        JNJ        NEE        AEP       COKE        PEP  \\\n",
       "Date                                                                           \n",
       "2008-01-02  29.559355  40.545521  10.177977  23.933067  48.633259  46.554634   \n",
       "2008-01-03  29.655035  40.557816  10.273084  24.005430  47.375221  46.857632   \n",
       "2008-01-04  29.627703  40.502460  10.556870  23.927895  46.183395  46.715401   \n",
       "2008-01-07  30.119789  41.129929  11.049277  24.625717  45.595753  47.809856   \n",
       "2008-01-08  29.935249  41.179138  10.975651  24.610220  45.446781  48.193245   \n",
       "\n",
       "                  MCD        MRK  \n",
       "Date                              \n",
       "2008-01-02  36.491596  30.541336  \n",
       "2008-01-03  36.384834  30.514708  \n",
       "2008-01-04  35.832104  30.264502  \n",
       "2008-01-07  36.447647  30.834126  \n",
       "2008-01-08  35.850960  31.760427  "
      ]
     },
     "execution_count": 31,
     "metadata": {},
     "output_type": "execute_result"
    }
   ],
   "source": [
    "df_defClose.head() "
   ]
  },
  {
   "cell_type": "code",
   "execution_count": 32,
   "metadata": {},
   "outputs": [],
   "source": [
    "import statsmodels.api as sm "
   ]
  },
  {
   "cell_type": "code",
   "execution_count": 33,
   "metadata": {},
   "outputs": [
    {
     "name": "stdout",
     "output_type": "stream",
     "text": [
      "Cointegration Test Statistic: -5.060282981569368\n",
      "p-value: 0.0001273625161345325\n",
      "Critical Values: [-3.90079646 -3.33855861 -3.04613545]\n"
     ]
    }
   ],
   "source": [
    "coint_result = sm.tsa.stattools.coint(df_defClose['JNJ'], df_defClose['NEE'])\n",
    "\n",
    "# Print the results\n",
    "coint_t, p_value, critical_values = coint_result\n",
    "print(f'Cointegration Test Statistic: {coint_t}')\n",
    "print(f'p-value: {p_value}')\n",
    "print(f'Critical Values: {critical_values}') "
   ]
  },
  {
   "cell_type": "code",
   "execution_count": 34,
   "metadata": {},
   "outputs": [
    {
     "name": "stdout",
     "output_type": "stream",
     "text": [
      "Cointegration Test Statistic: -5.001555222212537\n",
      "p-value: 0.00016356198908227388\n",
      "Critical Values: [-3.90079646 -3.33855861 -3.04613545]\n"
     ]
    }
   ],
   "source": [
    "coint_result = sm.tsa.stattools.coint(df_defClose['NEE'], df_defClose['JNJ'])\n",
    "\n",
    "# Print the results\n",
    "coint_t, p_value, critical_values = coint_result\n",
    "print(f'Cointegration Test Statistic: {coint_t}')\n",
    "print(f'p-value: {p_value}')\n",
    "print(f'Critical Values: {critical_values}') "
   ]
  },
  {
   "cell_type": "markdown",
   "metadata": {},
   "source": [
    "### Prediction using LSTM"
   ]
  },
  {
   "cell_type": "code",
   "execution_count": 35,
   "metadata": {},
   "outputs": [],
   "source": [
    "import pandas as pd \n",
    "import numpy as np \n",
    "import torch \n",
    "import torch.nn as nn \n",
    "import torch.nn.functional as F \n",
    "import torch.optim as optim \n",
    "from torch.utils.data import Dataset, DataLoader\n",
    "import matplotlib.pyplot as plt\n",
    "from matplotlib.pyplot import figure \n",
    "import warnings\n",
    "warnings.filterwarnings('ignore')  "
   ]
  },
  {
   "cell_type": "markdown",
   "metadata": {},
   "source": [
    "### Plotting daily adjusted close prices of JNJ "
   ]
  },
  {
   "cell_type": "code",
   "execution_count": 36,
   "metadata": {},
   "outputs": [],
   "source": [
    "start_pred_date = '2016-01-01'\n",
    "x_test = data_frames['df_JNJ'] \n",
    "x_test = x_test[x_test.index>=start_pred_date]  "
   ]
  },
  {
   "cell_type": "code",
   "execution_count": 37,
   "metadata": {},
   "outputs": [
    {
     "data": {
      "text/html": [
       "<div>\n",
       "<style scoped>\n",
       "    .dataframe tbody tr th:only-of-type {\n",
       "        vertical-align: middle;\n",
       "    }\n",
       "\n",
       "    .dataframe tbody tr th {\n",
       "        vertical-align: top;\n",
       "    }\n",
       "\n",
       "    .dataframe thead th {\n",
       "        text-align: right;\n",
       "    }\n",
       "</style>\n",
       "<table border=\"1\" class=\"dataframe\">\n",
       "  <thead>\n",
       "    <tr style=\"text-align: right;\">\n",
       "      <th></th>\n",
       "      <th>JNJ_Open</th>\n",
       "      <th>JNJ_High</th>\n",
       "      <th>JNJ_Low</th>\n",
       "      <th>JNJ_Close</th>\n",
       "      <th>JNJ_Adj Close</th>\n",
       "      <th>JNJ_Volume</th>\n",
       "    </tr>\n",
       "    <tr>\n",
       "      <th>Date</th>\n",
       "      <th></th>\n",
       "      <th></th>\n",
       "      <th></th>\n",
       "      <th></th>\n",
       "      <th></th>\n",
       "      <th></th>\n",
       "    </tr>\n",
       "  </thead>\n",
       "  <tbody>\n",
       "    <tr>\n",
       "      <th>2008-01-02</th>\n",
       "      <td>66.559998</td>\n",
       "      <td>67.000000</td>\n",
       "      <td>65.720001</td>\n",
       "      <td>65.910004</td>\n",
       "      <td>40.545521</td>\n",
       "      <td>11970500</td>\n",
       "    </tr>\n",
       "    <tr>\n",
       "      <th>2008-01-03</th>\n",
       "      <td>65.750000</td>\n",
       "      <td>66.400002</td>\n",
       "      <td>65.360001</td>\n",
       "      <td>65.930000</td>\n",
       "      <td>40.557816</td>\n",
       "      <td>9277600</td>\n",
       "    </tr>\n",
       "    <tr>\n",
       "      <th>2008-01-04</th>\n",
       "      <td>65.720001</td>\n",
       "      <td>66.400002</td>\n",
       "      <td>65.720001</td>\n",
       "      <td>65.839996</td>\n",
       "      <td>40.502460</td>\n",
       "      <td>12714800</td>\n",
       "    </tr>\n",
       "    <tr>\n",
       "      <th>2008-01-07</th>\n",
       "      <td>65.760002</td>\n",
       "      <td>67.209999</td>\n",
       "      <td>65.750000</td>\n",
       "      <td>66.860001</td>\n",
       "      <td>41.129929</td>\n",
       "      <td>12352700</td>\n",
       "    </tr>\n",
       "    <tr>\n",
       "      <th>2008-01-08</th>\n",
       "      <td>67.050003</td>\n",
       "      <td>67.750000</td>\n",
       "      <td>66.599998</td>\n",
       "      <td>66.940002</td>\n",
       "      <td>41.179138</td>\n",
       "      <td>13478500</td>\n",
       "    </tr>\n",
       "  </tbody>\n",
       "</table>\n",
       "</div>"
      ],
      "text/plain": [
       "             JNJ_Open   JNJ_High    JNJ_Low  JNJ_Close  JNJ_Adj Close  \\\n",
       "Date                                                                    \n",
       "2008-01-02  66.559998  67.000000  65.720001  65.910004      40.545521   \n",
       "2008-01-03  65.750000  66.400002  65.360001  65.930000      40.557816   \n",
       "2008-01-04  65.720001  66.400002  65.720001  65.839996      40.502460   \n",
       "2008-01-07  65.760002  67.209999  65.750000  66.860001      41.129929   \n",
       "2008-01-08  67.050003  67.750000  66.599998  66.940002      41.179138   \n",
       "\n",
       "            JNJ_Volume  \n",
       "Date                    \n",
       "2008-01-02    11970500  \n",
       "2008-01-03     9277600  \n",
       "2008-01-04    12714800  \n",
       "2008-01-07    12352700  \n",
       "2008-01-08    13478500  "
      ]
     },
     "execution_count": 37,
     "metadata": {},
     "output_type": "execute_result"
    }
   ],
   "source": [
    "x_train = data_frames['df_JNJ'] \n",
    "x_train = x_train[x_train.index<start_pred_date] \n",
    "x_train.head() "
   ]
  },
  {
   "cell_type": "code",
   "execution_count": 38,
   "metadata": {},
   "outputs": [
    {
     "data": {
      "text/html": [
       "<div>\n",
       "<style scoped>\n",
       "    .dataframe tbody tr th:only-of-type {\n",
       "        vertical-align: middle;\n",
       "    }\n",
       "\n",
       "    .dataframe tbody tr th {\n",
       "        vertical-align: top;\n",
       "    }\n",
       "\n",
       "    .dataframe thead th {\n",
       "        text-align: right;\n",
       "    }\n",
       "</style>\n",
       "<table border=\"1\" class=\"dataframe\">\n",
       "  <thead>\n",
       "    <tr style=\"text-align: right;\">\n",
       "      <th></th>\n",
       "      <th>JNJ_Open</th>\n",
       "      <th>JNJ_High</th>\n",
       "      <th>JNJ_Low</th>\n",
       "      <th>JNJ_Close</th>\n",
       "      <th>JNJ_Adj Close</th>\n",
       "      <th>JNJ_Volume</th>\n",
       "    </tr>\n",
       "    <tr>\n",
       "      <th>Date</th>\n",
       "      <th></th>\n",
       "      <th></th>\n",
       "      <th></th>\n",
       "      <th></th>\n",
       "      <th></th>\n",
       "      <th></th>\n",
       "    </tr>\n",
       "  </thead>\n",
       "  <tbody>\n",
       "    <tr>\n",
       "      <th>2016-01-04</th>\n",
       "      <td>101.709999</td>\n",
       "      <td>101.809998</td>\n",
       "      <td>99.449997</td>\n",
       "      <td>100.480003</td>\n",
       "      <td>79.735909</td>\n",
       "      <td>12722800</td>\n",
       "    </tr>\n",
       "    <tr>\n",
       "      <th>2016-01-05</th>\n",
       "      <td>100.580002</td>\n",
       "      <td>101.440002</td>\n",
       "      <td>100.570000</td>\n",
       "      <td>100.900002</td>\n",
       "      <td>80.069221</td>\n",
       "      <td>6467200</td>\n",
       "    </tr>\n",
       "    <tr>\n",
       "      <th>2016-01-06</th>\n",
       "      <td>99.820000</td>\n",
       "      <td>100.970001</td>\n",
       "      <td>99.599998</td>\n",
       "      <td>100.389999</td>\n",
       "      <td>79.664497</td>\n",
       "      <td>7733800</td>\n",
       "    </tr>\n",
       "    <tr>\n",
       "      <th>2016-01-07</th>\n",
       "      <td>99.309998</td>\n",
       "      <td>100.089996</td>\n",
       "      <td>98.879997</td>\n",
       "      <td>99.220001</td>\n",
       "      <td>78.736046</td>\n",
       "      <td>9433100</td>\n",
       "    </tr>\n",
       "    <tr>\n",
       "      <th>2016-01-08</th>\n",
       "      <td>99.879997</td>\n",
       "      <td>99.940002</td>\n",
       "      <td>97.849998</td>\n",
       "      <td>98.160004</td>\n",
       "      <td>77.894897</td>\n",
       "      <td>9766700</td>\n",
       "    </tr>\n",
       "  </tbody>\n",
       "</table>\n",
       "</div>"
      ],
      "text/plain": [
       "              JNJ_Open    JNJ_High     JNJ_Low   JNJ_Close  JNJ_Adj Close  \\\n",
       "Date                                                                        \n",
       "2016-01-04  101.709999  101.809998   99.449997  100.480003      79.735909   \n",
       "2016-01-05  100.580002  101.440002  100.570000  100.900002      80.069221   \n",
       "2016-01-06   99.820000  100.970001   99.599998  100.389999      79.664497   \n",
       "2016-01-07   99.309998  100.089996   98.879997   99.220001      78.736046   \n",
       "2016-01-08   99.879997   99.940002   97.849998   98.160004      77.894897   \n",
       "\n",
       "            JNJ_Volume  \n",
       "Date                    \n",
       "2016-01-04    12722800  \n",
       "2016-01-05     6467200  \n",
       "2016-01-06     7733800  \n",
       "2016-01-07     9433100  \n",
       "2016-01-08     9766700  "
      ]
     },
     "execution_count": 38,
     "metadata": {},
     "output_type": "execute_result"
    }
   ],
   "source": [
    "x_test.head() "
   ]
  },
  {
   "cell_type": "code",
   "execution_count": 39,
   "metadata": {},
   "outputs": [
    {
     "data": {
      "image/png": "[encoded data removed]",
      "text/plain": [
       "<Figure size 800x400 with 1 Axes>"
      ]
     },
     "metadata": {},
     "output_type": "display_data"
    }
   ],
   "source": [
    "fig = figure(figsize=(10,5), dpi=80) \n",
    "fig.patch.set_facecolor((1.0,1.0,1.0)) \n",
    "plt.plot(x_test.index, x_test['JNJ_Adj Close'], color=\"#001f3f\")\n",
    "\n",
    "xticks = (x_test.index[i] if ((i%180==0) or i==len(x_test.index)-1) else None for i in range(len(x_test.index))) \n",
    " \n",
    "display_date_range = \"from \"+str(x_test.index.min().date())+\" to \"+str(x_test.index.max().date())\n",
    "\n",
    "\n",
    "xlticks = list(xticks)\n",
    "x = np.arange(0,len(xlticks)) \n",
    "plt.xticks(ticks=xlticks, labels=[date for date in xlticks], ha='center')\n",
    "# plt.xticks(x, xlticks, rotation='vertical') \n",
    "plt.title(\"Daily close price for JNJ\"+\", \"+display_date_range)\n",
    "plt.grid(visible=True, which='major', axis='y', linestyle='--')\n",
    "plt.show()   "
   ]
  },
  {
   "cell_type": "code",
   "execution_count": 40,
   "metadata": {},
   "outputs": [],
   "source": [
    "x_train = scaled_df['df_JNJ']['JNJ_Adj Close']  "
   ]
  },
  {
   "cell_type": "code",
   "execution_count": 41,
   "metadata": {},
   "outputs": [
    {
     "data": {
      "text/plain": [
       "array([-0.9374948 , -0.93697501, -0.93931526, ...,  2.32362099,\n",
       "        2.32326715,  2.29353466])"
      ]
     },
     "execution_count": 41,
     "metadata": {},
     "output_type": "execute_result"
    }
   ],
   "source": [
    "scaled_close_price = x_train.values  # Used for prediction using LSTM\n",
    "scaled_close_price "
   ]
  },
  {
   "cell_type": "code",
   "execution_count": 42,
   "metadata": {},
   "outputs": [
    {
     "data": {
      "text/plain": [
       "2518"
      ]
     },
     "execution_count": 42,
     "metadata": {},
     "output_type": "execute_result"
    }
   ],
   "source": [
    "scaled_close_price.shape[0] "
   ]
  },
  {
   "cell_type": "code",
   "execution_count": 43,
   "metadata": {},
   "outputs": [],
   "source": [
    "window_size = 20\n",
    "def prepare_data_x(x, window_size):\n",
    "    n_row = x.shape[0]-window_size+1 \n",
    "    output = np.lib.stride_tricks.as_strided(x, shape=(n_row,window_size), strides=(x.strides[0],x.strides[0]))\n",
    "    return output[:-1], output[-1] \n",
    "\n",
    "def prepare_data_y(x, window_size):\n",
    "    output = x[window_size:]\n",
    "    return output \n",
    "\n",
    "data_x, data_x_unseen = prepare_data_x(scaled_close_price, window_size=window_size) \n",
    "data_y = prepare_data_y(scaled_close_price, window_size=window_size) "
   ]
  },
  {
   "cell_type": "code",
   "execution_count": 44,
   "metadata": {},
   "outputs": [
    {
     "name": "stdout",
     "output_type": "stream",
     "text": [
      "Shape of data_x :  (2498, 20)\n",
      "Shape of data_x_unseen :  (20,)\n",
      "Shape of data_y :  (2498,)\n"
     ]
    }
   ],
   "source": [
    "print('Shape of data_x : ',data_x.shape)\n",
    "print('Shape of data_x_unseen : ',data_x_unseen.shape)\n",
    "print('Shape of data_y : ',data_y.shape) "
   ]
  },
  {
   "cell_type": "code",
   "execution_count": 45,
   "metadata": {},
   "outputs": [],
   "source": [
    "split_index = int(data_y.shape[0]*0.80)\n",
    "data_x_train = data_x[:split_index] # Each array contains a list of 20 elements \n",
    "data_x_val = data_x[split_index:] \n",
    "data_y_train = data_y[:split_index] \n",
    "data_y_val = data_y[split_index:]   # This value is used for validation against predicted values "
   ]
  },
  {
   "cell_type": "code",
   "execution_count": 46,
   "metadata": {},
   "outputs": [
    {
     "name": "stdout",
     "output_type": "stream",
     "text": [
      "Arrays in data_x_train :  1998\n",
      "Arrays in data_x_val :  500\n",
      "Arrays in data_y_train :  1998\n",
      "Arrays in data_y_val :  500\n"
     ]
    }
   ],
   "source": [
    "print('Arrays in data_x_train : ',len(data_x_train))\n",
    "print('Arrays in data_x_val : ',len(data_x_val))\n",
    "print('Arrays in data_y_train : ',len(data_y_train))\n",
    "print('Arrays in data_y_val : ',len(data_y_val))  "
   ]
  },
  {
   "cell_type": "markdown",
   "metadata": {},
   "source": [
    "### Creating Data frames "
   ]
  },
  {
   "cell_type": "code",
   "execution_count": 47,
   "metadata": {},
   "outputs": [
    {
     "data": {
      "text/html": [
       "<div>\n",
       "<style scoped>\n",
       "    .dataframe tbody tr th:only-of-type {\n",
       "        vertical-align: middle;\n",
       "    }\n",
       "\n",
       "    .dataframe tbody tr th {\n",
       "        vertical-align: top;\n",
       "    }\n",
       "\n",
       "    .dataframe thead th {\n",
       "        text-align: right;\n",
       "    }\n",
       "</style>\n",
       "<table border=\"1\" class=\"dataframe\">\n",
       "  <thead>\n",
       "    <tr style=\"text-align: right;\">\n",
       "      <th></th>\n",
       "      <th>Dates</th>\n",
       "      <th>Values</th>\n",
       "    </tr>\n",
       "  </thead>\n",
       "  <tbody>\n",
       "    <tr>\n",
       "      <th>0</th>\n",
       "      <td>2008-01-02</td>\n",
       "      <td>-0.937495</td>\n",
       "    </tr>\n",
       "    <tr>\n",
       "      <th>1</th>\n",
       "      <td>2008-01-03</td>\n",
       "      <td>-0.936975</td>\n",
       "    </tr>\n",
       "    <tr>\n",
       "      <th>2</th>\n",
       "      <td>2008-01-04</td>\n",
       "      <td>-0.939315</td>\n",
       "    </tr>\n",
       "    <tr>\n",
       "      <th>3</th>\n",
       "      <td>2008-01-07</td>\n",
       "      <td>-0.912788</td>\n",
       "    </tr>\n",
       "    <tr>\n",
       "      <th>4</th>\n",
       "      <td>2008-01-08</td>\n",
       "      <td>-0.910707</td>\n",
       "    </tr>\n",
       "  </tbody>\n",
       "</table>\n",
       "</div>"
      ],
      "text/plain": [
       "       Dates    Values\n",
       "0 2008-01-02 -0.937495\n",
       "1 2008-01-03 -0.936975\n",
       "2 2008-01-04 -0.939315\n",
       "3 2008-01-07 -0.912788\n",
       "4 2008-01-08 -0.910707"
      ]
     },
     "execution_count": 47,
     "metadata": {},
     "output_type": "execute_result"
    }
   ],
   "source": [
    "x_train_df = pd.DataFrame() \n",
    "x_train_df['Dates'] = x_train.index \n",
    "x_train_df['Values'] = x_train.values  \n",
    "x_train_df.head() "
   ]
  },
  {
   "cell_type": "code",
   "execution_count": 48,
   "metadata": {},
   "outputs": [
    {
     "data": {
      "text/plain": [
       "2018   2016-01-07\n",
       "Name: Dates, dtype: datetime64[ns]"
      ]
     },
     "execution_count": 48,
     "metadata": {},
     "output_type": "execute_result"
    }
   ],
   "source": [
    "# Beginning indices of data_y_val in x_train_df \n",
    "\n",
    "indices = x_train_df.loc[x_train_df['Values']==data_y_val[0],'Dates']\n",
    "indices  "
   ]
  },
  {
   "cell_type": "code",
   "execution_count": 49,
   "metadata": {},
   "outputs": [],
   "source": [
    "datay_val = pd.DataFrame()\n",
    "datay_train = pd.DataFrame()\n",
    "datay_val = x_train_df[2018:]\n",
    "datay_train = x_train_df[:2018]   "
   ]
  },
  {
   "cell_type": "code",
   "execution_count": 51,
   "metadata": {},
   "outputs": [
    {
     "name": "stdout",
     "output_type": "stream",
     "text": [
      "Train data shape :  (1998, 20, 1) (1998,)\n",
      "Validation data shape :  (500, 20, 1) (500,)\n"
     ]
    }
   ],
   "source": [
    "class TimeSeriesDataset(Dataset):\n",
    "    def __init__(self, x, y):\n",
    "        x = np.expand_dims(x,2)\n",
    "        self.x = x.astype(np.float32)\n",
    "        self.y = y.astype(np.float32) \n",
    "\n",
    "    def __len__(self):\n",
    "        return len(self.x) \n",
    "\n",
    "    def __getitem__(self, idx):\n",
    "        return (self.x[idx], self.y[idx]) \n",
    "\n",
    "dataset_train = TimeSeriesDataset(data_x_train, data_y_train)\n",
    "dataset_val = TimeSeriesDataset(data_x_val, data_y_val) \n",
    "\n",
    "print(\"Train data shape : \",dataset_train.x.shape, dataset_train.y.shape)\n",
    "print(\"Validation data shape : \",dataset_val.x.shape, dataset_val.y.shape)\n",
    "\n",
    "train_dataloader = DataLoader(dataset_train, batch_size=64, shuffle=True)\n",
    "val_dataloader = DataLoader(dataset_val, batch_size=64, shuffle=True) "
   ]
  },
  {
   "cell_type": "code",
   "execution_count": 52,
   "metadata": {},
   "outputs": [],
   "source": [
    "class LSTMModel(nn.Module):\n",
    "    def __init__(self, input_size=1, hidden_layer_size=32, num_layers=2, output_size=1, dropout=0.2):\n",
    "        super().__init__() \n",
    "        self.hidden_layer_size = hidden_layer_size \n",
    "        \n",
    "        self.linear_1 = nn.Linear(input_size, hidden_layer_size)\n",
    "        self.relu = nn.ReLU()\n",
    "        self.lstm = nn.LSTM(hidden_layer_size, hidden_size=self.hidden_layer_size, num_layers=num_layers, batch_first=True)\n",
    "        self.dropout = nn.Dropout(dropout)\n",
    "        self.linear_2 = nn.Linear(num_layers*hidden_layer_size, output_size)\n",
    "        \n",
    "        self.init_weights()\n",
    "\n",
    "    def init_weights(self):\n",
    "        for name, param in self.lstm.named_parameters():\n",
    "            if 'bias' in name:\n",
    "                 nn.init.constant_(param, 0.0)\n",
    "            elif 'weight_ih' in name:\n",
    "                 nn.init.kaiming_normal_(param)\n",
    "            elif 'weight_hh' in name:\n",
    "                 nn.init.orthogonal_(param)\n",
    "    def forward(self, x):\n",
    "        batchsize = x.shape[0]\n",
    "\n",
    "        # layer 1\n",
    "        x = self.linear_1(x)\n",
    "        x = self.relu(x)\n",
    "        \n",
    "        # LSTM layer\n",
    "        lstm_out, (h_n, c_n) = self.lstm(x)\n",
    "\n",
    "        # reshape output from hidden cell into [batch, features] for `linear_2`\n",
    "        x = h_n.permute(1, 0, 2).reshape(batchsize, -1) \n",
    "        \n",
    "        # layer 2\n",
    "        x = self.dropout(x)\n",
    "        predictions = self.linear_2(x)\n",
    "        return predictions[:,-1]  "
   ]
  },
  {
   "cell_type": "code",
   "execution_count": 53,
   "metadata": {},
   "outputs": [
    {
     "name": "stdout",
     "output_type": "stream",
     "text": [
      "Epoch[1/100] | loss train:0.034049, test:0.074112 | lr:0.010000\n",
      "Epoch[2/100] | loss train:0.003849, test:0.062709 | lr:0.010000\n",
      "Epoch[3/100] | loss train:0.002819, test:0.044506 | lr:0.010000\n",
      "Epoch[4/100] | loss train:0.002776, test:0.045559 | lr:0.010000\n",
      "Epoch[5/100] | loss train:0.003075, test:0.036159 | lr:0.010000\n",
      "Epoch[6/100] | loss train:0.002061, test:0.034130 | lr:0.010000\n",
      "Epoch[7/100] | loss train:0.002581, test:0.037076 | lr:0.010000\n",
      "Epoch[8/100] | loss train:0.001802, test:0.022666 | lr:0.010000\n",
      "Epoch[9/100] | loss train:0.002714, test:0.025687 | lr:0.010000\n",
      "Epoch[10/100] | loss train:0.001977, test:0.037143 | lr:0.010000\n",
      "Epoch[11/100] | loss train:0.002512, test:0.024093 | lr:0.010000\n",
      "Epoch[12/100] | loss train:0.001892, test:0.033974 | lr:0.010000\n",
      "Epoch[13/100] | loss train:0.001940, test:0.034595 | lr:0.010000\n",
      "Epoch[14/100] | loss train:0.001805, test:0.022022 | lr:0.010000\n",
      "Epoch[15/100] | loss train:0.001871, test:0.035781 | lr:0.010000\n",
      "Epoch[16/100] | loss train:0.001764, test:0.028479 | lr:0.010000\n",
      "Epoch[17/100] | loss train:0.002406, test:0.022692 | lr:0.010000\n",
      "Epoch[18/100] | loss train:0.002048, test:0.024469 | lr:0.010000\n",
      "Epoch[19/100] | loss train:0.002758, test:0.021908 | lr:0.010000\n",
      "Epoch[20/100] | loss train:0.002309, test:0.023962 | lr:0.010000\n",
      "Epoch[21/100] | loss train:0.001598, test:0.030665 | lr:0.010000\n",
      "Epoch[22/100] | loss train:0.001665, test:0.032658 | lr:0.010000\n",
      "Epoch[23/100] | loss train:0.001567, test:0.035242 | lr:0.010000\n",
      "Epoch[24/100] | loss train:0.002437, test:0.033143 | lr:0.010000\n",
      "Epoch[25/100] | loss train:0.001682, test:0.027984 | lr:0.010000\n",
      "Epoch[26/100] | loss train:0.002212, test:0.027208 | lr:0.010000\n",
      "Epoch[27/100] | loss train:0.001907, test:0.034347 | lr:0.010000\n",
      "Epoch[28/100] | loss train:0.001640, test:0.024477 | lr:0.010000\n",
      "Epoch[29/100] | loss train:0.001889, test:0.037039 | lr:0.010000\n",
      "Epoch[30/100] | loss train:0.001869, test:0.026630 | lr:0.010000\n",
      "Epoch[31/100] | loss train:0.001540, test:0.046764 | lr:0.010000\n",
      "Epoch[32/100] | loss train:0.002172, test:0.052730 | lr:0.010000\n",
      "Epoch[33/100] | loss train:0.002064, test:0.026033 | lr:0.010000\n",
      "Epoch[34/100] | loss train:0.001730, test:0.035747 | lr:0.010000\n",
      "Epoch[35/100] | loss train:0.001846, test:0.032814 | lr:0.010000\n",
      "Epoch[36/100] | loss train:0.001650, test:0.029698 | lr:0.010000\n",
      "Epoch[37/100] | loss train:0.001823, test:0.037920 | lr:0.010000\n",
      "Epoch[38/100] | loss train:0.001750, test:0.037842 | lr:0.010000\n",
      "Epoch[39/100] | loss train:0.001871, test:0.026520 | lr:0.010000\n",
      "Epoch[40/100] | loss train:0.001705, test:0.048536 | lr:0.010000\n",
      "Epoch[41/100] | loss train:0.001795, test:0.031364 | lr:0.001000\n",
      "Epoch[42/100] | loss train:0.001317, test:0.030010 | lr:0.001000\n",
      "Epoch[43/100] | loss train:0.001208, test:0.035038 | lr:0.001000\n",
      "Epoch[44/100] | loss train:0.001509, test:0.031543 | lr:0.001000\n",
      "Epoch[45/100] | loss train:0.001410, test:0.029245 | lr:0.001000\n",
      "Epoch[46/100] | loss train:0.001374, test:0.033757 | lr:0.001000\n",
      "Epoch[47/100] | loss train:0.001308, test:0.030201 | lr:0.001000\n",
      "Epoch[48/100] | loss train:0.001434, test:0.034786 | lr:0.001000\n",
      "Epoch[49/100] | loss train:0.001363, test:0.032892 | lr:0.001000\n",
      "Epoch[50/100] | loss train:0.001523, test:0.033893 | lr:0.001000\n",
      "Epoch[51/100] | loss train:0.001558, test:0.031982 | lr:0.001000\n",
      "Epoch[52/100] | loss train:0.001278, test:0.033098 | lr:0.001000\n",
      "Epoch[53/100] | loss train:0.001630, test:0.030098 | lr:0.001000\n",
      "Epoch[54/100] | loss train:0.001456, test:0.031337 | lr:0.001000\n",
      "Epoch[55/100] | loss train:0.001221, test:0.033776 | lr:0.001000\n",
      "Epoch[56/100] | loss train:0.001333, test:0.029684 | lr:0.001000\n",
      "Epoch[57/100] | loss train:0.001363, test:0.029927 | lr:0.001000\n",
      "Epoch[58/100] | loss train:0.001318, test:0.030070 | lr:0.001000\n",
      "Epoch[59/100] | loss train:0.001334, test:0.030145 | lr:0.001000\n",
      "Epoch[60/100] | loss train:0.001374, test:0.031987 | lr:0.001000\n",
      "Epoch[61/100] | loss train:0.001421, test:0.030223 | lr:0.001000\n",
      "Epoch[62/100] | loss train:0.001248, test:0.030152 | lr:0.001000\n",
      "Epoch[63/100] | loss train:0.001481, test:0.034390 | lr:0.001000\n",
      "Epoch[64/100] | loss train:0.001326, test:0.031118 | lr:0.001000\n",
      "Epoch[65/100] | loss train:0.001600, test:0.028563 | lr:0.001000\n",
      "Epoch[66/100] | loss train:0.001346, test:0.030097 | lr:0.001000\n",
      "Epoch[67/100] | loss train:0.001389, test:0.029998 | lr:0.001000\n",
      "Epoch[68/100] | loss train:0.001731, test:0.028903 | lr:0.001000\n",
      "Epoch[69/100] | loss train:0.001763, test:0.029706 | lr:0.001000\n",
      "Epoch[70/100] | loss train:0.001276, test:0.027125 | lr:0.001000\n",
      "Epoch[71/100] | loss train:0.001282, test:0.030281 | lr:0.001000\n",
      "Epoch[72/100] | loss train:0.001276, test:0.029991 | lr:0.001000\n",
      "Epoch[73/100] | loss train:0.001254, test:0.030656 | lr:0.001000\n",
      "Epoch[74/100] | loss train:0.001331, test:0.032018 | lr:0.001000\n",
      "Epoch[75/100] | loss train:0.001536, test:0.033509 | lr:0.001000\n",
      "Epoch[76/100] | loss train:0.001334, test:0.029535 | lr:0.001000\n",
      "Epoch[77/100] | loss train:0.001445, test:0.026068 | lr:0.001000\n",
      "Epoch[78/100] | loss train:0.001366, test:0.031482 | lr:0.001000\n",
      "Epoch[79/100] | loss train:0.001229, test:0.028727 | lr:0.001000\n",
      "Epoch[80/100] | loss train:0.001184, test:0.030865 | lr:0.001000\n",
      "Epoch[81/100] | loss train:0.001356, test:0.027477 | lr:0.000100\n",
      "Epoch[82/100] | loss train:0.001672, test:0.028266 | lr:0.000100\n",
      "Epoch[83/100] | loss train:0.001230, test:0.028800 | lr:0.000100\n",
      "Epoch[84/100] | loss train:0.001196, test:0.029256 | lr:0.000100\n",
      "Epoch[85/100] | loss train:0.001359, test:0.027599 | lr:0.000100\n",
      "Epoch[86/100] | loss train:0.001271, test:0.027646 | lr:0.000100\n",
      "Epoch[87/100] | loss train:0.001343, test:0.028666 | lr:0.000100\n",
      "Epoch[88/100] | loss train:0.001284, test:0.029201 | lr:0.000100\n",
      "Epoch[89/100] | loss train:0.001330, test:0.028583 | lr:0.000100\n",
      "Epoch[90/100] | loss train:0.001268, test:0.029121 | lr:0.000100\n",
      "Epoch[91/100] | loss train:0.001308, test:0.029311 | lr:0.000100\n",
      "Epoch[92/100] | loss train:0.001253, test:0.028490 | lr:0.000100\n",
      "Epoch[93/100] | loss train:0.001384, test:0.029250 | lr:0.000100\n",
      "Epoch[94/100] | loss train:0.001167, test:0.028603 | lr:0.000100\n",
      "Epoch[95/100] | loss train:0.001349, test:0.028865 | lr:0.000100\n",
      "Epoch[96/100] | loss train:0.001321, test:0.028509 | lr:0.000100\n",
      "Epoch[97/100] | loss train:0.001326, test:0.029470 | lr:0.000100\n",
      "Epoch[98/100] | loss train:0.001440, test:0.028924 | lr:0.000100\n",
      "Epoch[99/100] | loss train:0.001165, test:0.028728 | lr:0.000100\n",
      "Epoch[100/100] | loss train:0.001263, test:0.028506 | lr:0.000100\n"
     ]
    }
   ],
   "source": [
    "def run_epoch(dataloader, is_training=False):\n",
    "    epoch_loss = 0\n",
    "\n",
    "    if is_training:\n",
    "        model.train()\n",
    "    else:\n",
    "        model.eval()\n",
    "\n",
    "    for idx, (x, y) in enumerate(dataloader):\n",
    "        if is_training:\n",
    "            optimizer.zero_grad()\n",
    "\n",
    "        batchsize = x.shape[0]\n",
    "\n",
    "        x = x.to('cpu')\n",
    "        y = y.to('cpu')\n",
    "\n",
    "        out = model(x)\n",
    "        loss = criterion(out.contiguous(), y.contiguous())\n",
    "\n",
    "        if is_training:\n",
    "            loss.backward()\n",
    "            optimizer.step()\n",
    "\n",
    "        epoch_loss += (loss.detach().item() / batchsize)\n",
    "\n",
    "    lr = scheduler.get_last_lr()[0]\n",
    "\n",
    "    return epoch_loss, lr\n",
    "\n",
    "train_dataloader = DataLoader(dataset_train, batch_size=64, shuffle=True)\n",
    "val_dataloader = DataLoader(dataset_val, batch_size=64, shuffle=True)\n",
    "\n",
    "model = LSTMModel(input_size=1, hidden_layer_size=32, num_layers=2, output_size=1, dropout=0.2)\n",
    "model = model.to('cpu') \n",
    "\n",
    "criterion = nn.MSELoss()\n",
    "optimizer = optim.Adam(model.parameters(), lr=0.01, betas=(0.9, 0.98), eps=1e-9)\n",
    "scheduler = optim.lr_scheduler.StepLR(optimizer, step_size=40, gamma=0.1)\n",
    "\n",
    "for epoch in range(100):\n",
    "    loss_train, lr_train = run_epoch(train_dataloader, is_training=True)\n",
    "    loss_val, lr_val = run_epoch(val_dataloader)\n",
    "    scheduler.step()\n",
    "    \n",
    "    print('Epoch[{}/{}] | loss train:{:.6f}, test:{:.6f} | lr:{:.6f}'\n",
    "              .format(epoch+1, 100, loss_train, loss_val, lr_train)) "
   ]
  },
  {
   "cell_type": "markdown",
   "metadata": {},
   "source": [
    "### Model Evaluation"
   ]
  },
  {
   "cell_type": "code",
   "execution_count": 54,
   "metadata": {},
   "outputs": [],
   "source": [
    "class Normalizer():\n",
    "    def __init__(self):\n",
    "        self.mean = None \n",
    "        self.std = None \n",
    "\n",
    "    def fit_transform(self,x):\n",
    "        self.mean = np.mean(x, axis=(0), keepdims=True) \n",
    "        self.std = np.std(x, axis=(0), keepdims=True) \n",
    "        normalized_x = (x-self.mean)/self.std \n",
    "        return normalized_x\n",
    "\n",
    "    def inverse_transform(self, x):\n",
    "        return (x*self.std)+self.mean \n",
    "    \n",
    "scaler = Normalizer() "
   ]
  },
  {
   "cell_type": "code",
   "execution_count": 55,
   "metadata": {},
   "outputs": [
    {
     "data": {
      "text/plain": [
       "LSTMModel(\n",
       "  (linear_1): Linear(in_features=1, out_features=32, bias=True)\n",
       "  (relu): ReLU()\n",
       "  (lstm): LSTM(32, 32, num_layers=2, batch_first=True)\n",
       "  (dropout): Dropout(p=0.2, inplace=False)\n",
       "  (linear_2): Linear(in_features=64, out_features=1, bias=True)\n",
       ")"
      ]
     },
     "execution_count": 55,
     "metadata": {},
     "output_type": "execute_result"
    }
   ],
   "source": [
    "train_dataloader = DataLoader(dataset_train, batch_size=64, shuffle=False)\n",
    "val_dataloader = DataLoader(dataset_val, batch_size=64, shuffle=False)\n",
    "\n",
    "model.eval() "
   ]
  },
  {
   "cell_type": "code",
   "execution_count": 56,
   "metadata": {},
   "outputs": [],
   "source": [
    "# predict on the training data, to see how well the model managed to learn and memorize\n",
    "\n",
    "predicted_train = np.array([])\n",
    "\n",
    "for idx, (x, y) in enumerate(train_dataloader):\n",
    "    x = x.to('cpu') \n",
    "    out = model(x) \n",
    "    out = out.cpu().detach().numpy()\n",
    "    predicted_train = np.concatenate((predicted_train, out)) "
   ]
  },
  {
   "cell_type": "code",
   "execution_count": 57,
   "metadata": {},
   "outputs": [],
   "source": [
    "# predict on the validation data, to see how the model does\n",
    "\n",
    "predicted_val = np.array([])\n",
    "\n",
    "for idx, (x, y) in enumerate(val_dataloader):\n",
    "    x = x.to('cpu') \n",
    "    out = model(x)\n",
    "    out = out.cpu().detach().numpy()\n",
    "    predicted_val = np.concatenate((predicted_val, out)) "
   ]
  },
  {
   "cell_type": "code",
   "execution_count": 58,
   "metadata": {},
   "outputs": [
    {
     "data": {
      "image/png": "[encoded data removed]",
      "text/plain": [
       "<Figure size 800x400 with 1 Axes>"
      ]
     },
     "metadata": {},
     "output_type": "display_data"
    }
   ],
   "source": [
    "fig = figure(figsize=(10,5), dpi=80) \n",
    "fig.patch.set_facecolor((1.0,1.0,1.0)) \n",
    "\n",
    "plt.plot(data_y_train, label='Actual Train Data', color=\"#001f3f\")\n",
    "plt.plot(predicted_train, label='Predicted Train Data', color=\"olive\") \n",
    "\n",
    " \n",
    "display_date_range = \"from \"+str(x_train.index.min().date())+\" to \"+str(x_train.index.max().date())\n",
    "\n",
    "plt.xlabel('Dates') \n",
    "plt.ylabel('Prices') \n",
    "plt.title(\"Daily close price for JNJ\"+\", \"+display_date_range)\n",
    "plt.grid(visible=True, which='major', axis='y', linestyle='--')\n",
    "plt.show()   "
   ]
  },
  {
   "cell_type": "code",
   "execution_count": 59,
   "metadata": {},
   "outputs": [],
   "source": [
    "x_test = x_test[:-3] "
   ]
  },
  {
   "cell_type": "code",
   "execution_count": 60,
   "metadata": {},
   "outputs": [
    {
     "data": {
      "image/png": "[encoded data removed]",
      "text/plain": [
       "<Figure size 800x400 with 1 Axes>"
      ]
     },
     "metadata": {},
     "output_type": "display_data"
    }
   ],
   "source": [
    "fig = figure(figsize=(10,5), dpi=80) \n",
    "fig.patch.set_facecolor((1.0,1.0,1.0)) \n",
    "\n",
    "plt.plot(x_test.index, data_y_val, label='Actual Test Data', color=\"#001f3f\")\n",
    "plt.plot(x_test.index, predicted_val, label='Predicted Test Data', color=\"olive\") \n",
    "\n",
    "xticks = (x_test.index[i] if ((i%180==0) or i==len(x_test.index)-1) else None for i in range(len(x_test.index))) \n",
    " \n",
    "display_date_range = \"from \"+str(x_test.index.min().date())+\" to \"+str(x_test.index.max().date())\n",
    "\n",
    "\n",
    "xlticks = list(xticks)\n",
    "x = np.arange(0,len(xlticks)) \n",
    "plt.xticks(ticks=xlticks, labels=[date for date in xlticks], ha='center')\n",
    " \n",
    "plt.xlabel('Dates') \n",
    "plt.ylabel('Prices') \n",
    "plt.title(\"Daily close price for JNJ\"+\", \"+display_date_range)\n",
    "plt.grid(visible=True, which='major', axis='y', linestyle='--')\n",
    "plt.show()   "
   ]
  },
  {
   "cell_type": "markdown",
   "metadata": {},
   "source": [
    "## JNJ-NEE "
   ]
  },
  {
   "cell_type": "code",
   "execution_count": 61,
   "metadata": {},
   "outputs": [
    {
     "data": {
      "text/html": [
       "<div>\n",
       "<style scoped>\n",
       "    .dataframe tbody tr th:only-of-type {\n",
       "        vertical-align: middle;\n",
       "    }\n",
       "\n",
       "    .dataframe tbody tr th {\n",
       "        vertical-align: top;\n",
       "    }\n",
       "\n",
       "    .dataframe thead th {\n",
       "        text-align: right;\n",
       "    }\n",
       "</style>\n",
       "<table border=\"1\" class=\"dataframe\">\n",
       "  <thead>\n",
       "    <tr style=\"text-align: right;\">\n",
       "      <th></th>\n",
       "      <th>JNJ_Close</th>\n",
       "      <th>NEE_Close</th>\n",
       "      <th>JNJ_Returns</th>\n",
       "      <th>NEE_Returns</th>\n",
       "      <th>Price_Spread</th>\n",
       "    </tr>\n",
       "    <tr>\n",
       "      <th>Date</th>\n",
       "      <th></th>\n",
       "      <th></th>\n",
       "      <th></th>\n",
       "      <th></th>\n",
       "      <th></th>\n",
       "    </tr>\n",
       "  </thead>\n",
       "  <tbody>\n",
       "    <tr>\n",
       "      <th>2008-01-03</th>\n",
       "      <td>40.557816</td>\n",
       "      <td>10.273084</td>\n",
       "      <td>0.000303</td>\n",
       "      <td>0.009344</td>\n",
       "      <td>30.284732</td>\n",
       "    </tr>\n",
       "    <tr>\n",
       "      <th>2008-01-04</th>\n",
       "      <td>40.502460</td>\n",
       "      <td>10.556870</td>\n",
       "      <td>-0.001365</td>\n",
       "      <td>0.027624</td>\n",
       "      <td>29.945591</td>\n",
       "    </tr>\n",
       "    <tr>\n",
       "      <th>2008-01-07</th>\n",
       "      <td>41.129929</td>\n",
       "      <td>11.049277</td>\n",
       "      <td>0.015492</td>\n",
       "      <td>0.046643</td>\n",
       "      <td>30.080651</td>\n",
       "    </tr>\n",
       "    <tr>\n",
       "      <th>2008-01-08</th>\n",
       "      <td>41.179138</td>\n",
       "      <td>10.975651</td>\n",
       "      <td>0.001196</td>\n",
       "      <td>-0.006663</td>\n",
       "      <td>30.203487</td>\n",
       "    </tr>\n",
       "    <tr>\n",
       "      <th>2008-01-09</th>\n",
       "      <td>41.708172</td>\n",
       "      <td>10.961845</td>\n",
       "      <td>0.012847</td>\n",
       "      <td>-0.001258</td>\n",
       "      <td>30.746326</td>\n",
       "    </tr>\n",
       "  </tbody>\n",
       "</table>\n",
       "</div>"
      ],
      "text/plain": [
       "            JNJ_Close  NEE_Close  JNJ_Returns  NEE_Returns  Price_Spread\n",
       "Date                                                                    \n",
       "2008-01-03  40.557816  10.273084     0.000303     0.009344     30.284732\n",
       "2008-01-04  40.502460  10.556870    -0.001365     0.027624     29.945591\n",
       "2008-01-07  41.129929  11.049277     0.015492     0.046643     30.080651\n",
       "2008-01-08  41.179138  10.975651     0.001196    -0.006663     30.203487\n",
       "2008-01-09  41.708172  10.961845     0.012847    -0.001258     30.746326"
      ]
     },
     "execution_count": 61,
     "metadata": {},
     "output_type": "execute_result"
    }
   ],
   "source": [
    "df_jnj_nee = pd.DataFrame() \n",
    "df_jnj_nee['JNJ_Close'] = data_frames['df_JNJ']['JNJ_Adj Close']\n",
    "df_jnj_nee['NEE_Close'] = data_frames['df_NEE']['NEE_Adj Close'] \n",
    "df_jnj_nee['JNJ_Returns'] = df_jnj_nee['JNJ_Close'].pct_change()\n",
    "df_jnj_nee['NEE_Returns'] = df_jnj_nee['NEE_Close'].pct_change()\n",
    "df_jnj_nee['Price_Spread'] = df_jnj_nee['JNJ_Close'] - df_jnj_nee['NEE_Close']\n",
    "df_jnj_nee.dropna(inplace=True) \n",
    "df_jnj_nee.head() "
   ]
  },
  {
   "cell_type": "code",
   "execution_count": 62,
   "metadata": {},
   "outputs": [
    {
     "data": {
      "image/png": "[encoded data removed]",
      "text/plain": [
       "<Figure size 1500x700 with 1 Axes>"
      ]
     },
     "metadata": {},
     "output_type": "display_data"
    }
   ],
   "source": [
    "plt.figure(figsize=(15, 7))\n",
    "plt.plot(df_jnj_nee['JNJ_Close'], lw=1.5, label='Close Price of JNJ',color='red')\n",
    "plt.plot(df_jnj_nee['NEE_Close'], lw=1.5, label='Close Price of NEE',color='#6CA6CD')\n",
    "plt.grid(True)\n",
    "plt.legend(loc=0)\n",
    "\n",
    "# This helps us tighten the figure margins\n",
    "plt.axis('tight')\n",
    "plt.xlabel('Dates')\n",
    "plt.ylabel('Price ($)')\n",
    "plt.title('Close prices for JNJ and NEE')\n",
    "plt.grid(True);\n",
    "plt.show() "
   ]
  },
  {
   "cell_type": "code",
   "execution_count": 63,
   "metadata": {},
   "outputs": [],
   "source": [
    "x_test_spread = df_jnj_nee[df_jnj_nee.index>=start_pred_date] \n",
    "x_train_spread = df_jnj_nee[df_jnj_nee.index<start_pred_date] "
   ]
  },
  {
   "cell_type": "code",
   "execution_count": 64,
   "metadata": {},
   "outputs": [
    {
     "data": {
      "image/png": "[encoded data removed]",
      "text/plain": [
       "<Figure size 800x400 with 1 Axes>"
      ]
     },
     "metadata": {},
     "output_type": "display_data"
    }
   ],
   "source": [
    "fig = figure(figsize=(10,5), dpi=80) \n",
    "fig.patch.set_facecolor((1.0,1.0,1.0)) \n",
    "plt.plot(x_test_spread.index, x_test_spread['Price_Spread'], color=\"#001f3f\")\n",
    "\n",
    "xticks = (x_test_spread.index[i] if ((i%180==0) or i==len(x_test_spread.index)-1) else None for i in range(len(x_test_spread.index))) \n",
    " \n",
    "display_date_range = \"from \"+str(x_test_spread.index.min().date())+\" to \"+str(x_test_spread.index.max().date())\n",
    "\n",
    "\n",
    "xlticks = list(xticks)\n",
    "x = np.arange(0,len(xlticks)) \n",
    "plt.xticks(ticks=xlticks, labels=[date for date in xlticks], ha='center')\n",
    "# plt.xticks(x, xlticks, rotation='vertical') \n",
    "plt.title(\"Price spread for JNJ-NEE\"+\", \"+display_date_range)\n",
    "plt.grid(visible=True, which='major', axis='y', linestyle='--')\n",
    "plt.show()   "
   ]
  },
  {
   "cell_type": "code",
   "execution_count": 65,
   "metadata": {},
   "outputs": [],
   "source": [
    "# train = pd.DataFrame()\n",
    "# train['JNJ'] = df_jnj_nee['JNJ_Close']\n",
    "# train['NEE'] = df_jnj_nee['NEE_Close']"
   ]
  },
  {
   "cell_type": "code",
   "execution_count": 71,
   "metadata": {},
   "outputs": [],
   "source": [
    "filtered_df = df_jnj_nee[df_jnj_nee.index>=start_pred_date] \n",
    "train = pd.DataFrame()\n",
    "train['JNJ'] = filtered_df['JNJ_Close']\n",
    "train['NEE'] = filtered_df['NEE_Close'] "
   ]
  },
  {
   "cell_type": "code",
   "execution_count": 66,
   "metadata": {},
   "outputs": [],
   "source": [
    "from statsmodels.regression.linear_model import OLS\n",
    "from statsmodels.tsa.stattools import adfuller "
   ]
  },
  {
   "cell_type": "code",
   "execution_count": 73,
   "metadata": {},
   "outputs": [
    {
     "name": "stdout",
     "output_type": "stream",
     "text": [
      "Hedge Ratio :  3.6491634299263667\n"
     ]
    }
   ],
   "source": [
    "model = sm.OLS(train.JNJ,train.NEE).fit()\n",
    "\n",
    "print('Hedge Ratio : ',model.params[0]) "
   ]
  },
  {
   "cell_type": "code",
   "execution_count": 107,
   "metadata": {},
   "outputs": [
    {
     "data": {
      "image/png": "[encoded data removed]",
      "text/plain": [
       "<Figure size 1000x500 with 1 Axes>"
      ]
     },
     "metadata": {},
     "output_type": "display_data"
    }
   ],
   "source": [
    "spread = train.JNJ - model.params[0]*train.NEE \n",
    "\n",
    "plot = spread.plot(figsize=(10,5), title=\"Pair's Spread\") \n",
    "plot.set_ylabel('Spread') \n",
    "plot.grid(True);\n",
    "\n",
    "def zscore(series):\n",
    "    return (series-series.mean())/np.std(series) \n",
    "\n",
    "test = pd.DataFrame()\n",
    "test['JNJ'] = df_jnj_nee['JNJ_Close']\n",
    "test['NEE'] = df_jnj_nee['NEE_Close'] "
   ]
  },
  {
   "cell_type": "code",
   "execution_count": 108,
   "metadata": {},
   "outputs": [
    {
     "data": {
      "text/html": [
       "<div>\n",
       "<style scoped>\n",
       "    .dataframe tbody tr th:only-of-type {\n",
       "        vertical-align: middle;\n",
       "    }\n",
       "\n",
       "    .dataframe tbody tr th {\n",
       "        vertical-align: top;\n",
       "    }\n",
       "\n",
       "    .dataframe thead th {\n",
       "        text-align: right;\n",
       "    }\n",
       "</style>\n",
       "<table border=\"1\" class=\"dataframe\">\n",
       "  <thead>\n",
       "    <tr style=\"text-align: right;\">\n",
       "      <th></th>\n",
       "      <th>JNJ</th>\n",
       "      <th>NEE</th>\n",
       "      <th>spread</th>\n",
       "    </tr>\n",
       "    <tr>\n",
       "      <th>Date</th>\n",
       "      <th></th>\n",
       "      <th></th>\n",
       "      <th></th>\n",
       "    </tr>\n",
       "  </thead>\n",
       "  <tbody>\n",
       "    <tr>\n",
       "      <th>2008-01-03</th>\n",
       "      <td>40.557816</td>\n",
       "      <td>10.273084</td>\n",
       "      <td>3.069654</td>\n",
       "    </tr>\n",
       "    <tr>\n",
       "      <th>2008-01-04</th>\n",
       "      <td>40.502460</td>\n",
       "      <td>10.556870</td>\n",
       "      <td>1.978718</td>\n",
       "    </tr>\n",
       "    <tr>\n",
       "      <th>2008-01-07</th>\n",
       "      <td>41.129929</td>\n",
       "      <td>11.049277</td>\n",
       "      <td>0.809310</td>\n",
       "    </tr>\n",
       "    <tr>\n",
       "      <th>2008-01-08</th>\n",
       "      <td>41.179138</td>\n",
       "      <td>10.975651</td>\n",
       "      <td>1.127195</td>\n",
       "    </tr>\n",
       "    <tr>\n",
       "      <th>2008-01-09</th>\n",
       "      <td>41.708172</td>\n",
       "      <td>10.961845</td>\n",
       "      <td>1.706606</td>\n",
       "    </tr>\n",
       "  </tbody>\n",
       "</table>\n",
       "</div>"
      ],
      "text/plain": [
       "                  JNJ        NEE    spread\n",
       "Date                                      \n",
       "2008-01-03  40.557816  10.273084  3.069654\n",
       "2008-01-04  40.502460  10.556870  1.978718\n",
       "2008-01-07  41.129929  11.049277  0.809310\n",
       "2008-01-08  41.179138  10.975651  1.127195\n",
       "2008-01-09  41.708172  10.961845  1.706606"
      ]
     },
     "execution_count": 108,
     "metadata": {},
     "output_type": "execute_result"
    }
   ],
   "source": [
    "test['spread'] = test.JNJ - model.params[0]*test.NEE\n",
    "test.head()  "
   ]
  },
  {
   "cell_type": "code",
   "execution_count": 109,
   "metadata": {},
   "outputs": [],
   "source": [
    "def scaling(df):\n",
    "    original_index = df.index \n",
    "    scaled_data = sc.fit_transform(df) \n",
    "    scaled_df = pd.DataFrame(data=scaled_data, columns=df.columns)\n",
    "    scaled_df.index = original_index   \n",
    "    return scaled_data, scaled_df "
   ]
  },
  {
   "cell_type": "code",
   "execution_count": 110,
   "metadata": {},
   "outputs": [],
   "source": [
    "test_scale_data, test_scale_df =  scaling(test)   "
   ]
  },
  {
   "cell_type": "code",
   "execution_count": 111,
   "metadata": {},
   "outputs": [
    {
     "data": {
      "text/html": [
       "<div>\n",
       "<style scoped>\n",
       "    .dataframe tbody tr th:only-of-type {\n",
       "        vertical-align: middle;\n",
       "    }\n",
       "\n",
       "    .dataframe tbody tr th {\n",
       "        vertical-align: top;\n",
       "    }\n",
       "\n",
       "    .dataframe thead th {\n",
       "        text-align: right;\n",
       "    }\n",
       "</style>\n",
       "<table border=\"1\" class=\"dataframe\">\n",
       "  <thead>\n",
       "    <tr style=\"text-align: right;\">\n",
       "      <th></th>\n",
       "      <th>JNJ</th>\n",
       "      <th>NEE</th>\n",
       "      <th>spread</th>\n",
       "    </tr>\n",
       "    <tr>\n",
       "      <th>Date</th>\n",
       "      <th></th>\n",
       "      <th></th>\n",
       "      <th></th>\n",
       "    </tr>\n",
       "  </thead>\n",
       "  <tbody>\n",
       "    <tr>\n",
       "      <th>2008-01-03</th>\n",
       "      <td>-0.937325</td>\n",
       "      <td>-0.741555</td>\n",
       "      <td>-0.622249</td>\n",
       "    </tr>\n",
       "    <tr>\n",
       "      <th>2008-01-04</th>\n",
       "      <td>-0.939665</td>\n",
       "      <td>-0.702108</td>\n",
       "      <td>-0.873324</td>\n",
       "    </tr>\n",
       "    <tr>\n",
       "      <th>2008-01-07</th>\n",
       "      <td>-0.913138</td>\n",
       "      <td>-0.633663</td>\n",
       "      <td>-1.142459</td>\n",
       "    </tr>\n",
       "    <tr>\n",
       "      <th>2008-01-08</th>\n",
       "      <td>-0.911058</td>\n",
       "      <td>-0.643897</td>\n",
       "      <td>-1.069299</td>\n",
       "    </tr>\n",
       "    <tr>\n",
       "      <th>2008-01-09</th>\n",
       "      <td>-0.888692</td>\n",
       "      <td>-0.645816</td>\n",
       "      <td>-0.935949</td>\n",
       "    </tr>\n",
       "    <tr>\n",
       "      <th>...</th>\n",
       "      <td>...</td>\n",
       "      <td>...</td>\n",
       "      <td>...</td>\n",
       "    </tr>\n",
       "    <tr>\n",
       "      <th>2017-12-22</th>\n",
       "      <td>2.307266</td>\n",
       "      <td>2.429419</td>\n",
       "      <td>-2.117959</td>\n",
       "    </tr>\n",
       "    <tr>\n",
       "      <th>2017-12-26</th>\n",
       "      <td>2.306205</td>\n",
       "      <td>2.413351</td>\n",
       "      <td>-2.026654</td>\n",
       "    </tr>\n",
       "    <tr>\n",
       "      <th>2017-12-27</th>\n",
       "      <td>2.323193</td>\n",
       "      <td>2.451739</td>\n",
       "      <td>-2.166112</td>\n",
       "    </tr>\n",
       "    <tr>\n",
       "      <th>2017-12-28</th>\n",
       "      <td>2.322839</td>\n",
       "      <td>2.483284</td>\n",
       "      <td>-2.358629</td>\n",
       "    </tr>\n",
       "    <tr>\n",
       "      <th>2017-12-29</th>\n",
       "      <td>2.293107</td>\n",
       "      <td>2.478522</td>\n",
       "      <td>-2.491716</td>\n",
       "    </tr>\n",
       "  </tbody>\n",
       "</table>\n",
       "<p>2517 rows × 3 columns</p>\n",
       "</div>"
      ],
      "text/plain": [
       "                 JNJ       NEE    spread\n",
       "Date                                    \n",
       "2008-01-03 -0.937325 -0.741555 -0.622249\n",
       "2008-01-04 -0.939665 -0.702108 -0.873324\n",
       "2008-01-07 -0.913138 -0.633663 -1.142459\n",
       "2008-01-08 -0.911058 -0.643897 -1.069299\n",
       "2008-01-09 -0.888692 -0.645816 -0.935949\n",
       "...              ...       ...       ...\n",
       "2017-12-22  2.307266  2.429419 -2.117959\n",
       "2017-12-26  2.306205  2.413351 -2.026654\n",
       "2017-12-27  2.323193  2.451739 -2.166112\n",
       "2017-12-28  2.322839  2.483284 -2.358629\n",
       "2017-12-29  2.293107  2.478522 -2.491716\n",
       "\n",
       "[2517 rows x 3 columns]"
      ]
     },
     "execution_count": 111,
     "metadata": {},
     "output_type": "execute_result"
    }
   ],
   "source": [
    "test_scale_df  "
   ]
  },
  {
   "cell_type": "code",
   "execution_count": 112,
   "metadata": {},
   "outputs": [
    {
     "data": {
      "text/plain": [
       "array([-0.62224894, -0.87332382, -1.14245885, ..., -2.16611223,\n",
       "       -2.35862898, -2.49171613])"
      ]
     },
     "execution_count": 112,
     "metadata": {},
     "output_type": "execute_result"
    }
   ],
   "source": [
    "pair_data = test_scale_df['spread'].values \n",
    "pair_data  "
   ]
  },
  {
   "cell_type": "code",
   "execution_count": 113,
   "metadata": {},
   "outputs": [],
   "source": [
    "pair_x, pair_x_unseen = prepare_data_x(pair_data, window_size=window_size) \n",
    "pair_y = prepare_data_y(pair_data, window_size=window_size) "
   ]
  },
  {
   "cell_type": "code",
   "execution_count": 115,
   "metadata": {},
   "outputs": [
    {
     "name": "stdout",
     "output_type": "stream",
     "text": [
      "Shape of pair_x :  (2497, 20)\n",
      "Shape of pair_x_unseen :  (20,)\n",
      "Shape of pair_y :  (2497,)\n"
     ]
    }
   ],
   "source": [
    "print('Shape of pair_x : ',pair_x.shape)\n",
    "print('Shape of pair_x_unseen : ',pair_x_unseen.shape)\n",
    "print('Shape of pair_y : ',pair_y.shape) "
   ]
  },
  {
   "cell_type": "code",
   "execution_count": 116,
   "metadata": {},
   "outputs": [],
   "source": [
    "split_index = int(pair_y.shape[0]*0.80)\n",
    "pair_x_train = pair_x[:split_index] # Each array contains a list of 20 elements \n",
    "pair_x_val = pair_x[split_index:] \n",
    "pair_y_train = pair_y[:split_index] \n",
    "pair_y_val = pair_y[split_index:]   # This value is used for validation against predicted values "
   ]
  },
  {
   "cell_type": "code",
   "execution_count": 118,
   "metadata": {},
   "outputs": [
    {
     "name": "stdout",
     "output_type": "stream",
     "text": [
      "Length of pair_x_train :  1997\n",
      "Length of pair_x_val :  500\n",
      "Length of pair_y_train :  1997\n",
      "Length of pair_y_val :  500\n"
     ]
    }
   ],
   "source": [
    "print('Length of pair_x_train : ',len(pair_x_train))\n",
    "print('Length of pair_x_val : ',len(pair_x_val))\n",
    "print('Length of pair_y_train : ',len(pair_y_train)) \n",
    "print('Length of pair_y_val : ',len(pair_y_val)) "
   ]
  },
  {
   "cell_type": "code",
   "execution_count": 119,
   "metadata": {},
   "outputs": [
    {
     "name": "stdout",
     "output_type": "stream",
     "text": [
      "Train data shape :  (1997, 20, 1) (1997,)\n",
      "Validation data shape :  (500, 20, 1) (500,)\n"
     ]
    }
   ],
   "source": [
    "dataset_train = TimeSeriesDataset(pair_x_train, pair_y_train)\n",
    "dataset_val = TimeSeriesDataset(pair_x_val, pair_y_val) \n",
    "\n",
    "print(\"Train data shape : \",dataset_train.x.shape, dataset_train.y.shape)\n",
    "print(\"Validation data shape : \",dataset_val.x.shape, dataset_val.y.shape)\n",
    "\n",
    "train_dataloader = DataLoader(dataset_train, batch_size=64, shuffle=True)\n",
    "val_dataloader = DataLoader(dataset_val, batch_size=64, shuffle=True)  "
   ]
  },
  {
   "cell_type": "code",
   "execution_count": 120,
   "metadata": {},
   "outputs": [
    {
     "name": "stdout",
     "output_type": "stream",
     "text": [
      "Epoch[1/100] | loss train:0.055909, test:0.032857 | lr:0.010000\n",
      "Epoch[2/100] | loss train:0.016640, test:0.020699 | lr:0.010000\n",
      "Epoch[3/100] | loss train:0.015754, test:0.021338 | lr:0.010000\n",
      "Epoch[4/100] | loss train:0.013138, test:0.018006 | lr:0.010000\n",
      "Epoch[5/100] | loss train:0.012460, test:0.022878 | lr:0.010000\n",
      "Epoch[6/100] | loss train:0.013202, test:0.015589 | lr:0.010000\n",
      "Epoch[7/100] | loss train:0.014160, test:0.015961 | lr:0.010000\n",
      "Epoch[8/100] | loss train:0.012809, test:0.015561 | lr:0.010000\n",
      "Epoch[9/100] | loss train:0.014897, test:0.010044 | lr:0.010000\n",
      "Epoch[10/100] | loss train:0.013586, test:0.010707 | lr:0.010000\n",
      "Epoch[11/100] | loss train:0.013519, test:0.016922 | lr:0.010000\n",
      "Epoch[12/100] | loss train:0.011927, test:0.010920 | lr:0.010000\n",
      "Epoch[13/100] | loss train:0.012235, test:0.009697 | lr:0.010000\n",
      "Epoch[14/100] | loss train:0.014817, test:0.017935 | lr:0.010000\n",
      "Epoch[15/100] | loss train:0.013591, test:0.013747 | lr:0.010000\n",
      "Epoch[16/100] | loss train:0.013031, test:0.012626 | lr:0.010000\n",
      "Epoch[17/100] | loss train:0.012754, test:0.011259 | lr:0.010000\n",
      "Epoch[18/100] | loss train:0.012498, test:0.011446 | lr:0.010000\n",
      "Epoch[19/100] | loss train:0.011740, test:0.027996 | lr:0.010000\n",
      "Epoch[20/100] | loss train:0.014509, test:0.018890 | lr:0.010000\n",
      "Epoch[21/100] | loss train:0.012471, test:0.013629 | lr:0.010000\n",
      "Epoch[22/100] | loss train:0.011246, test:0.012604 | lr:0.010000\n",
      "Epoch[23/100] | loss train:0.012200, test:0.014271 | lr:0.010000\n",
      "Epoch[24/100] | loss train:0.011459, test:0.009991 | lr:0.010000\n",
      "Epoch[25/100] | loss train:0.011147, test:0.014133 | lr:0.010000\n",
      "Epoch[26/100] | loss train:0.014872, test:0.015833 | lr:0.010000\n",
      "Epoch[27/100] | loss train:0.012976, test:0.015182 | lr:0.010000\n",
      "Epoch[28/100] | loss train:0.013135, test:0.012752 | lr:0.010000\n",
      "Epoch[29/100] | loss train:0.014645, test:0.013136 | lr:0.010000\n",
      "Epoch[30/100] | loss train:0.012836, test:0.009944 | lr:0.010000\n",
      "Epoch[31/100] | loss train:0.014576, test:0.023562 | lr:0.010000\n",
      "Epoch[32/100] | loss train:0.013045, test:0.011953 | lr:0.010000\n",
      "Epoch[33/100] | loss train:0.012720, test:0.010877 | lr:0.010000\n",
      "Epoch[34/100] | loss train:0.013488, test:0.010268 | lr:0.010000\n",
      "Epoch[35/100] | loss train:0.013804, test:0.020314 | lr:0.010000\n",
      "Epoch[36/100] | loss train:0.011775, test:0.025035 | lr:0.010000\n",
      "Epoch[37/100] | loss train:0.013012, test:0.017220 | lr:0.010000\n",
      "Epoch[38/100] | loss train:0.012743, test:0.012336 | lr:0.010000\n",
      "Epoch[39/100] | loss train:0.012107, test:0.016575 | lr:0.010000\n",
      "Epoch[40/100] | loss train:0.013947, test:0.014405 | lr:0.010000\n",
      "Epoch[41/100] | loss train:0.012435, test:0.013927 | lr:0.001000\n",
      "Epoch[42/100] | loss train:0.010781, test:0.014534 | lr:0.001000\n",
      "Epoch[43/100] | loss train:0.011117, test:0.013797 | lr:0.001000\n",
      "Epoch[44/100] | loss train:0.010171, test:0.015309 | lr:0.001000\n",
      "Epoch[45/100] | loss train:0.012417, test:0.013727 | lr:0.001000\n",
      "Epoch[46/100] | loss train:0.011326, test:0.013502 | lr:0.001000\n",
      "Epoch[47/100] | loss train:0.010998, test:0.013112 | lr:0.001000\n",
      "Epoch[48/100] | loss train:0.010938, test:0.012359 | lr:0.001000\n",
      "Epoch[49/100] | loss train:0.010930, test:0.013062 | lr:0.001000\n",
      "Epoch[50/100] | loss train:0.010849, test:0.012788 | lr:0.001000\n",
      "Epoch[51/100] | loss train:0.010860, test:0.011396 | lr:0.001000\n",
      "Epoch[52/100] | loss train:0.010497, test:0.012217 | lr:0.001000\n",
      "Epoch[53/100] | loss train:0.011134, test:0.011257 | lr:0.001000\n",
      "Epoch[54/100] | loss train:0.010805, test:0.011381 | lr:0.001000\n",
      "Epoch[55/100] | loss train:0.010883, test:0.011422 | lr:0.001000\n",
      "Epoch[56/100] | loss train:0.011564, test:0.011924 | lr:0.001000\n",
      "Epoch[57/100] | loss train:0.010569, test:0.011374 | lr:0.001000\n",
      "Epoch[58/100] | loss train:0.011927, test:0.012608 | lr:0.001000\n",
      "Epoch[59/100] | loss train:0.010776, test:0.013900 | lr:0.001000\n",
      "Epoch[60/100] | loss train:0.011312, test:0.011195 | lr:0.001000\n",
      "Epoch[61/100] | loss train:0.011946, test:0.011169 | lr:0.001000\n",
      "Epoch[62/100] | loss train:0.013591, test:0.010915 | lr:0.001000\n",
      "Epoch[63/100] | loss train:0.011313, test:0.011479 | lr:0.001000\n",
      "Epoch[64/100] | loss train:0.010820, test:0.011254 | lr:0.001000\n",
      "Epoch[65/100] | loss train:0.011001, test:0.011413 | lr:0.001000\n",
      "Epoch[66/100] | loss train:0.013724, test:0.011621 | lr:0.001000\n",
      "Epoch[67/100] | loss train:0.011393, test:0.010452 | lr:0.001000\n",
      "Epoch[68/100] | loss train:0.010823, test:0.011825 | lr:0.001000\n",
      "Epoch[69/100] | loss train:0.009826, test:0.012303 | lr:0.001000\n",
      "Epoch[70/100] | loss train:0.010750, test:0.012419 | lr:0.001000\n",
      "Epoch[71/100] | loss train:0.010875, test:0.011636 | lr:0.001000\n",
      "Epoch[72/100] | loss train:0.010435, test:0.012411 | lr:0.001000\n",
      "Epoch[73/100] | loss train:0.010843, test:0.010590 | lr:0.001000\n",
      "Epoch[74/100] | loss train:0.010881, test:0.012546 | lr:0.001000\n",
      "Epoch[75/100] | loss train:0.010355, test:0.012838 | lr:0.001000\n",
      "Epoch[76/100] | loss train:0.011301, test:0.012040 | lr:0.001000\n",
      "Epoch[77/100] | loss train:0.010486, test:0.012332 | lr:0.001000\n",
      "Epoch[78/100] | loss train:0.010911, test:0.012328 | lr:0.001000\n",
      "Epoch[79/100] | loss train:0.011501, test:0.010753 | lr:0.001000\n",
      "Epoch[80/100] | loss train:0.011449, test:0.010580 | lr:0.001000\n",
      "Epoch[81/100] | loss train:0.010945, test:0.011826 | lr:0.000100\n",
      "Epoch[82/100] | loss train:0.010831, test:0.011512 | lr:0.000100\n",
      "Epoch[83/100] | loss train:0.009719, test:0.011478 | lr:0.000100\n",
      "Epoch[84/100] | loss train:0.010884, test:0.011219 | lr:0.000100\n",
      "Epoch[85/100] | loss train:0.009579, test:0.011077 | lr:0.000100\n",
      "Epoch[86/100] | loss train:0.009905, test:0.011314 | lr:0.000100\n",
      "Epoch[87/100] | loss train:0.010821, test:0.011242 | lr:0.000100\n",
      "Epoch[88/100] | loss train:0.011317, test:0.011283 | lr:0.000100\n",
      "Epoch[89/100] | loss train:0.010196, test:0.011832 | lr:0.000100\n",
      "Epoch[90/100] | loss train:0.010006, test:0.011316 | lr:0.000100\n",
      "Epoch[91/100] | loss train:0.010739, test:0.011617 | lr:0.000100\n",
      "Epoch[92/100] | loss train:0.010132, test:0.011756 | lr:0.000100\n",
      "Epoch[93/100] | loss train:0.011867, test:0.011903 | lr:0.000100\n",
      "Epoch[94/100] | loss train:0.010687, test:0.011513 | lr:0.000100\n",
      "Epoch[95/100] | loss train:0.012400, test:0.011216 | lr:0.000100\n",
      "Epoch[96/100] | loss train:0.010818, test:0.011605 | lr:0.000100\n",
      "Epoch[97/100] | loss train:0.010326, test:0.011337 | lr:0.000100\n",
      "Epoch[98/100] | loss train:0.010697, test:0.011353 | lr:0.000100\n",
      "Epoch[99/100] | loss train:0.011258, test:0.011828 | lr:0.000100\n",
      "Epoch[100/100] | loss train:0.009827, test:0.011550 | lr:0.000100\n"
     ]
    }
   ],
   "source": [
    "train_dataloader = DataLoader(dataset_train, batch_size=64, shuffle=True)\n",
    "val_dataloader = DataLoader(dataset_val, batch_size=64, shuffle=True)\n",
    "\n",
    "model = LSTMModel(input_size=1, hidden_layer_size=32, num_layers=2, output_size=1, dropout=0.2)\n",
    "model = model.to('cpu') \n",
    "\n",
    "criterion = nn.MSELoss()\n",
    "optimizer = optim.Adam(model.parameters(), lr=0.01, betas=(0.9, 0.98), eps=1e-9)\n",
    "scheduler = optim.lr_scheduler.StepLR(optimizer, step_size=40, gamma=0.1)\n",
    "\n",
    "for epoch in range(100):\n",
    "    loss_train, lr_train = run_epoch(train_dataloader, is_training=True)\n",
    "    loss_val, lr_val = run_epoch(val_dataloader)\n",
    "    scheduler.step()\n",
    "    \n",
    "    print('Epoch[{}/{}] | loss train:{:.6f}, test:{:.6f} | lr:{:.6f}'\n",
    "              .format(epoch+1, 100, loss_train, loss_val, lr_train))  "
   ]
  },
  {
   "cell_type": "code",
   "execution_count": 121,
   "metadata": {},
   "outputs": [
    {
     "data": {
      "text/plain": [
       "LSTMModel(\n",
       "  (linear_1): Linear(in_features=1, out_features=32, bias=True)\n",
       "  (relu): ReLU()\n",
       "  (lstm): LSTM(32, 32, num_layers=2, batch_first=True)\n",
       "  (dropout): Dropout(p=0.2, inplace=False)\n",
       "  (linear_2): Linear(in_features=64, out_features=1, bias=True)\n",
       ")"
      ]
     },
     "execution_count": 121,
     "metadata": {},
     "output_type": "execute_result"
    }
   ],
   "source": [
    "train_dataloader = DataLoader(dataset_train, batch_size=64, shuffle=False)\n",
    "val_dataloader = DataLoader(dataset_val, batch_size=64, shuffle=False)\n",
    "\n",
    "model.eval() "
   ]
  },
  {
   "cell_type": "code",
   "execution_count": 122,
   "metadata": {},
   "outputs": [],
   "source": [
    "# predict on the training data, to see how well the model managed to learn and memorize\n",
    "\n",
    "predicted_train = np.array([])\n",
    "\n",
    "for idx, (x, y) in enumerate(train_dataloader):\n",
    "    x = x.to('cpu') \n",
    "    out = model(x) \n",
    "    out = out.cpu().detach().numpy()\n",
    "    predicted_train = np.concatenate((predicted_train, out)) \n"
   ]
  },
  {
   "cell_type": "code",
   "execution_count": 123,
   "metadata": {},
   "outputs": [],
   "source": [
    "# predict on the validation data, to see how the model does\n",
    "\n",
    "predicted_val = np.array([])\n",
    "\n",
    "for idx, (x, y) in enumerate(val_dataloader):\n",
    "    x = x.to('cpu') \n",
    "    out = model(x)\n",
    "    out = out.cpu().detach().numpy()\n",
    "    predicted_val = np.concatenate((predicted_val, out))  "
   ]
  },
  {
   "cell_type": "code",
   "execution_count": 125,
   "metadata": {},
   "outputs": [
    {
     "data": {
      "image/png": "[encoded data removed]",
      "text/plain": [
       "<Figure size 800x400 with 1 Axes>"
      ]
     },
     "metadata": {},
     "output_type": "display_data"
    }
   ],
   "source": [
    "fig = figure(figsize=(10,5), dpi=80) \n",
    "fig.patch.set_facecolor((1.0,1.0,1.0)) \n",
    "\n",
    "plt.plot(pair_y_train, label='Actual Train Data', color=\"#001f3f\")\n",
    "plt.plot(predicted_train, label='Predicted Train Data', color=\"olive\") \n",
    "\n",
    " \n",
    "display_date_range = \"from \"+str(x_train.index.min().date())+\" to \"+str(x_train.index.max().date())\n",
    "\n",
    "plt.xlabel('Dates') \n",
    "plt.ylabel('Prices') \n",
    "plt.title(\"Daily close price for JNJ-NEE\"+\", \"+display_date_range)\n",
    "plt.grid(visible=True, which='major', axis='y', linestyle='--')\n",
    "plt.show()    "
   ]
  },
  {
   "cell_type": "code",
   "execution_count": 126,
   "metadata": {},
   "outputs": [
    {
     "data": {
      "image/png": "[encoded data removed]",
      "text/plain": [
       "<Figure size 800x400 with 1 Axes>"
      ]
     },
     "metadata": {},
     "output_type": "display_data"
    }
   ],
   "source": [
    "fig = figure(figsize=(10,5), dpi=80) \n",
    "fig.patch.set_facecolor((1.0,1.0,1.0)) \n",
    "\n",
    "plt.plot(x_test.index, pair_y_val, label='Actual Test Data', color=\"#001f3f\")\n",
    "plt.plot(x_test.index, predicted_val, label='Predicted Test Data', color=\"olive\") \n",
    "\n",
    "xticks = (x_test.index[i] if ((i%180==0) or i==len(x_test.index)-1) else None for i in range(len(x_test.index))) \n",
    " \n",
    "display_date_range = \"from \"+str(x_test.index.min().date())+\" to \"+str(x_test.index.max().date())\n",
    "\n",
    "\n",
    "xlticks = list(xticks)\n",
    "x = np.arange(0,len(xlticks)) \n",
    "plt.xticks(ticks=xlticks, labels=[date for date in xlticks], ha='center')\n",
    " \n",
    "plt.xlabel('Dates') \n",
    "plt.ylabel('Prices') \n",
    "plt.title(\"Daily close price for JNJ\"+\", \"+display_date_range)\n",
    "plt.grid(visible=True, which='major', axis='y', linestyle='--')\n",
    "plt.show()   "
   ]
  },
  {
   "cell_type": "code",
   "execution_count": null,
   "metadata": {},
   "outputs": [],
   "source": []
  }
 ],
 "metadata": {
  "kernelspec": {
   "display_name": "pyten",
   "language": "python",
   "name": "python3"
  },
  "language_info": {
   "codemirror_mode": {
    "name": "ipython",
    "version": 3
   },
   "file_extension": ".py",
   "mimetype": "text/x-python",
   "name": "python",
   "nbconvert_exporter": "python",
   "pygments_lexer": "ipython3",
   "version": "3.10.14"
  }
 },
 "nbformat": 4,
 "nbformat_minor": 2
}
